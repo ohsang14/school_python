{
  "nbformat": 4,
  "nbformat_minor": 0,
  "metadata": {
    "colab": {
      "provenance": [],
      "authorship_tag": "ABX9TyO4mYb/lRrOqG9GMWwg7nN1",
      "include_colab_link": true
    },
    "kernelspec": {
      "name": "python3",
      "display_name": "Python 3"
    },
    "language_info": {
      "name": "python"
    }
  },
  "cells": [
    {
      "cell_type": "markdown",
      "metadata": {
        "id": "view-in-github",
        "colab_type": "text"
      },
      "source": [
        "<a href=\"https://colab.research.google.com/github/ohsang14/school_python/blob/main/11%EC%9B%94_12%EC%9D%BC.ipynb\" target=\"_parent\"><img src=\"https://colab.research.google.com/assets/colab-badge.svg\" alt=\"Open In Colab\"/></a>"
      ]
    },
    {
      "cell_type": "code",
      "execution_count": 1,
      "metadata": {
        "colab": {
          "base_uri": "https://localhost:8080/"
        },
        "id": "udJICWnK5PdG",
        "outputId": "31e662bf-7e3b-4e9f-d798-bdfbdec09081"
      },
      "outputs": [
        {
          "output_type": "stream",
          "name": "stdout",
          "text": [
            "Requirement already satisfied: BeautifulSoup4 in /usr/local/lib/python3.10/dist-packages (4.12.3)\n",
            "Requirement already satisfied: soupsieve>1.2 in /usr/local/lib/python3.10/dist-packages (from BeautifulSoup4) (2.6)\n"
          ]
        }
      ],
      "source": [
        "!pip install BeautifulSoup4"
      ]
    },
    {
      "cell_type": "code",
      "source": [
        "!pip install requests"
      ],
      "metadata": {
        "colab": {
          "base_uri": "https://localhost:8080/"
        },
        "id": "27YDpBSB7kfx",
        "outputId": "d46f3b28-faae-43fa-cfaa-c0045db28d36"
      },
      "execution_count": 2,
      "outputs": [
        {
          "output_type": "stream",
          "name": "stdout",
          "text": [
            "Requirement already satisfied: requests in /usr/local/lib/python3.10/dist-packages (2.32.3)\n",
            "Requirement already satisfied: charset-normalizer<4,>=2 in /usr/local/lib/python3.10/dist-packages (from requests) (3.4.0)\n",
            "Requirement already satisfied: idna<4,>=2.5 in /usr/local/lib/python3.10/dist-packages (from requests) (3.10)\n",
            "Requirement already satisfied: urllib3<3,>=1.21.1 in /usr/local/lib/python3.10/dist-packages (from requests) (2.2.3)\n",
            "Requirement already satisfied: certifi>=2017.4.17 in /usr/local/lib/python3.10/dist-packages (from requests) (2024.8.30)\n"
          ]
        }
      ]
    },
    {
      "cell_type": "code",
      "source": [
        "import requests\n",
        "from bs4 import BeautifulSoup as bs\n",
        "\n"
      ],
      "metadata": {
        "id": "bQXMqZFG7qlg"
      },
      "execution_count": 3,
      "outputs": []
    },
    {
      "cell_type": "code",
      "source": [
        "import requests\n",
        "from bs4 import BeautifulSoup as bs\n",
        "\n",
        "page = requests.get(\"https://www.daangn.com/kr/?in=%EB%B6%81%EA%B5%AC-742\")\n",
        "soup = bs(page.content,\"html.parser\")\n",
        "\n",
        "print(soup.h2)\n",
        "print('-------------------------')\n",
        "print(soup.h2.string)\n",
        "print(soup.h2.text)"
      ],
      "metadata": {
        "colab": {
          "base_uri": "https://localhost:8080/"
        },
        "id": "GRhYPsfe9b6T",
        "outputId": "12a680a2-8050-4c90-9e5d-5147811c522d"
      },
      "execution_count": 5,
      "outputs": [
        {
          "output_type": "stream",
          "name": "stdout",
          "text": [
            "<h2 class=\"_12vdq0bw _12vdq0bv _588sy422 _588sy42a _588sy41y _12vdq0bx\">동네 주민들과 가깝고 따뜻한 거래를\n",
            "지금 경험해보세요.</h2>\n",
            "-------------------------\n",
            "동네 주민들과 가깝고 따뜻한 거래를\n",
            "지금 경험해보세요.\n",
            "동네 주민들과 가깝고 따뜻한 거래를\n",
            "지금 경험해보세요.\n"
          ]
        }
      ]
    },
    {
      "cell_type": "code",
      "source": [
        "import requests\n",
        "from bs4 import BeautifulSoup as bs\n",
        "\n",
        "page = requests.get(\"https://www.daangn.com/kr/?in=%EB%B6%81%EA%B5%AC-742\")\n",
        "soup = bs(page.content,\"html.parser\")\n",
        "\n",
        "print(soup.h2)\n",
        "print(soup.find('h2'))\n",
        "print(soup.find('h2').text)\n",
        "print('-------------------------')\n",
        "# a태그 , data- keyword 추출\n",
        "print(soup.find('a',{'class': 'order-keyword-type'}))\n"
      ],
      "metadata": {
        "colab": {
          "base_uri": "https://localhost:8080/"
        },
        "id": "lgOxRAmNDp0w",
        "outputId": "5e52a894-0742-4dd2-adaf-59e2fbb35bdc"
      },
      "execution_count": 6,
      "outputs": [
        {
          "output_type": "stream",
          "name": "stdout",
          "text": [
            "<h2 class=\"_12vdq0bw _12vdq0bv _588sy422 _588sy42a _588sy41y _12vdq0bx\">동네 주민들과 가깝고 따뜻한 거래를\n",
            "지금 경험해보세요.</h2>\n",
            "<h2 class=\"_12vdq0bw _12vdq0bv _588sy422 _588sy42a _588sy41y _12vdq0bx\">동네 주민들과 가깝고 따뜻한 거래를\n",
            "지금 경험해보세요.</h2>\n",
            "동네 주민들과 가깝고 따뜻한 거래를\n",
            "지금 경험해보세요.\n",
            "-------------------------\n",
            "None\n"
          ]
        }
      ]
    },
    {
      "cell_type": "code",
      "source": [
        "import requests\n",
        "from bs4 import BeautifulSoup as bs\n",
        "\n",
        "page = requests.get(\"https://www.daangn.com/kr/?in=%EB%B6%81%EA%B5%AC-742\")\n",
        "soup = bs(page.content, \"html.parser\")\n",
        "\n",
        "print(soup.find_all(\"a\"))\n",
        "print(len(soup.find_all(\"a\")))\n",
        "print(\"------------------------\")\n",
        "a1 = soup.find_all(\"a\", attrs={\"data-type\": \"popular\"})\n",
        "\n",
        "for i in a1:\n",
        "    print(i.get_text())"
      ],
      "metadata": {
        "colab": {
          "base_uri": "https://localhost:8080/"
        },
        "id": "aB0PZqsKDqHF",
        "outputId": "674039e7-a5bd-490b-f77e-13ed013fb920"
      },
      "execution_count": 7,
      "outputs": [
        {
          "output_type": "stream",
          "name": "stdout",
          "text": [
            "[<a class=\"_588sy4198 _588sy41x _588sy41b8 _588sy4c _5p9zrn1 _5p9zrn0 _588sy4d8 _588sy4ge _588sy4n8 _588sy4k2 _588sy411 g4yoac0\" href=\"#main-content\">본문 바로가기</a>, <a aria-label=\"당근\" class=\"_19604ikc _588sy42q _588sy415q _588sy41n\" data-gtm=\"gnb_logo\" href=\"/kr/?in=%EB%B6%81%EA%B5%AC-742\"><svg fill=\"none\" viewbox=\"0 0 203 114\" width=\"64\" xmlns=\"http://www.w3.org/2000/svg\"><path d=\"M29.2342 36.8953C13.0894 36.8953 0 49.695 0 65.8547C0 88.1823 29.3182 100.03 29.2342 99.998C29.1543 100.03 58.4685 88.1823 58.4685 65.8547C58.4685 49.707 45.3791 36.8953 29.2342 36.8953ZM29.2342 77.5785C27.045 77.5769 24.9054 76.9261 23.0859 75.7084C21.2665 74.4906 19.8489 72.7607 19.0124 70.7372C18.1759 68.7137 17.958 66.4876 18.3864 64.3403C18.8148 62.193 19.8701 60.221 21.4189 58.6735C22.9678 57.1261 24.9406 56.0727 27.088 55.6466C29.2354 55.2205 31.4609 55.4408 33.4831 56.2796C35.5053 57.1184 37.2334 58.5382 38.449 60.3593C39.6645 62.1804 40.3128 64.3211 40.3121 66.5107C40.3147 67.9668 40.03 69.4091 39.4743 70.755C38.9186 72.1009 38.1029 73.324 37.0738 74.354C36.0447 75.384 34.8225 76.2008 33.4773 76.7575C32.132 77.3143 30.6901 77.6 29.2342 77.5985V77.5785Z\" fill=\"#FF6F0F\"></path><path d=\"M35.8169 0C28.9943 0 24.2432 4.76791 23.4953 10.3998C14.4011 7.88784 7.27454 14.7997 7.27454 22.3996C7.27454 28.2194 11.2737 32.9193 16.6047 34.4473C20.9038 35.6753 28.6463 34.7593 28.6463 34.7593C28.6063 32.8794 30.338 30.8154 33.0095 28.9354C40.608 23.5915 46.5508 21.0716 47.4666 13.7837C48.4264 6.15989 42.7675 0 35.8169 0Z\" fill=\"#00A05B\"></path><path d=\"M116.493 46.963C110.318 48.903 99.6284 49.935 89.5864 49.935V37.7192H110.326V28.6234H78.4646V59.5988C95.8892 59.5988 111.102 57.4989 117.525 55.5109L116.493 46.963Z\" fill=\"#FF6F0F\"></path><path d=\"M131.134 24.9995H120.028V60.6108H131.134V49.447H140.092V39.7312H131.134V24.9995Z\" fill=\"#FF6F0F\"></path><path d=\"M110.506 60.5268C98.7405 60.5268 90.1102 67.0107 90.1102 76.5265C90.1102 86.0423 98.7485 92.5262 110.506 92.5262C122.264 92.5262 130.902 86.0383 130.902 76.5265C130.902 67.0147 122.272 60.5268 110.506 60.5268ZM110.506 83.6184C105.203 83.6184 101.224 81.0744 101.224 76.5105C101.224 71.9466 105.203 69.4067 110.506 69.4067C115.809 69.4067 119.788 71.9506 119.788 76.5105C119.788 81.0704 115.813 83.6184 110.506 83.6184Z\" fill=\"#FF6F0F\"></path><path d=\"M161.72 65.2507H150.366V89.3422H195.494V79.8064H161.72V65.2507Z\" fill=\"#FF6F0F\"></path><path d=\"M194.086 27.9714H149.854V37.5073H182.936C182.936 39.8752 183.048 45.5071 181.964 51.907H141.396V61.7708H202.984V51.923H192.01C193.482 43.8351 193.902 37.5312 194.086 27.9714Z\" fill=\"#FF6F0F\"></path></svg></a>, <a class=\"_15w63pm5 _15w63pm3 _15w63pm4 _588sy4de _588sy4gk _588sy4n2 _588sy4jw _588sy42k\" data-gtm=\"gnb_menu\" href=\"/kr/buy-sell/?in=%EB%B6%81%EA%B5%AC-742\">중고거래</a>, <a class=\"_15w63pm5 _15w63pm3 _15w63pm4 _588sy4de _588sy4gk _588sy4n2 _588sy4jw _588sy42k\" data-gtm=\"gnb_menu\" href=\"/kr/realty/?in=%EB%B6%81%EA%B5%AC-742\">부\u0000동산</a>, <a class=\"_15w63pm5 _15w63pm3 _15w63pm4 _588sy4de _588sy4gk _588sy4n2 _588sy4jw _588sy42k\" data-gtm=\"gnb_menu\" href=\"/kr/cars/?in=%EB%B6%81%EA%B5%AC-742\">중고차</a>, <a class=\"_15w63pmg _15w63pm3 _15w63pmf _588sy4de _588sy4gk _588sy42q _588sy415q _588sy412k _588sy4n2 _588sy4jk\" data-gtm=\"gnb_menu\" href=\"/kr/jobs/?in=%EB%B6%81%EA%B5%AC-742\">알바</a>, <a class=\"_15w63pm5 _15w63pm3 _15w63pm4 _588sy4de _588sy4gk _588sy4n2 _588sy4jw _588sy42k\" data-gtm=\"gnb_menu\" href=\"/kr/local-profile/?in=%EB%B6%81%EA%B5%AC-742\">동네업체</a>, <a class=\"_15w63pm5 _15w63pm3 _15w63pm4 _588sy4de _588sy4gk _588sy4n2 _588sy4jw _588sy42k\" data-gtm=\"gnb_menu\" href=\"/kr/community/?in=%EB%B6%81%EA%B5%AC-742\">동네생활</a>, <a class=\"_15w63pm5 _15w63pm3 _15w63pm4 _588sy4de _588sy4gk _588sy4n2 _588sy4jw _588sy42k\" data-gtm=\"gnb_menu\" href=\"/kr/group/?in=%EB%B6%81%EA%B5%AC-742\">모임</a>, <a class=\"click_search_keyword _1drzfoeg _1drzfoef _588sy4n2 _588sy4mn _588sy4jw _588sy4jh _588sy42q _588sy415q _588sy4192 _588sy41n _588sy4ak\" data-gtm=\"gnb_popular_keyword\" data-keyword=\"아이폰\" data-order=\"1\" data-type=\"popular\" href=\"/kr/buy-sell/?in=%EB%B6%81%EA%B5%AC-742&amp;search=%EC%95%84%EC%9D%B4%ED%8F%B0\">아이폰</a>, <a class=\"click_search_keyword _1drzfoeg _1drzfoef _588sy4n2 _588sy4mn _588sy4jw _588sy4jh _588sy42q _588sy415q _588sy4192 _588sy41n _588sy4ak\" data-gtm=\"gnb_popular_keyword\" data-keyword=\"의자\" data-order=\"2\" data-type=\"popular\" href=\"/kr/buy-sell/?in=%EB%B6%81%EA%B5%AC-742&amp;search=%EC%9D%98%EC%9E%90\">의자</a>, <a class=\"click_search_keyword _1drzfoeg _1drzfoef _588sy4n2 _588sy4mn _588sy4jw _588sy4jh _588sy42q _588sy415q _588sy4192 _588sy41n _588sy4ak\" data-gtm=\"gnb_popular_keyword\" data-keyword=\"자전거\" data-order=\"3\" data-type=\"popular\" href=\"/kr/buy-sell/?in=%EB%B6%81%EA%B5%AC-742&amp;search=%EC%9E%90%EC%A0%84%EA%B1%B0\">자전거</a>, <a class=\"click_search_keyword _1drzfoeg _1drzfoef _588sy4n2 _588sy4mn _588sy4jw _588sy4jh _588sy42q _588sy415q _588sy4192 _588sy41n _588sy4ak\" data-gtm=\"gnb_popular_keyword\" data-keyword=\"컴퓨터\" data-order=\"4\" data-type=\"popular\" href=\"/kr/buy-sell/?in=%EB%B6%81%EA%B5%AC-742&amp;search=%EC%BB%B4%ED%93%A8%ED%84%B0\">컴퓨터</a>, <a class=\"click_search_keyword _1drzfoeg _1drzfoef _588sy4n2 _588sy4mn _588sy4jw _588sy4jh _588sy42q _588sy415q _588sy4192 _588sy41n _588sy4ak\" data-gtm=\"gnb_popular_keyword\" data-keyword=\"책상\" data-order=\"5\" data-type=\"popular\" href=\"/kr/buy-sell/?in=%EB%B6%81%EA%B5%AC-742&amp;search=%EC%B1%85%EC%83%81\">책상</a>, <a class=\"click_search_keyword _1drzfoeg _1drzfoef _588sy4n2 _588sy4mn _588sy4jw _588sy4jh _588sy42q _588sy415q _588sy4192 _588sy41n _588sy4ak\" data-gtm=\"gnb_popular_keyword\" data-keyword=\"소파\" data-order=\"6\" data-type=\"popular\" href=\"/kr/buy-sell/?in=%EB%B6%81%EA%B5%AC-742&amp;search=%EC%86%8C%ED%8C%8C\">소파</a>, <a class=\"click_search_keyword _1drzfoeg _1drzfoef _588sy4n2 _588sy4mn _588sy4jw _588sy4jh _588sy42q _588sy415q _588sy4192 _588sy41n _588sy4ak\" data-gtm=\"gnb_popular_keyword\" data-keyword=\"원피스\" data-order=\"7\" data-type=\"popular\" href=\"/kr/buy-sell/?in=%EB%B6%81%EA%B5%AC-742&amp;search=%EC%9B%90%ED%94%BC%EC%8A%A4\">원피스</a>, <a class=\"click_search_keyword _1drzfoeg _1drzfoef _588sy4n2 _588sy4mn _588sy4jw _588sy4jh _588sy42q _588sy415q _588sy4192 _588sy41n _588sy4ak\" data-gtm=\"gnb_popular_keyword\" data-keyword=\"전기자전거\" data-order=\"8\" data-type=\"popular\" href=\"/kr/buy-sell/?in=%EB%B6%81%EA%B5%AC-742&amp;search=%EC%A0%84%EA%B8%B0%EC%9E%90%EC%A0%84%EA%B1%B0\">전기자전거</a>, <a class=\"click_search_keyword _1drzfoeg _1drzfoef _588sy4n2 _588sy4mn _588sy4jw _588sy4jh _588sy42q _588sy415q _588sy4192 _588sy41n _588sy4ak\" data-gtm=\"gnb_popular_keyword\" data-keyword=\"식탁\" data-order=\"9\" data-type=\"popular\" href=\"/kr/buy-sell/?in=%EB%B6%81%EA%B5%AC-742&amp;search=%EC%8B%9D%ED%83%81\">식탁</a>, <a class=\"click_search_keyword _1drzfoeg _1drzfoef _588sy4n2 _588sy4mn _588sy4jw _588sy4jh _588sy42q _588sy415q _588sy4192 _588sy41n _588sy4ak\" data-gtm=\"gnb_popular_keyword\" data-keyword=\"모니터\" data-order=\"10\" data-type=\"popular\" href=\"/kr/buy-sell/?in=%EB%B6%81%EA%B5%AC-742&amp;search=%EB%AA%A8%EB%8B%88%ED%84%B0\">모니터</a>, <a data-gtm=\"main_popular_category\" href=\"/kr/buy-sell/all/?category_id=1&amp;in=%EB%B6%81%EA%B5%AC-742\"><article class=\"_1xxhs21p _1xxhs21l _1xxhs21o _588sy42q _588sy49e _588sy4172 _588sy412w _588sy415q _1xxhs21r _1xxhs21j\"><div class=\"_1xxhs21u _1xxhs21t _588sy41b _588sy49e _588sy462\"><noscript><span class=\"_1xxhs21w _1xxhs21v _588sy49k _588sy41p _588sy41s _588sy462 _588sy498\"><img alt=\"thumbnail\" class=\"_1xxhs21y _1xxhs21x _588sy462 _588sy498\" src=\"https://dnvefa72aowie.cloudfront.net/origin/etc/202403/d29808aa01c0a41269248321a456abe2abe0c66e390dd54cc3db0faa50bf8c4b.png\"/></span></noscript><span class=\"_1xxhs21w _1xxhs21v _588sy49k _588sy41p _588sy41s _588sy462 _588sy498 lazy-load-image-background opacity\" style=\"color:transparent;display:inline-block\"><span class=\"_1xxhs21y _1xxhs21x _588sy462 _588sy498\" style=\"display:inline-block\"></span></span></div><div><div class=\"_1xxhs2110 _1xxhs21n _1xxhs21z _588sy41 _588sy41y _588sy418e\">디지털기기</div></div></article></a>, <a data-gtm=\"main_popular_category\" href=\"/kr/buy-sell/all/?category_id=172&amp;in=%EB%B6%81%EA%B5%AC-742\"><article class=\"_1xxhs21p _1xxhs21l _1xxhs21o _588sy42q _588sy49e _588sy4172 _588sy412w _588sy415q _1xxhs21r _1xxhs21j\"><div class=\"_1xxhs21u _1xxhs21t _588sy41b _588sy49e _588sy462\"><noscript><span class=\"_1xxhs21w _1xxhs21v _588sy49k _588sy41p _588sy41s _588sy462 _588sy498\"><img alt=\"thumbnail\" class=\"_1xxhs21y _1xxhs21x _588sy462 _588sy498\" src=\"https://dnvefa72aowie.cloudfront.net/origin/etc/202403/8999c0c18e64026e11b7859fcd1ca85142b8de45ba6c29b8d886c2841d7a2eaa.png\"/></span></noscript><span class=\"_1xxhs21w _1xxhs21v _588sy49k _588sy41p _588sy41s _588sy462 _588sy498 lazy-load-image-background opacity\" style=\"color:transparent;display:inline-block\"><span class=\"_1xxhs21y _1xxhs21x _588sy462 _588sy498\" style=\"display:inline-block\"></span></span></div><div><div class=\"_1xxhs2110 _1xxhs21n _1xxhs21z _588sy41 _588sy41y _588sy418e\">생활가전</div></div></article></a>, <a data-gtm=\"main_popular_category\" href=\"/kr/buy-sell/all/?category_id=8&amp;in=%EB%B6%81%EA%B5%AC-742\"><article class=\"_1xxhs21p _1xxhs21l _1xxhs21o _588sy42q _588sy49e _588sy4172 _588sy412w _588sy415q _1xxhs21r _1xxhs21j\"><div class=\"_1xxhs21u _1xxhs21t _588sy41b _588sy49e _588sy462\"><noscript><span class=\"_1xxhs21w _1xxhs21v _588sy49k _588sy41p _588sy41s _588sy462 _588sy498\"><img alt=\"thumbnail\" class=\"_1xxhs21y _1xxhs21x _588sy462 _588sy498\" src=\"https://dtxw8q4qct0d4.cloudfront.net/origin/etc/202307/7bb08256f1f87ac704907ee82a03201e6c4a3e668d71ef44d4129b30ccb3dfcf.png\"/></span></noscript><span class=\"_1xxhs21w _1xxhs21v _588sy49k _588sy41p _588sy41s _588sy462 _588sy498 lazy-load-image-background opacity\" style=\"color:transparent;display:inline-block\"><span class=\"_1xxhs21y _1xxhs21x _588sy462 _588sy498\" style=\"display:inline-block\"></span></span></div><div><div class=\"_1xxhs2110 _1xxhs21n _1xxhs21z _588sy41 _588sy41y _588sy418e\">가구/인테리어</div></div></article></a>, <a data-gtm=\"main_popular_category\" href=\"/kr/buy-sell/all/?category_id=7&amp;in=%EB%B6%81%EA%B5%AC-742\"><article class=\"_1xxhs21p _1xxhs21l _1xxhs21o _588sy42q _588sy49e _588sy4172 _588sy412w _588sy415q _1xxhs21r _1xxhs21j\"><div class=\"_1xxhs21u _1xxhs21t _588sy41b _588sy49e _588sy462\"><noscript><span class=\"_1xxhs21w _1xxhs21v _588sy49k _588sy41p _588sy41s _588sy462 _588sy498\"><img alt=\"thumbnail\" class=\"_1xxhs21y _1xxhs21x _588sy462 _588sy498\" src=\"https://dnvefa72aowie.cloudfront.net/origin/etc/202403/5db61d75ec51aefb77820d293491594d53ca63ab1ade5d7a154f1f51b678d1e2.png\"/></span></noscript><span class=\"_1xxhs21w _1xxhs21v _588sy49k _588sy41p _588sy41s _588sy462 _588sy498 lazy-load-image-background opacity\" style=\"color:transparent;display:inline-block\"><span class=\"_1xxhs21y _1xxhs21x _588sy462 _588sy498\" style=\"display:inline-block\"></span></span></div><div><div class=\"_1xxhs2110 _1xxhs21n _1xxhs21z _588sy41 _588sy41y _588sy418e\">생활/주방</div></div></article></a>, <a data-gtm=\"main_popular_category\" href=\"/kr/buy-sell/all/?category_id=4&amp;in=%EB%B6%81%EA%B5%AC-742\"><article class=\"_1xxhs21p _1xxhs21l _1xxhs21o _588sy42q _588sy49e _588sy4172 _588sy412w _588sy415q _1xxhs21r _1xxhs21j\"><div class=\"_1xxhs21u _1xxhs21t _588sy41b _588sy49e _588sy462\"><noscript><span class=\"_1xxhs21w _1xxhs21v _588sy49k _588sy41p _588sy41s _588sy462 _588sy498\"><img alt=\"thumbnail\" class=\"_1xxhs21y _1xxhs21x _588sy462 _588sy498\" src=\"https://dnvefa72aowie.cloudfront.net/origin/etc/202403/e3f9aeef2cc1efb65bd139c125a4983d552d62aca69eb16f8349b36bcaa17d62.png\"/></span></noscript><span class=\"_1xxhs21w _1xxhs21v _588sy49k _588sy41p _588sy41s _588sy462 _588sy498 lazy-load-image-background opacity\" style=\"color:transparent;display:inline-block\"><span class=\"_1xxhs21y _1xxhs21x _588sy462 _588sy498\" style=\"display:inline-block\"></span></span></div><div><div class=\"_1xxhs2110 _1xxhs21n _1xxhs21z _588sy41 _588sy41y _588sy418e\">유아동</div></div></article></a>, <a data-gtm=\"main_popular_category\" href=\"/kr/buy-sell/all/?category_id=173&amp;in=%EB%B6%81%EA%B5%AC-742\"><article class=\"_1xxhs21p _1xxhs21l _1xxhs21o _588sy42q _588sy49e _588sy4172 _588sy412w _588sy415q _1xxhs21r _1xxhs21j\"><div class=\"_1xxhs21u _1xxhs21t _588sy41b _588sy49e _588sy462\"><noscript><span class=\"_1xxhs21w _1xxhs21v _588sy49k _588sy41p _588sy41s _588sy462 _588sy498\"><img alt=\"thumbnail\" class=\"_1xxhs21y _1xxhs21x _588sy462 _588sy498\" src=\"https://dnvefa72aowie.cloudfront.net/origin/etc/202403/4c69e8c4c4598e5b23a1fba1a821a830cbd830702b533d3a85ae14aa22a62e5c.png\"/></span></noscript><span class=\"_1xxhs21w _1xxhs21v _588sy49k _588sy41p _588sy41s _588sy462 _588sy498 lazy-load-image-background opacity\" style=\"color:transparent;display:inline-block\"><span class=\"_1xxhs21y _1xxhs21x _588sy462 _588sy498\" style=\"display:inline-block\"></span></span></div><div><div class=\"_1xxhs2110 _1xxhs21n _1xxhs21z _588sy41 _588sy41y _588sy418e\">유아도서</div></div></article></a>, <a data-gtm=\"main_popular_category\" href=\"/kr/buy-sell/all/?category_id=5&amp;in=%EB%B6%81%EA%B5%AC-742\"><article class=\"_1xxhs21p _1xxhs21l _1xxhs21o _588sy42q _588sy49e _588sy4172 _588sy412w _588sy415q _1xxhs21r _1xxhs21j\"><div class=\"_1xxhs21u _1xxhs21t _588sy41b _588sy49e _588sy462\"><noscript><span class=\"_1xxhs21w _1xxhs21v _588sy49k _588sy41p _588sy41s _588sy462 _588sy498\"><img alt=\"thumbnail\" class=\"_1xxhs21y _1xxhs21x _588sy462 _588sy498\" src=\"https://dtxw8q4qct0d4.cloudfront.net/origin/etc/202307/fffafa3aec1d4e1bf2454e2ff08f7930ae465e3b84eb1436109edbfac2ed754b.png\"/></span></noscript><span class=\"_1xxhs21w _1xxhs21v _588sy49k _588sy41p _588sy41s _588sy462 _588sy498 lazy-load-image-background opacity\" style=\"color:transparent;display:inline-block\"><span class=\"_1xxhs21y _1xxhs21x _588sy462 _588sy498\" style=\"display:inline-block\"></span></span></div><div><div class=\"_1xxhs2110 _1xxhs21n _1xxhs21z _588sy41 _588sy41y _588sy418e\">여성의류</div></div></article></a>, <a data-gtm=\"main_popular_category\" href=\"/kr/buy-sell/all/?category_id=31&amp;in=%EB%B6%81%EA%B5%AC-742\"><article class=\"_1xxhs21p _1xxhs21l _1xxhs21o _588sy42q _588sy49e _588sy4172 _588sy412w _588sy415q _1xxhs21r _1xxhs21j\"><div class=\"_1xxhs21u _1xxhs21t _588sy41b _588sy49e _588sy462\"><noscript><span class=\"_1xxhs21w _1xxhs21v _588sy49k _588sy41p _588sy41s _588sy462 _588sy498\"><img alt=\"thumbnail\" class=\"_1xxhs21y _1xxhs21x _588sy462 _588sy498\" src=\"https://dnvefa72aowie.cloudfront.net/origin/etc/202403/0f027dc5447cad28a8f7e2099aceddbfff33983095d74656688d86584de306b9.png\"/></span></noscript><span class=\"_1xxhs21w _1xxhs21v _588sy49k _588sy41p _588sy41s _588sy462 _588sy498 lazy-load-image-background opacity\" style=\"color:transparent;display:inline-block\"><span class=\"_1xxhs21y _1xxhs21x _588sy462 _588sy498\" style=\"display:inline-block\"></span></span></div><div><div class=\"_1xxhs2110 _1xxhs21n _1xxhs21z _588sy41 _588sy41y _588sy418e\">여성잡화</div></div></article></a>, <a data-gtm=\"main_popular_category\" href=\"/kr/buy-sell/all/?category_id=14&amp;in=%EB%B6%81%EA%B5%AC-742\"><article class=\"_1xxhs21p _1xxhs21l _1xxhs21o _588sy42q _588sy49e _588sy4172 _588sy412w _588sy415q _1xxhs21r _1xxhs21j\"><div class=\"_1xxhs21u _1xxhs21t _588sy41b _588sy49e _588sy462\"><noscript><span class=\"_1xxhs21w _1xxhs21v _588sy49k _588sy41p _588sy41s _588sy462 _588sy498\"><img alt=\"thumbnail\" class=\"_1xxhs21y _1xxhs21x _588sy462 _588sy498\" src=\"https://dnvefa72aowie.cloudfront.net/origin/etc/202403/5ee0336ba4a336ac3753f91e0cdd4a7e40d48d4045c01cbd2863fc29f9ba807c.png\"/></span></noscript><span class=\"_1xxhs21w _1xxhs21v _588sy49k _588sy41p _588sy41s _588sy462 _588sy498 lazy-load-image-background opacity\" style=\"color:transparent;display:inline-block\"><span class=\"_1xxhs21y _1xxhs21x _588sy462 _588sy498\" style=\"display:inline-block\"></span></span></div><div><div class=\"_1xxhs2110 _1xxhs21n _1xxhs21z _588sy41 _588sy41y _588sy418e\">남성패션/잡화</div></div></article></a>, <a data-gtm=\"main_popular_category\" href=\"/kr/buy-sell/all/?category_id=6&amp;in=%EB%B6%81%EA%B5%AC-742\"><article class=\"_1xxhs21p _1xxhs21l _1xxhs21o _588sy42q _588sy49e _588sy4172 _588sy412w _588sy415q _1xxhs21r _1xxhs21j\"><div class=\"_1xxhs21u _1xxhs21t _588sy41b _588sy49e _588sy462\"><noscript><span class=\"_1xxhs21w _1xxhs21v _588sy49k _588sy41p _588sy41s _588sy462 _588sy498\"><img alt=\"thumbnail\" class=\"_1xxhs21y _1xxhs21x _588sy462 _588sy498\" src=\"https://dnvefa72aowie.cloudfront.net/origin/etc/202403/cb1bc00059165d7717565482ae8b32eb995292b541662bd96e362fa12953ae94.png\"/></span></noscript><span class=\"_1xxhs21w _1xxhs21v _588sy49k _588sy41p _588sy41s _588sy462 _588sy498 lazy-load-image-background opacity\" style=\"color:transparent;display:inline-block\"><span class=\"_1xxhs21y _1xxhs21x _588sy462 _588sy498\" style=\"display:inline-block\"></span></span></div><div><div class=\"_1xxhs2110 _1xxhs21n _1xxhs21z _588sy41 _588sy41y _588sy418e\">뷰티/미용</div></div></article></a>, <a data-gtm=\"main_popular_category\" href=\"/kr/buy-sell/all/?category_id=3&amp;in=%EB%B6%81%EA%B5%AC-742\"><article class=\"_1xxhs21p _1xxhs21l _1xxhs21o _588sy42q _588sy49e _588sy4172 _588sy412w _588sy415q _1xxhs21r _1xxhs21j\"><div class=\"_1xxhs21u _1xxhs21t _588sy41b _588sy49e _588sy462\"><noscript><span class=\"_1xxhs21w _1xxhs21v _588sy49k _588sy41p _588sy41s _588sy462 _588sy498\"><img alt=\"thumbnail\" class=\"_1xxhs21y _1xxhs21x _588sy462 _588sy498\" src=\"https://dnvefa72aowie.cloudfront.net/origin/etc/202403/b9c9bc30b96ec4290e0cfb845d4793b62436365247694d6fb6509931fd1dffac.png\"/></span></noscript><span class=\"_1xxhs21w _1xxhs21v _588sy49k _588sy41p _588sy41s _588sy462 _588sy498 lazy-load-image-background opacity\" style=\"color:transparent;display:inline-block\"><span class=\"_1xxhs21y _1xxhs21x _588sy462 _588sy498\" style=\"display:inline-block\"></span></span></div><div><div class=\"_1xxhs2110 _1xxhs21n _1xxhs21z _588sy41 _588sy41y _588sy418e\">스포츠/레저</div></div></article></a>, <a data-gtm=\"main_popular_category\" href=\"/kr/buy-sell/all/?category_id=2&amp;in=%EB%B6%81%EA%B5%AC-742\"><article class=\"_1xxhs21p _1xxhs21l _1xxhs21o _588sy42q _588sy49e _588sy4172 _588sy412w _588sy415q _1xxhs21r _1xxhs21j\"><div class=\"_1xxhs21u _1xxhs21t _588sy41b _588sy49e _588sy462\"><noscript><span class=\"_1xxhs21w _1xxhs21v _588sy49k _588sy41p _588sy41s _588sy462 _588sy498\"><img alt=\"thumbnail\" class=\"_1xxhs21y _1xxhs21x _588sy462 _588sy498\" src=\"https://dnvefa72aowie.cloudfront.net/origin/etc/202403/9235ff5b6ac73472f7017af0da02a9c10e885665483a9a9be699d30042c322e0.png\"/></span></noscript><span class=\"_1xxhs21w _1xxhs21v _588sy49k _588sy41p _588sy41s _588sy462 _588sy498 lazy-load-image-background opacity\" style=\"color:transparent;display:inline-block\"><span class=\"_1xxhs21y _1xxhs21x _588sy462 _588sy498\" style=\"display:inline-block\"></span></span></div><div><div class=\"_1xxhs2110 _1xxhs21n _1xxhs21z _588sy41 _588sy41y _588sy418e\">취미/게임/음반</div></div></article></a>, <a data-gtm=\"main_popular_category\" href=\"/kr/buy-sell/all/?category_id=9&amp;in=%EB%B6%81%EA%B5%AC-742\"><article class=\"_1xxhs21p _1xxhs21l _1xxhs21o _588sy42q _588sy49e _588sy4172 _588sy412w _588sy415q _1xxhs21r _1xxhs21j\"><div class=\"_1xxhs21u _1xxhs21t _588sy41b _588sy49e _588sy462\"><noscript><span class=\"_1xxhs21w _1xxhs21v _588sy49k _588sy41p _588sy41s _588sy462 _588sy498\"><img alt=\"thumbnail\" class=\"_1xxhs21y _1xxhs21x _588sy462 _588sy498\" src=\"https://dnvefa72aowie.cloudfront.net/origin/etc/202403/ea0004e57d8568edd100fc180679434e4b7ce79af54bdee6ee5225b7662bcde3.png\"/></span></noscript><span class=\"_1xxhs21w _1xxhs21v _588sy49k _588sy41p _588sy41s _588sy462 _588sy498 lazy-load-image-background opacity\" style=\"color:transparent;display:inline-block\"><span class=\"_1xxhs21y _1xxhs21x _588sy462 _588sy498\" style=\"display:inline-block\"></span></span></div><div><div class=\"_1xxhs2110 _1xxhs21n _1xxhs21z _588sy41 _588sy41y _588sy418e\">도서</div></div></article></a>, <a data-gtm=\"main_popular_category\" href=\"/kr/buy-sell/all/?category_id=304&amp;in=%EB%B6%81%EA%B5%AC-742\"><article class=\"_1xxhs21p _1xxhs21l _1xxhs21o _588sy42q _588sy49e _588sy4172 _588sy412w _588sy415q _1xxhs21r _1xxhs21j\"><div class=\"_1xxhs21u _1xxhs21t _588sy41b _588sy49e _588sy462\"><noscript><span class=\"_1xxhs21w _1xxhs21v _588sy49k _588sy41p _588sy41s _588sy462 _588sy498\"><img alt=\"thumbnail\" class=\"_1xxhs21y _1xxhs21x _588sy462 _588sy498\" src=\"https://dnvefa72aowie.cloudfront.net/origin/etc/202403/87b9796e107536045708710b43c1c08ed4ba54a7de9e111acd8641358f909d11.png\"/></span></noscript><span class=\"_1xxhs21w _1xxhs21v _588sy49k _588sy41p _588sy41s _588sy462 _588sy498 lazy-load-image-background opacity\" style=\"color:transparent;display:inline-block\"><span class=\"_1xxhs21y _1xxhs21x _588sy462 _588sy498\" style=\"display:inline-block\"></span></span></div><div><div class=\"_1xxhs2110 _1xxhs21n _1xxhs21z _588sy41 _588sy41y _588sy418e\">티켓/교환권</div></div></article></a>, <a data-gtm=\"main_popular_category\" href=\"/kr/buy-sell/all/?category_id=305&amp;in=%EB%B6%81%EA%B5%AC-742\"><article class=\"_1xxhs21p _1xxhs21l _1xxhs21o _588sy42q _588sy49e _588sy4172 _588sy412w _588sy415q _1xxhs21r _1xxhs21j\"><div class=\"_1xxhs21u _1xxhs21t _588sy41b _588sy49e _588sy462\"><noscript><span class=\"_1xxhs21w _1xxhs21v _588sy49k _588sy41p _588sy41s _588sy462 _588sy498\"><img alt=\"thumbnail\" class=\"_1xxhs21y _1xxhs21x _588sy462 _588sy498\" src=\"https://dnvefa72aowie.cloudfront.net/origin/etc/202403/76c3ef340db1e72a16ba5634e05a6e904594597f5caefd4824cd0eb14e5ad54f.png\"/></span></noscript><span class=\"_1xxhs21w _1xxhs21v _588sy49k _588sy41p _588sy41s _588sy462 _588sy498 lazy-load-image-background opacity\" style=\"color:transparent;display:inline-block\"><span class=\"_1xxhs21y _1xxhs21x _588sy462 _588sy498\" style=\"display:inline-block\"></span></span></div><div><div class=\"_1xxhs2110 _1xxhs21n _1xxhs21z _588sy41 _588sy41y _588sy418e\">가공식품</div></div></article></a>, <a data-gtm=\"main_popular_category\" href=\"/kr/buy-sell/all/?category_id=483&amp;in=%EB%B6%81%EA%B5%AC-742\"><article class=\"_1xxhs21p _1xxhs21l _1xxhs21o _588sy42q _588sy49e _588sy4172 _588sy412w _588sy415q _1xxhs21r _1xxhs21j\"><div class=\"_1xxhs21u _1xxhs21t _588sy41b _588sy49e _588sy462\"><noscript><span class=\"_1xxhs21w _1xxhs21v _588sy49k _588sy41p _588sy41s _588sy462 _588sy498\"><img alt=\"thumbnail\" class=\"_1xxhs21y _1xxhs21x _588sy462 _588sy498\" src=\"https://dnvefa72aowie.cloudfront.net/origin/brand/202404/0217fbee57e1770b32fb91e099a2ae2533bab1f604a0c070d5298532196ee5bc.png?f=webp\"/></span></noscript><span class=\"_1xxhs21w _1xxhs21v _588sy49k _588sy41p _588sy41s _588sy462 _588sy498 lazy-load-image-background opacity\" style=\"color:transparent;display:inline-block\"><span class=\"_1xxhs21y _1xxhs21x _588sy462 _588sy498\" style=\"display:inline-block\"></span></span></div><div><div class=\"_1xxhs2110 _1xxhs21n _1xxhs21z _588sy41 _588sy41y _588sy418e\">건강기능식품</div></div></article></a>, <a data-gtm=\"main_popular_category\" href=\"/kr/buy-sell/all/?category_id=16&amp;in=%EB%B6%81%EA%B5%AC-742\"><article class=\"_1xxhs21p _1xxhs21l _1xxhs21o _588sy42q _588sy49e _588sy4172 _588sy412w _588sy415q _1xxhs21r _1xxhs21j\"><div class=\"_1xxhs21u _1xxhs21t _588sy41b _588sy49e _588sy462\"><noscript><span class=\"_1xxhs21w _1xxhs21v _588sy49k _588sy41p _588sy41s _588sy462 _588sy498\"><img alt=\"thumbnail\" class=\"_1xxhs21y _1xxhs21x _588sy462 _588sy498\" src=\"https://dnvefa72aowie.cloudfront.net/origin/etc/202403/9c398f0af4fdc28e56e1dd3ed2b43e22644024652650620655e70784bacc21f2.png\"/></span></noscript><span class=\"_1xxhs21w _1xxhs21v _588sy49k _588sy41p _588sy41s _588sy462 _588sy498 lazy-load-image-background opacity\" style=\"color:transparent;display:inline-block\"><span class=\"_1xxhs21y _1xxhs21x _588sy462 _588sy498\" style=\"display:inline-block\"></span></span></div><div><div class=\"_1xxhs2110 _1xxhs21n _1xxhs21z _588sy41 _588sy41y _588sy418e\">반려동물용품</div></div></article></a>, <a data-gtm=\"main_popular_category\" href=\"/kr/buy-sell/all/?category_id=139&amp;in=%EB%B6%81%EA%B5%AC-742\"><article class=\"_1xxhs21p _1xxhs21l _1xxhs21o _588sy42q _588sy49e _588sy4172 _588sy412w _588sy415q _1xxhs21r _1xxhs21j\"><div class=\"_1xxhs21u _1xxhs21t _588sy41b _588sy49e _588sy462\"><noscript><span class=\"_1xxhs21w _1xxhs21v _588sy49k _588sy41p _588sy41s _588sy462 _588sy498\"><img alt=\"thumbnail\" class=\"_1xxhs21y _1xxhs21x _588sy462 _588sy498\" src=\"https://dnvefa72aowie.cloudfront.net/origin/etc/202403/0648bfe8225a703f2951814b5b6b3a7d0cda4e58a57e5def865f72fcc800a2b8.png\"/></span></noscript><span class=\"_1xxhs21w _1xxhs21v _588sy49k _588sy41p _588sy41s _588sy462 _588sy498 lazy-load-image-background opacity\" style=\"color:transparent;display:inline-block\"><span class=\"_1xxhs21y _1xxhs21x _588sy462 _588sy498\" style=\"display:inline-block\"></span></span></div><div><div class=\"_1xxhs2110 _1xxhs21n _1xxhs21z _588sy41 _588sy41y _588sy418e\">식물</div></div></article></a>, <a data-gtm=\"main_popular_category\" href=\"/kr/buy-sell/all/?category_id=13&amp;in=%EB%B6%81%EA%B5%AC-742\"><article class=\"_1xxhs21p _1xxhs21l _1xxhs21o _588sy42q _588sy49e _588sy4172 _588sy412w _588sy415q _1xxhs21r _1xxhs21j\"><div class=\"_1xxhs21u _1xxhs21t _588sy41b _588sy49e _588sy462\"><noscript><span class=\"_1xxhs21w _1xxhs21v _588sy49k _588sy41p _588sy41s _588sy462 _588sy498\"><img alt=\"thumbnail\" class=\"_1xxhs21y _1xxhs21x _588sy462 _588sy498\" src=\"https://dnvefa72aowie.cloudfront.net/origin/etc/202403/44e503183258bbe2af29548fd8c6052b269a93125aaf229568be18247a3c7cc3.png\"/></span></noscript><span class=\"_1xxhs21w _1xxhs21v _588sy49k _588sy41p _588sy41s _588sy462 _588sy498 lazy-load-image-background opacity\" style=\"color:transparent;display:inline-block\"><span class=\"_1xxhs21y _1xxhs21x _588sy462 _588sy498\" style=\"display:inline-block\"></span></span></div><div><div class=\"_1xxhs2110 _1xxhs21n _1xxhs21z _588sy41 _588sy41y _588sy418e\">기타 중고물품</div></div></article></a>, <a data-gtm=\"main_popular_category\" href=\"/kr/buy-sell/all/?category_id=32&amp;in=%EB%B6%81%EA%B5%AC-742\"><article class=\"_1xxhs21p _1xxhs21l _1xxhs21o _588sy42q _588sy49e _588sy4172 _588sy412w _588sy415q _1xxhs21r _1xxhs21j\"><div class=\"_1xxhs21u _1xxhs21t _588sy41b _588sy49e _588sy462\"><noscript><span class=\"_1xxhs21w _1xxhs21v _588sy49k _588sy41p _588sy41s _588sy462 _588sy498\"><img alt=\"thumbnail\" class=\"_1xxhs21y _1xxhs21x _588sy462 _588sy498\" src=\"https://dnvefa72aowie.cloudfront.net/origin/etc/202403/51f8ac6c2583e7cca4c90837570172d21544813b70a4feda4db834ec440b6075.png\"/></span></noscript><span class=\"_1xxhs21w _1xxhs21v _588sy49k _588sy41p _588sy41s _588sy462 _588sy498 lazy-load-image-background opacity\" style=\"color:transparent;display:inline-block\"><span class=\"_1xxhs21y _1xxhs21x _588sy462 _588sy498\" style=\"display:inline-block\"></span></span></div><div><div class=\"_1xxhs2110 _1xxhs21n _1xxhs21z _588sy41 _588sy41y _588sy418e\">삽니다</div></div></article></a>, <a class=\"click_app_download _19xafot0 _19xafot4\" rel=\"noopener noreferrer\" style=\"--_19xafot2:100ms;--_19xafot1:500ms;--_19xafot3:translateY(1rem)\" target=\"_blank\"><img alt=\"Download on the App Store\" class=\"a1nvr4c _588sy47k _588sy47t\" sizes=\"(min-width:1200px) 1400px, (min-width:992px) 1200px, 576px\" src=\"https://karrotmarket-com-sanity-cdn.krrt.io/production/49380c1c7e70e49f0f93baf0f790925eefc69082-120x40.svg\" srcset=\"https://karrotmarket-com-sanity-cdn.krrt.io/production/49380c1c7e70e49f0f93baf0f790925eefc69082-120x40.svg?q=82&amp;w=768 576w, https://karrotmarket-com-sanity-cdn.krrt.io/production/49380c1c7e70e49f0f93baf0f790925eefc69082-120x40.svg?q=95&amp;w=1200 1200w, https://karrotmarket-com-sanity-cdn.krrt.io/production/49380c1c7e70e49f0f93baf0f790925eefc69082-120x40.svg?q=100&amp;w=1400 1400w\"/></a>, <a class=\"click_app_download _19xafot0 _19xafot4\" rel=\"noopener noreferrer\" style=\"--_19xafot2:150ms;--_19xafot1:500ms;--_19xafot3:translateY(1rem)\" target=\"_blank\"><img alt=\"Get it on Google Play\" class=\"a1nvr4c _588sy47k _588sy47t\" sizes=\"(min-width:1200px) 1400px, (min-width:992px) 1200px, 576px\" src=\"https://karrotmarket-com-sanity-cdn.krrt.io/production/0d8f72b8e4cdb98af115a7c1f04c4abf19f5c419-180x53.svg\" srcset=\"https://karrotmarket-com-sanity-cdn.krrt.io/production/0d8f72b8e4cdb98af115a7c1f04c4abf19f5c419-180x53.svg?q=82&amp;w=768 576w, https://karrotmarket-com-sanity-cdn.krrt.io/production/0d8f72b8e4cdb98af115a7c1f04c4abf19f5c419-180x53.svg?q=95&amp;w=1200 1200w, https://karrotmarket-com-sanity-cdn.krrt.io/production/0d8f72b8e4cdb98af115a7c1f04c4abf19f5c419-180x53.svg?q=100&amp;w=1400 1400w\"/></a>, <a aria-label=\"Go to Karrot facebook\" class=\"s33xdi8 s33xdi7 _588sy4wq _588sy41\" data-gtm=\"footer_social\" href=\"https://www.facebook.com/daangn/\" rel=\"noreferrer noopener\" target=\"_blank\"><svg fill=\"none\" height=\"24\" viewbox=\"0 0 24 24\" width=\"24\" xmlns=\"http://www.w3.org/2000/svg\"><path d=\"M22.5969 12.1465C22.5969 6.31998 17.7192 1.59967 11.6984 1.59967C5.67766 1.59967 0.800003 6.31998 0.800003 12.1465C0.800003 17.4106 4.78641 21.7747 9.99344 22.5669V15.1934H7.22282V12.1465H9.99344V9.82155C9.99344 7.1778 11.6209 5.71998 14.1106 5.71998C15.3022 5.71998 16.5519 5.92623 16.5519 5.92623V8.51842H15.1763C13.8248 8.51842 13.3986 9.32936 13.3986 10.1637V12.1419H16.4211L15.9367 15.1887H13.3986V22.5575C18.6105 21.77 22.5969 17.4106 22.5969 12.1465Z\" fill=\"currentColor\"></path></svg></a>, <a aria-label=\"Go to Karrot instagram\" class=\"s33xdi8 s33xdi7 _588sy4wq _588sy41\" data-gtm=\"footer_social\" href=\"https://www.instagram.com/daangnmarket/\" rel=\"noreferrer noopener\" target=\"_blank\"><svg fill=\"none\" height=\"24\" viewbox=\"0 0 24 24\" width=\"24\" xmlns=\"http://www.w3.org/2000/svg\"><path d=\"M11.6 3.4734C14.4837 3.4734 14.8253 3.48397 15.9641 3.534C17.0171 3.58028 17.5889 3.74971 17.9695 3.89209C18.4736 4.08075 18.8334 4.30616 19.2113 4.67007C19.5892 5.03397 19.8233 5.38046 20.0192 5.86586C20.1671 6.23237 20.343 6.78305 20.3911 7.79699C20.443 8.89367 20.454 9.22257 20.454 11.9995C20.454 14.7764 20.443 15.1053 20.3911 16.202C20.343 17.216 20.1671 17.7666 20.0192 18.1332C19.8233 18.6186 19.5892 18.965 19.2113 19.3289C18.8334 19.6929 18.4736 19.9183 17.9695 20.1069C17.5889 20.2493 17.0171 20.4187 15.9641 20.465C14.8254 20.515 14.4839 20.5256 11.6 20.5256C8.71607 20.5256 8.37452 20.515 7.23588 20.465C6.18289 20.4187 5.61103 20.2493 5.23047 20.1069C4.72636 19.9183 4.36654 19.6929 3.98864 19.3289C3.61073 18.965 3.37666 18.6186 3.18078 18.1332C3.03288 17.7666 2.85694 17.216 2.80888 16.202C2.75692 15.1053 2.74595 14.7764 2.74595 11.9995C2.74595 9.22257 2.75692 8.89367 2.80888 7.79704C2.85694 6.78305 3.03288 6.23237 3.18078 5.86586C3.37666 5.38046 3.61073 5.03397 3.98864 4.67007C4.36654 4.30616 4.72636 4.08075 5.23047 3.89209C5.61103 3.74971 6.18289 3.58028 7.23583 3.534C8.37469 3.48397 8.71624 3.4734 11.6 3.4734ZM11.6 1.59949C8.66686 1.59949 8.29911 1.61146 7.14718 1.66207C5.9976 1.7126 5.21255 1.88838 4.52555 2.14549C3.81535 2.41127 3.21306 2.76688 2.61266 3.34505C2.01226 3.92322 1.64297 4.5032 1.36697 5.18709C1.09997 5.84865 0.917426 6.60462 0.864952 7.71162C0.812393 8.82085 0.800003 9.17502 0.800003 11.9995C0.800003 14.824 0.812393 15.1782 0.864952 16.2874C0.917426 17.3944 1.09997 18.1504 1.36697 18.8119C1.64297 19.4958 2.01226 20.0758 2.61266 20.654C3.21306 21.2321 3.81535 21.5877 4.52555 21.8535C5.21255 22.1106 5.9976 22.2864 7.14718 22.3369C8.29911 22.3876 8.66686 22.3995 11.6 22.3995C14.5331 22.3995 14.9009 22.3876 16.0528 22.3369C17.2024 22.2864 17.9874 22.1106 18.6744 21.8535C19.3846 21.5877 19.9869 21.2321 20.5873 20.654C21.1877 20.0758 21.557 19.4958 21.833 18.8119C22.1 18.1504 22.2825 17.3944 22.335 16.2874C22.3876 15.1782 22.4 14.824 22.4 11.9995C22.4 9.17502 22.3876 8.82085 22.335 7.71162C22.2825 6.60462 22.1 5.84865 21.833 5.18709C21.557 4.5032 21.1877 3.92322 20.5873 3.34505C19.9869 2.76688 19.3846 2.41127 18.6744 2.14549C17.9874 1.88838 17.2024 1.7126 16.0528 1.66207C14.9009 1.61146 14.5331 1.59949 11.6 1.59949ZM11.6 6.65895C8.53704 6.65895 6.05402 9.05001 6.05402 11.9995C6.05402 14.949 8.53704 17.3401 11.6 17.3401C14.6629 17.3401 17.1459 14.949 17.1459 11.9995C17.1459 9.05001 14.6629 6.65895 11.6 6.65895ZM11.6 15.4662C9.61177 15.4662 7.99996 13.9141 7.99996 11.9995C7.99996 10.0849 9.61177 8.53282 11.6 8.53282C13.5882 8.53282 15.2 10.0849 15.2 11.9995C15.2 13.9141 13.5882 15.4662 11.6 15.4662ZM18.661 6.44795C18.661 7.13721 18.0808 7.69598 17.3651 7.69598C16.6493 7.69598 16.069 7.13721 16.069 6.44795C16.069 5.75869 16.6493 5.19997 17.3651 5.19997C18.0808 5.19997 18.661 5.75869 18.661 6.44795Z\" fill=\"currentColor\"></path></svg></a>, <a aria-label=\"Go to Karrot youtube\" class=\"s33xdi8 s33xdi7 _588sy4wq _588sy41\" data-gtm=\"footer_social\" href=\"https://www.youtube.com/@karrot-localbuyingsellinga1250/featured\" rel=\"noreferrer noopener\" target=\"_blank\"><svg fill=\"none\" height=\"24\" viewbox=\"0 0 24 24\" width=\"24\" xmlns=\"http://www.w3.org/2000/svg\"><path clip-rule=\"evenodd\" d=\"M12 0.999512C5.92487 0.999512 1 5.92438 1 11.9995C1 18.0746 5.92487 22.9995 12 22.9995C18.0751 22.9995 23 18.0746 23 11.9995C23 5.92438 18.0751 0.999512 12 0.999512ZM18.7054 7.75759C18.9341 7.97573 19.0999 8.24647 19.1868 8.54362C19.4039 9.68587 19.5085 10.845 19.4995 12.0058C19.5077 13.1622 19.403 14.3169 19.1868 15.4548C19.0999 15.752 18.9341 16.0227 18.7054 16.2409C18.4767 16.459 18.1929 16.6172 17.8814 16.7001C16.6997 16.9995 12.0067 16.9995 12.0067 16.9995C12.0067 16.9995 7.29993 16.9995 6.13199 16.7001C5.82048 16.6172 5.53666 16.459 5.30797 16.2409C5.07927 16.0227 4.91345 15.752 4.82651 15.4548C4.60573 14.3173 4.49646 13.1626 4.50013 12.0058C4.49561 10.8445 4.60487 9.68546 4.82651 8.54362C4.91345 8.24647 5.07927 7.97573 5.30797 7.75759C5.53666 7.53944 5.82048 7.38125 6.13199 7.29832C7.31306 6.99356 12.0067 6.99952 12.0067 6.99952C12.0067 6.99952 16.7122 6.99952 17.8814 7.29832C18.1929 7.38125 18.4767 7.53944 18.7054 7.75759ZM10.5049 9.85751V14.1475L14.4213 12.0058L10.5049 9.85751Z\" fill=\"currentColor\" fill-rule=\"evenodd\"></path></svg></a>, <a class=\"_588sy4192 _588sy41w _588sy41b2 _588sy41 s33xdi2 s33xdi1 _588sy42q _588sy415q _588sy4t8\" data-gtm=\"footer_navigation\" href=\"https://about.daangn.com\" rel=\"noreferrer noopener\" target=\"_blank\">회사 소개</a>, <a class=\"_588sy4192 _588sy41w _588sy41b2 _588sy41 s33xdi2 s33xdi1 _588sy42q _588sy415q _588sy4t8\" data-gtm=\"footer_navigation\" href=\"https://www.daangnpay.com/\" rel=\"noreferrer noopener\" target=\"_blank\">당근페이</a>, <a class=\"_588sy4192 _588sy41w _588sy41b2 _588sy41 s33xdi2 s33xdi1 _588sy42q _588sy415q _588sy4t8\" data-gtm=\"footer_navigation\" href=\"https://about.daangn.com/culture/\" rel=\"noreferrer noopener\" target=\"_blank\">팀문화</a>, <a class=\"_588sy4192 _588sy41w _588sy41b2 _588sy41 s33xdi2 s33xdi1 _588sy42q _588sy415q _588sy4t8\" data-gtm=\"footer_navigation\" href=\"https://about.daangn.com/service/\" rel=\"noreferrer noopener\" target=\"_blank\">서비스 소개</a>, <a class=\"_588sy4192 _588sy41w _588sy41b2 _588sy41 s33xdi2 s33xdi1 _588sy42q _588sy415q _588sy4t8\" data-gtm=\"footer_navigation\" href=\"https://about.daangn.com/blog/\" rel=\"noreferrer noopener\" target=\"_blank\">블로그</a>, <a class=\"_588sy4192 _588sy41w _588sy41b2 _588sy41 s33xdi2 s33xdi1 _588sy42q _588sy415q _588sy4t8\" data-gtm=\"footer_navigation\" href=\"https://about.daangn.com/jobs/\" rel=\"noreferrer noopener\" target=\"_blank\">채용</a>, <a class=\"_588sy4192 _588sy41w _588sy41b2 _588sy41 s33xdi2 s33xdi1 _588sy42q _588sy415q _588sy4t8\" data-gtm=\"footer_navigation\" href=\"/kr/buy-sell/?in=%EB%B6%81%EA%B5%AC-742\" target=\"_self\">중고거래</a>, <a class=\"_588sy4192 _588sy41w _588sy41b2 _588sy41 s33xdi2 s33xdi1 _588sy42q _588sy415q _588sy4t8\" data-gtm=\"footer_navigation\" href=\"/kr/realty/?in=%EB%B6%81%EA%B5%AC-742\" target=\"_self\">부동산</a>, <a class=\"_588sy4192 _588sy41w _588sy41b2 _588sy41 s33xdi2 s33xdi1 _588sy42q _588sy415q _588sy4t8\" data-gtm=\"footer_navigation\" href=\"/kr/cars/?in=%EB%B6%81%EA%B5%AC-742\" target=\"_self\">중고차</a>, <a class=\"_588sy4192 _588sy41w _588sy41b2 _588sy41 s33xdi2 s33xdi1 _588sy42q _588sy415q _588sy4t8\" data-gtm=\"footer_navigation\" href=\"/kr/jobs/?in=%EB%B6%81%EA%B5%AC-742\" target=\"_self\">알바</a>, <a class=\"_588sy4192 _588sy41w _588sy41b2 _588sy41 s33xdi2 s33xdi1 _588sy42q _588sy415q _588sy4t8\" data-gtm=\"footer_navigation\" href=\"/kr/local-profile/?in=%EB%B6%81%EA%B5%AC-742\" target=\"_self\">동네업체</a>, <a class=\"_588sy4192 _588sy41w _588sy41b2 _588sy41 s33xdi2 s33xdi1 _588sy42q _588sy415q _588sy4t8\" data-gtm=\"footer_navigation\" href=\"/kr/community/?in=%EB%B6%81%EA%B5%AC-742\" target=\"_self\">동네생활</a>, <a class=\"_588sy4192 _588sy41w _588sy41b2 _588sy41 s33xdi2 s33xdi1 _588sy42q _588sy415q _588sy4t8\" data-gtm=\"footer_navigation\" href=\"/kr/group/?in=%EB%B6%81%EA%B5%AC-742\" target=\"_self\">모임</a>, <a class=\"_588sy4192 _588sy41w _588sy41b2 _588sy41 s33xdi2 s33xdi1 _588sy42q _588sy415q _588sy4t8\" data-gtm=\"footer_navigation\" href=\"https://chat.daangn.com/login\" rel=\"noreferrer noopener\" target=\"_blank\">채팅하기</a>, <a class=\"_588sy4192 _588sy41w _588sy41b2 _588sy41 s33xdi2 s33xdi1 _588sy42q _588sy415q _588sy4t8\" data-gtm=\"footer_navigation\" href=\"/kr/regions/?in=%EB%B6%81%EA%B5%AC-742\" target=\"_self\">이웃</a>, <a class=\"_588sy4192 _588sy41w _588sy41b2 _588sy41 s33xdi2 s33xdi1 _588sy42q _588sy415q _588sy4t8\" data-gtm=\"footer_navigation\" href=\"https://business.daangn.com/\" rel=\"noreferrer noopener\" target=\"_blank\">당근 비즈니스</a>, <a class=\"_588sy4192 _588sy41w _588sy41b2 _588sy41 s33xdi2 s33xdi1 _588sy42q _588sy415q _588sy4t8\" data-gtm=\"footer_navigation\" href=\"mailto:contact@daangn.com\" rel=\"noreferrer noopener\" target=\"_blank\">제휴 문의</a>, <a class=\"_588sy4192 _588sy41w _588sy41b2 _588sy41 s33xdi2 s33xdi1 _588sy42q _588sy415q _588sy4t8\" data-gtm=\"footer_navigation\" href=\"mailto:ad@daangn.com\" rel=\"noreferrer noopener\" target=\"_blank\">광고 문의</a>, <a class=\"_588sy4192 _588sy41w _588sy41b2 _588sy41 s33xdi2 s33xdi1 _588sy42q _588sy415q _588sy4t8\" data-gtm=\"footer_navigation\" href=\"https://karrotmarket.com/ca/\" rel=\"noreferrer noopener\" target=\"_blank\">Canada<svg class=\"_588sy411w\" data-seed-icon=\"true\" data-seed-icon-version=\"0.4.0-beta.2\" fill=\"none\" height=\"14\" viewbox=\"0 0 24 24\" width=\"14\" xmlns=\"http://www.w3.org/2000/svg\"><g><path d=\"M19.2072 5.18033C19.1631 5.10123 19.1075 5.02684 19.0403 4.95964C18.8399 4.7593 18.5757 4.66174 18.3132 4.66695L7 4.66691C6.44772 4.66691 6 5.11462 6 5.66691C5.99999 6.21919 6.44771 6.66691 6.99999 6.66691L15.9188 6.66694L4.9594 17.6263C4.56887 18.0168 4.56887 18.65 4.9594 19.0405C5.34992 19.431 5.98309 19.431 6.37361 19.0405L17.3334 8.08076V17.0002C17.3334 17.5525 17.7811 18.0002 18.3334 18.0002C18.8856 18.0002 19.3334 17.5525 19.3334 17.0002V5.66695C19.3334 5.4903 19.2876 5.32435 19.2072 5.18033Z\" fill=\"currentColor\"></path></g></svg></a>, <a class=\"_588sy4192 _588sy41w _588sy41b2 _588sy41 s33xdi2 s33xdi1 _588sy42q _588sy415q _588sy4t8\" data-gtm=\"footer_navigation\" href=\"https://karrotmarket.com/us/\" rel=\"noreferrer noopener\" target=\"_blank\">United States<svg class=\"_588sy411w\" data-seed-icon=\"true\" data-seed-icon-version=\"0.4.0-beta.2\" fill=\"none\" height=\"14\" viewbox=\"0 0 24 24\" width=\"14\" xmlns=\"http://www.w3.org/2000/svg\"><g><path d=\"M19.2072 5.18033C19.1631 5.10123 19.1075 5.02684 19.0403 4.95964C18.8399 4.7593 18.5757 4.66174 18.3132 4.66695L7 4.66691C6.44772 4.66691 6 5.11462 6 5.66691C5.99999 6.21919 6.44771 6.66691 6.99999 6.66691L15.9188 6.66694L4.9594 17.6263C4.56887 18.0168 4.56887 18.65 4.9594 19.0405C5.34992 19.431 5.98309 19.431 6.37361 19.0405L17.3334 8.08076V17.0002C17.3334 17.5525 17.7811 18.0002 18.3334 18.0002C18.8856 18.0002 19.3334 17.5525 19.3334 17.0002V5.66695C19.3334 5.4903 19.2876 5.32435 19.2072 5.18033Z\" fill=\"currentColor\"></path></g></svg></a>, <a class=\"_588sy4192 _588sy41w _588sy41b2 _588sy41 s33xdi2 s33xdi1 _588sy42q _588sy415q _588sy4t8\" data-gtm=\"footer_navigation\" href=\"https://karrotmarket.com/uk/\" rel=\"noreferrer noopener\" target=\"_blank\">United Kingdom<svg class=\"_588sy411w\" data-seed-icon=\"true\" data-seed-icon-version=\"0.4.0-beta.2\" fill=\"none\" height=\"14\" viewbox=\"0 0 24 24\" width=\"14\" xmlns=\"http://www.w3.org/2000/svg\"><g><path d=\"M19.2072 5.18033C19.1631 5.10123 19.1075 5.02684 19.0403 4.95964C18.8399 4.7593 18.5757 4.66174 18.3132 4.66695L7 4.66691C6.44772 4.66691 6 5.11462 6 5.66691C5.99999 6.21919 6.44771 6.66691 6.99999 6.66691L15.9188 6.66694L4.9594 17.6263C4.56887 18.0168 4.56887 18.65 4.9594 19.0405C5.34992 19.431 5.98309 19.431 6.37361 19.0405L17.3334 8.08076V17.0002C17.3334 17.5525 17.7811 18.0002 18.3334 18.0002C18.8856 18.0002 19.3334 17.5525 19.3334 17.0002V5.66695C19.3334 5.4903 19.2876 5.32435 19.2072 5.18033Z\" fill=\"currentColor\"></path></g></svg></a>, <a class=\"_588sy4192 _588sy41w _588sy41b2 _588sy41 s33xdi2 s33xdi1 _588sy42q _588sy415q _588sy4t8\" data-gtm=\"footer_navigation\" href=\"https://karrotmarket.com/jp/\" rel=\"noreferrer noopener\" target=\"_blank\">日本<svg class=\"_588sy411w\" data-seed-icon=\"true\" data-seed-icon-version=\"0.4.0-beta.2\" fill=\"none\" height=\"14\" viewbox=\"0 0 24 24\" width=\"14\" xmlns=\"http://www.w3.org/2000/svg\"><g><path d=\"M19.2072 5.18033C19.1631 5.10123 19.1075 5.02684 19.0403 4.95964C18.8399 4.7593 18.5757 4.66174 18.3132 4.66695L7 4.66691C6.44772 4.66691 6 5.11462 6 5.66691C5.99999 6.21919 6.44771 6.66691 6.99999 6.66691L15.9188 6.66694L4.9594 17.6263C4.56887 18.0168 4.56887 18.65 4.9594 19.0405C5.34992 19.431 5.98309 19.431 6.37361 19.0405L17.3334 8.08076V17.0002C17.3334 17.5525 17.7811 18.0002 18.3334 18.0002C18.8856 18.0002 19.3334 17.5525 19.3334 17.0002V5.66695C19.3334 5.4903 19.2876 5.32435 19.2072 5.18033Z\" fill=\"currentColor\"></path></g></svg></a>, <a class=\"_588sy4192 _588sy41w _588sy41b2 _588sy41 s33xdi2 s33xdi1 _588sy42q _588sy415q _588sy4t8\" data-gtm=\"footer_navigation\" href=\"mailto:ir@daangn.com\" rel=\"noreferrer noopener\" target=\"_blank\">IR</a>, <a class=\"_588sy4192 _588sy41w _588sy41b2 _588sy41 s33xdi2 s33xdi1 _588sy42q _588sy415q _588sy4t8\" data-gtm=\"footer_navigation\" href=\"mailto:pr@daangn.com\" rel=\"noreferrer noopener\" target=\"_blank\">PR</a>, <a class=\"_588sy4192 _588sy41w _588sy41b2 _588sy41 s33xdi2 s33xdi1 _588sy42q _588sy415q _588sy4t8\" data-gtm=\"footer_navigation\" href=\"https://daangn.com/wv/faqs\" rel=\"noreferrer noopener\" target=\"_blank\">고객센터</a>, <a class=\"_588sy4192 _588sy41x _588sy41b2 _588sy42\" href=\"https://www.daangn.com/policy/terms\" rel=\"noreferrer noopener\" target=\"_blank\">이용약관</a>, <a class=\"_588sy4192 _588sy41x _588sy41b2 _588sy42 s33xdi3\" href=\"https://privacy.daangn.com/\" rel=\"noreferrer noopener\" target=\"_blank\">개\u0000\u0000인정보처리방침</a>, <a class=\"_588sy4192 _588sy41x _588sy41b2 _588sy42\" href=\"https://cs.kr.karrotmarket.com/wv/faqs/slug/operation_policy\" rel=\"noreferrer noopener\" target=\"_blank\">운영정책</a>, <a class=\"_588sy4192 _588sy41x _588sy41b2 _588sy42\" href=\"https://www.daangn.com/policy/location\" rel=\"noreferrer noopener\" target=\"_blank\">위치기반서비스 이용약관</a>, <a class=\"_588sy4192 _588sy41x _588sy41b2 _588sy42\" href=\"https://www.daangn.com/wv/faqs/3994\" rel=\"noreferrer noopener\" target=\"_blank\">이용자보호 비전과 계획</a>, <a class=\"_588sy4192 _588sy41x _588sy41b2 _588sy42\" href=\"https://www.daangn.com/wv/faqs/9010\" rel=\"noreferrer noopener\" target=\"_blank\">청소년보호정책</a>]\n",
            "75\n",
            "------------------------\n",
            "아이폰\n",
            "의자\n",
            "자전거\n",
            "컴퓨터\n",
            "책상\n",
            "소파\n",
            "원피스\n",
            "전기자전거\n",
            "식탁\n",
            "모니터\n"
          ]
        }
      ]
    },
    {
      "cell_type": "code",
      "source": [
        "import requests\n",
        "from bs4 import BeautifulSoup as bs\n",
        "\n",
        "page = requests.get(\"https://www.daangn.com/kr/buy-sell/?category_id=1&in=%EB%B6%81%EA%B5%AC-742\")\n",
        "soup = bs(page.content, \"html.parser\")\n",
        "\n",
        "for x in range(0,10):\n",
        "    print(soup.select(\"._1b153uwk._1b153uwj._588sy41w._588sy41b\")[x].get_text())\n",
        "\n"
      ],
      "metadata": {
        "colab": {
          "base_uri": "https://localhost:8080/"
        },
        "id": "mEvR8cgvE_-m",
        "outputId": "85309bfa-3b28-4d9a-9d42-501933624d30"
      },
      "execution_count": 8,
      "outputs": [
        {
          "output_type": "stream",
          "name": "stdout",
          "text": [
            "갤럭시 워치7 40미리 미개봉\n",
            "24년6월말구입 신품급 아수스 게이밍 노트북 17\" i7-13 RTX4050 램16 SSD512 윈11\n",
            "아이패드 에어 11 m2 퍼플 128 와이파이\n",
            "미개봉) 커세어 DARK CORE RGB PRO 유무선 게이밍 마우스 DARK-CORE-RGB-PRO\n",
            "씨텍 충전기 MXS5.0 고무범퍼 보호케이스\n",
            "삼성 갤럭시 워치 액티브2 충전독 EP-OR825  충전기 판매합니다\n",
            "고사양 게이밍 pc\n",
            "레노버 아이디어패드3  팝니다.\n",
            "동국제약 센텔리안 24 마데카프라임 디바이스\n",
            "아이폰13미니 미드나이트 128 리퍼 미사용 새상품\n"
          ]
        }
      ]
    },
    {
      "cell_type": "code",
      "source": [
        "from bs4 import BeautifulSoup\n",
        "from urllib.request import urlopen\n",
        "\n",
        "fr = urlopen(\"https://music.bugs.co.kr/chart?wl_ref=M_left_02_01\")\n",
        "soup = BeautifulSoup(fr.read(), 'html.parser')\n",
        "\n",
        "musics = soup.find_all('td', \"check\")\n",
        "\n",
        "for i, music in enumerate(musics):\n",
        "    print(\"{}위: {}\".format(i + 1, music.input['title']))\n"
      ],
      "metadata": {
        "colab": {
          "base_uri": "https://localhost:8080/"
        },
        "id": "c6L8bNJ7LAIf",
        "outputId": "b7d1ce4a-3133-4fbf-d2f6-977989c0f873"
      },
      "execution_count": 9,
      "outputs": [
        {
          "output_type": "stream",
          "name": "stdout",
          "text": [
            "1위: Whiplash\n",
            "2위: APT.\n",
            "3위: POWER\n",
            "4위: Mantra\n",
            "5위: UP (KARINA Solo)\n",
            "6위: HAPPY\n",
            "7위: Drowning\n",
            "8위: 내 이름 맑음\n",
            "9위: Supernova\n",
            "10위: 내게 사랑이 뭐냐고 물어본다면\n",
            "11위: Igloo\n",
            "12위: 너와의 모든 지금\n",
            "13위: Welcome to the Show\n",
            "14위: 한 페이지가 될 수 있게\n",
            "15위: Cherish (My Love)\n",
            "16위: Supernatural\n",
            "17위: 네모네모\n",
            "18위: 고민중독\n",
            "19위: 청춘만화\n",
            "20위: 녹아내려요\n",
            "21위: How Sweet\n",
            "22위: Supersonic\n",
            "23위: 소나기\n",
            "24위: 어떻게 이별까지 사랑하겠어, 널 사랑하는 거지\n",
            "25위: DRIP\n",
            "26위: No Doubt\n",
            "27위: Armageddon\n",
            "28위: 예뻤어\n",
            "29위: Sticky\n",
            "30위: Love wins all\n",
            "31위: 에피소드\n",
            "32위: 첫 만남은 계획대로 되지 않아\n",
            "33위: When I'm With You\n",
            "34위: Small girl (feat. 도경수(D.O.))\n",
            "35위: 천상연\n",
            "36위: Congratulations\n",
            "37위: MEOW\n",
            "38위: 나는 아픈 건 딱 질색이니까\n",
            "39위: Gravity\n",
            "40위: Magnetic\n",
            "41위: SOS\n",
            "42위: Love me or Leave me\n",
            "43위: Ditto\n",
            "44위: 숲\n",
            "45위: 나는 반딧불\n",
            "46위: Hype Boy\n",
            "47위: 주저하는 연인들을 위해\n",
            "48위: 그대만 있다면 (여름날 우리 X 너드커넥션 (Nerd Connection))\n",
            "49위: Attention\n",
            "50위: 해야 (HEYA)\n",
            "51위: 슬픈 초대장\n",
            "52위: 아직 거기 살아\n",
            "53위: LOVE, MONEY, FAME (feat. DJ Khaled)\n",
            "54위: Bubble Gum\n",
            "55위: Flying Kiss\n",
            "56위: 비의 랩소디\n",
            "57위: 클락션 (Klaxon)\n",
            "58위: 모든 날, 모든 순간 (Every day, Every Moment)\n",
            "59위: To. X\n",
            "60위: 그녀가 웃었다\n",
            "61위: I AM\n",
            "62위: 그리운건 그대일까 그때일까 (A Sleepless Night)\n",
            "63위: 미안해 미워해 사랑해\n",
            "64위: 너의 모든 순간\n",
            "65위: 사랑인가 봐\n",
            "66위: 사건의 지평선\n",
            "67위: Steal The Show (From “엘리멘탈”)\n",
            "68위: Boom Boom Bass\n",
            "69위: 내가 S면 넌 나의 N이 되어줘\n",
            "70위: Live My Life\n",
            "71위: 헤어지자 말해요\n",
            "72위: Cruel Summer\n",
            "73위: Die With A Smile\n",
            "74위: Spicy\n",
            "75위: 별별별 (See that?)\n",
            "76위: Super Shy\n",
            "77위: 인사\n",
            "78위: LOVE DIVE\n",
            "79위: 사랑은 늘 도망가\n",
            "80위: 청혼하지 않을 이유를 못 찾았어\n",
            "81위: 태양물고기\n",
            "82위: 밤양갱\n",
            "83위: ETA\n",
            "84위: After LIKE\n",
            "85위: Get A Guitar\n",
            "86위: Check Pattern\n",
            "87위: Touch\n",
            "88위: SPOT! (feat. JENNIE)\n",
            "89위: Blue Moon\n",
            "90위: Drama\n",
            "91위: CRAZY\n",
            "92위: Cosmic\n",
            "93위: 오래된 노래\n",
            "94위: 미워하다, 그리워하고\n",
            "95위: Girls Never Die\n",
            "96위: Dangerously\n",
            "97위: 그랬나봐\n",
            "98위: Love Lee\n",
            "99위: Firefly\n",
            "100위: 달랐을까\n"
          ]
        }
      ]
    },
    {
      "cell_type": "code",
      "source": [
        "from bs4 import BeautifulSoup\n",
        "from urllib.request import urlopen\n",
        "\n",
        "fr = urlopen(\"https://music.bugs.co.kr/chart?wl_ref=M_left_02_01\")\n",
        "soup = BeautifulSoup(fr.read(), 'html.parser')\n",
        "\n",
        "music = soup.find_all('p', class_='title')\n",
        "artists = soup.find_all('p', class_='artist')\n",
        "\n",
        "for i in range(len(music)):\n",
        "    song = music[i].get_text(strip=True)\n",
        "    artist = artists[i].get_text(strip=True)\n",
        "    print(f\"{i + 1}위: {song} , {artist}\")\n",
        "\n"
      ],
      "metadata": {
        "colab": {
          "base_uri": "https://localhost:8080/"
        },
        "id": "l4VylUwuP1xL",
        "outputId": "9f53b5e3-a576-4e41-8217-a4274414b861"
      },
      "execution_count": 18,
      "outputs": [
        {
          "output_type": "stream",
          "name": "stdout",
          "text": [
            "1위: Whiplash , aespa\n",
            "2위: APT. , 로제(ROSÉ)로제(ROSÉ)\n",
            "3위: POWER , G-DRAGON\n",
            "4위: Mantra , 제니 (JENNIE)\n",
            "5위: UP (KARINA Solo) , aespa\n",
            "6위: HAPPY , DAY6 (데이식스)\n",
            "7위: Drowning , WOODZ\n",
            "8위: 내 이름 맑음 , QWER\n",
            "9위: Supernova , aespa\n",
            "10위: 내게 사랑이 뭐냐고 물어본다면 , 로이킴\n",
            "11위: Igloo , KISS OF LIFE\n",
            "12위: 너와의 모든 지금 , 재쓰비 (JAESSBEE)\n",
            "13위: Welcome to the Show , DAY6 (데이식스)\n",
            "14위: 한 페이지가 될 수 있게 , DAY6 (데이식스)\n",
            "15위: Cherish (My Love) , 아일릿(ILLIT)\n",
            "16위: Supernatural , NewJeans\n",
            "17위: 네모네모 , YENA (최예나)\n",
            "18위: 고민중독 , QWER\n",
            "19위: 청춘만화 , 이무진\n",
            "20위: 녹아내려요 , DAY6 (데이식스)\n",
            "21위: How Sweet , NewJeans\n",
            "22위: Supersonic , 프로미스나인\n",
            "23위: 소나기 , 이클립스 (ECLIPSE)\n",
            "24위: 어떻게 이별까지 사랑하겠어, 널 사랑하는 거지 , AKMU(악뮤)\n",
            "25위: DRIP , BABYMONSTER\n",
            "26위: No Doubt , 엔하이픈 (ENHYPEN)\n",
            "27위: Armageddon , aespa\n",
            "28위: 예뻤어 , DAY6 (데이식스)\n",
            "29위: Sticky , KISS OF LIFE\n",
            "30위: Love wins all , 아이유(IU)\n",
            "31위: 에피소드 , 이무진\n",
            "32위: 첫 만남은 계획대로 되지 않아 , TWS (투어스)\n",
            "33위: When I'm With You , NCT DREAM\n",
            "34위: Small girl (feat. 도경수(D.O.)) , 이영지\n",
            "35위: 천상연 , 이창섭\n",
            "36위: Congratulations , DAY6 (데이식스)\n",
            "37위: MEOW , MEOVV (미야오)\n",
            "38위: 나는 아픈 건 딱 질색이니까 , (여자)아이들\n",
            "39위: Gravity , FIFTY FIFTY\n",
            "40위: Magnetic , 아일릿(ILLIT)\n",
            "41위: SOS , FIFTY FIFTY\n",
            "42위: Love me or Leave me , DAY6 (데이식스)\n",
            "43위: Ditto , NewJeans\n",
            "44위: 숲 , 최유리\n",
            "45위: 나는 반딧불 , 황가람\n",
            "46위: Hype Boy , NewJeans\n",
            "47위: 주저하는 연인들을 위해 , 잔나비\n",
            "48위: 그대만 있다면 (여름날 우리 X 너드커넥션 (Nerd Connection)) , 너드커넥션(Nerd Connection)\n",
            "49위: Attention , NewJeans\n",
            "50위: 해야 (HEYA) , IVE (아이브)\n",
            "51위: 슬픈 초대장 , 순순희 (지환)\n",
            "52위: 아직 거기 살아 , DAY6 (데이식스)\n",
            "53위: LOVE, MONEY, FAME (feat. DJ Khaled) , 세븐틴(SEVENTEEN)\n",
            "54위: Bubble Gum , NewJeans\n",
            "55위: Flying Kiss , NCT DREAM\n",
            "56위: 비의 랩소디 , 임재현\n",
            "57위: 클락션 (Klaxon) , (여자)아이들\n",
            "58위: 모든 날, 모든 순간 (Every day, Every Moment) , 폴킴(Paul Kim)\n",
            "59위: To. X , 태연 (TAEYEON)\n",
            "60위: 그녀가 웃었다 , DAY6 (데이식스)\n",
            "61위: I AM , IVE (아이브)\n",
            "62위: 그리운건 그대일까 그때일까 (A Sleepless Night) , 씨엔블루(CNBLUE)\n",
            "63위: 미안해 미워해 사랑해 , Crush\n",
            "64위: 너의 모든 순간 , 성시경\n",
            "65위: 사랑인가 봐 , 멜로망스(MeloMance)\n",
            "66위: 사건의 지평선 , 윤하(Younha/ユンナ)\n",
            "67위: Steal The Show (From “엘리멘탈”) , Lauv(라우브)\n",
            "68위: Boom Boom Bass , RIIZE\n",
            "69위: 내가 S면 넌 나의 N이 되어줘 , TWS (투어스)\n",
            "70위: Live My Life , aespa\n",
            "71위: 헤어지자 말해요 , 박재정\n",
            "72위: Cruel Summer , Taylor Swift(테일러 스위프트)\n",
            "73위: Die With A Smile , Lady GaGa(레이디 가가)Lady GaGa(레이디 가가)\n",
            "74위: Spicy , aespa\n",
            "75위: 별별별 (See that?) , NMIXX\n",
            "76위: Super Shy , NewJeans\n",
            "77위: 인사 , 범진\n",
            "78위: LOVE DIVE , IVE (아이브)\n",
            "79위: 사랑은 늘 도망가 , 임영웅\n",
            "80위: 청혼하지 않을 이유를 못 찾았어 , 이무진\n",
            "81위: 태양물고기 , 윤하(Younha/ユンナ)\n",
            "82위: 밤양갱 , 비비(BIBI)\n",
            "83위: ETA , NewJeans\n",
            "84위: After LIKE , IVE (아이브)\n",
            "85위: Get A Guitar , RIIZE\n",
            "86위: Check Pattern , 성진 (DAY6)\n",
            "87위: Touch , KATSEYE\n",
            "88위: SPOT! (feat. JENNIE) , 지코 (ZICO)\n",
            "89위: Blue Moon , 엔플라잉(N.Flying)\n",
            "90위: Drama , aespa\n",
            "91위: CRAZY , LE SSERAFIM (르세라핌)\n",
            "92위: Cosmic , Red Velvet (레드벨벳)\n",
            "93위: 오래된 노래 , 허각허각\n",
            "94위: 미워하다, 그리워하고 , 유회승 (엔플라잉)\n",
            "95위: Girls Never Die , tripleS (트리플에스)\n",
            "96위: Dangerously , Charlie Puth(찰리 푸스)\n",
            "97위: 그랬나봐 , 유회승 (엔플라잉)\n",
            "98위: Love Lee , AKMU(악뮤)\n",
            "99위: Firefly , 엔플라잉(N.Flying)\n",
            "100위: 달랐을까 , PLAVE\n"
          ]
        }
      ]
    },
    {
      "cell_type": "code",
      "source": [
        "import pandas as pd\n",
        "import matplotlib.pyplot as plt\n",
        "import datetime as dt\n",
        "\n",
        "weather = pd.read_csv('weather.csv')\n",
        "\n",
        "print(weather[ weather['평균풍속'].isna() == True])"
      ],
      "metadata": {
        "colab": {
          "base_uri": "https://localhost:8080/"
        },
        "id": "j79YcpvwRLwB",
        "outputId": "5a9ed6ba-faea-43e6-90d6-5a5add08572e"
      },
      "execution_count": 22,
      "outputs": [
        {
          "output_type": "stream",
          "name": "stdout",
          "text": [
            "              일시  평균기온  최대풍속  평균풍속\n",
            "559   2012-02-11  -0.7   NaN   NaN\n",
            "560   2012-02-12   0.4   NaN   NaN\n",
            "561   2012-02-13   4.0   NaN   NaN\n",
            "1694  2015-03-22  10.1  11.6   NaN\n",
            "1704  2015-04-01   7.3  12.1   NaN\n",
            "3182  2019-04-18  15.7  11.7   NaN\n"
          ]
        }
      ]
    },
    {
      "cell_type": "code",
      "source": [
        "import pandas as pd\n",
        "import matplotlib.pyplot as plt\n",
        "import datetime as dt\n",
        "\n",
        "weather = pd.read_csv('weather.csv')\n",
        "\n",
        "print(weather[ weather['평균풍속'].isna() == True])\n",
        "print(weather[ weather['최대풍속'].isna() == True])\n",
        "print(weather[ weather['평균기온'].isna() == True])"
      ],
      "metadata": {
        "colab": {
          "base_uri": "https://localhost:8080/"
        },
        "id": "t7IiWsO9XU3c",
        "outputId": "95086f97-e1a1-48e1-82fa-5b57a78b65de"
      },
      "execution_count": 23,
      "outputs": [
        {
          "output_type": "stream",
          "name": "stdout",
          "text": [
            "              일시  평균기온  최대풍속  평균풍속\n",
            "559   2012-02-11  -0.7   NaN   NaN\n",
            "560   2012-02-12   0.4   NaN   NaN\n",
            "561   2012-02-13   4.0   NaN   NaN\n",
            "1694  2015-03-22  10.1  11.6   NaN\n",
            "1704  2015-04-01   7.3  12.1   NaN\n",
            "3182  2019-04-18  15.7  11.7   NaN\n",
            "              일시  평균기온  최대풍속  평균풍속\n",
            "559   2012-02-11  -0.7   NaN   NaN\n",
            "560   2012-02-12   0.4   NaN   NaN\n",
            "561   2012-02-13   4.0   NaN   NaN\n",
            "3183  2019-04-19   7.8   NaN   2.3\n",
            "Empty DataFrame\n",
            "Columns: [일시, 평균기온, 최대풍속, 평균풍속]\n",
            "Index: []\n"
          ]
        }
      ]
    },
    {
      "cell_type": "code",
      "source": [
        "import pandas as pd\n",
        "import matplotlib.pyplot as plt\n",
        "import datetime as dt\n",
        "\n",
        "weather = pd.read_csv('weather.csv')\n",
        "\n",
        "print(weather[ weather['평균풍속'].isnull() == True].sum())\n"
      ],
      "metadata": {
        "colab": {
          "base_uri": "https://localhost:8080/"
        },
        "id": "pTdZEsl0YMV2",
        "outputId": "1f755f0e-19db-461b-b459-f7e74d2e7bd4"
      },
      "execution_count": 24,
      "outputs": [
        {
          "output_type": "stream",
          "name": "stdout",
          "text": [
            "일시      2012-02-112012-02-122012-02-132015-03-222015-0...\n",
            "평균기온                                                 36.8\n",
            "최대풍속                                                 35.4\n",
            "평균풍속                                                  0.0\n",
            "dtype: object\n"
          ]
        }
      ]
    },
    {
      "cell_type": "code",
      "source": [
        "import pandas as pd\n",
        "import matplotlib.pyplot as plt\n",
        "import datetime as dt\n",
        "\n",
        "weather = pd.read_csv('weather.csv')\n",
        "\n",
        "weather.dropna(axis=0, how=\"any\", inplace=True)\n",
        "\n",
        "print(weather[ weather['평균풍속'].isna() == True])\n"
      ],
      "metadata": {
        "colab": {
          "base_uri": "https://localhost:8080/"
        },
        "id": "W4gIEfSIZHaB",
        "outputId": "f654ad69-175a-425b-d07f-b6fef01501d3"
      },
      "execution_count": 25,
      "outputs": [
        {
          "output_type": "stream",
          "name": "stdout",
          "text": [
            "Empty DataFrame\n",
            "Columns: [일시, 평균기온, 최대풍속, 평균풍속]\n",
            "Index: []\n"
          ]
        }
      ]
    },
    {
      "cell_type": "code",
      "source": [
        "import pandas as pd\n",
        "import matplotlib.pyplot as plt\n",
        "import datetime as dt\n",
        "\n",
        "weather = pd.read_csv('weather.csv')\n",
        "\n",
        "weather.fillna(0,inplace= True)\n",
        "\n",
        "print(weather[ weather['평균풍속'] == 0.0])\n"
      ],
      "metadata": {
        "colab": {
          "base_uri": "https://localhost:8080/"
        },
        "id": "XVVWG_IWZykP",
        "outputId": "dbdfcb80-0121-435a-fdad-3fe9e0110126"
      },
      "execution_count": 27,
      "outputs": [
        {
          "output_type": "stream",
          "name": "stdout",
          "text": [
            "              일시  평균기온  최대풍속  평균풍속\n",
            "559   2012-02-11  -0.7   0.0   0.0\n",
            "560   2012-02-12   0.4   0.0   0.0\n",
            "561   2012-02-13   4.0   0.0   0.0\n",
            "1694  2015-03-22  10.1  11.6   0.0\n",
            "1704  2015-04-01   7.3  12.1   0.0\n",
            "3182  2019-04-18  15.7  11.7   0.0\n"
          ]
        }
      ]
    },
    {
      "cell_type": "code",
      "source": [
        "import pandas as pd\n",
        "import matplotlib.pyplot as plt\n",
        "import datetime as dt\n",
        "\n",
        "weather = pd.read_csv('weather.csv')\n",
        "\n",
        "weather['최대풍속'].fillna(weather['최대풍속'].mean(), inplace=True)\n",
        "weather['평균풍속'].fillna(weather['평균풍속'].mean(), inplace=True)\n",
        "\n",
        "print(weather[ weather['일시'] == '2012-02-11'])\n"
      ],
      "metadata": {
        "colab": {
          "base_uri": "https://localhost:8080/"
        },
        "id": "kCGnqrHKbRGt",
        "outputId": "f4e3d602-0ccf-43de-803c-9f80d55d3a5a"
      },
      "execution_count": 28,
      "outputs": [
        {
          "output_type": "stream",
          "name": "stdout",
          "text": [
            "             일시  평균기온      최대풍속      평균풍속\n",
            "559  2012-02-11  -0.7  7.911099  3.936441\n"
          ]
        },
        {
          "output_type": "stream",
          "name": "stderr",
          "text": [
            "<ipython-input-28-78f89f5c5b16>:7: FutureWarning: A value is trying to be set on a copy of a DataFrame or Series through chained assignment using an inplace method.\n",
            "The behavior will change in pandas 3.0. This inplace method will never work because the intermediate object on which we are setting values always behaves as a copy.\n",
            "\n",
            "For example, when doing 'df[col].method(value, inplace=True)', try using 'df.method({col: value}, inplace=True)' or df[col] = df[col].method(value) instead, to perform the operation inplace on the original object.\n",
            "\n",
            "\n",
            "  weather['최대풍속'].fillna(weather['최대풍속'].mean(), inplace=True)\n",
            "<ipython-input-28-78f89f5c5b16>:8: FutureWarning: A value is trying to be set on a copy of a DataFrame or Series through chained assignment using an inplace method.\n",
            "The behavior will change in pandas 3.0. This inplace method will never work because the intermediate object on which we are setting values always behaves as a copy.\n",
            "\n",
            "For example, when doing 'df[col].method(value, inplace=True)', try using 'df.method({col: value}, inplace=True)' or df[col] = df[col].method(value) instead, to perform the operation inplace on the original object.\n",
            "\n",
            "\n",
            "  weather['평균풍속'].fillna(weather['평균풍속'].mean(), inplace=True)\n"
          ]
        }
      ]
    },
    {
      "cell_type": "code",
      "source": [
        "import pandas as pd\n",
        "import matplotlib.pyplot as plt\n",
        "import datetime as dt\n",
        "\n",
        "weather = pd.read_csv('weather.csv')\n",
        "\n",
        "weather['일시'] = pd.to_datetime(weather['일시'])\n",
        "\n",
        "weather['최대풍속'] = weather['최대풍속'].fillna(weather['최대풍속'].mean())\n",
        "weather['평균풍속'] = weather['평균풍속'].fillna(weather['평균풍속'].mean())\n",
        "\n",
        "print(weather[weather['일시'] == '2012-02-11'])\n"
      ],
      "metadata": {
        "colab": {
          "base_uri": "https://localhost:8080/"
        },
        "id": "HX-hiTyQbRT5",
        "outputId": "45261772-dc98-48d3-fd18-b3efe951d7fb"
      },
      "execution_count": 29,
      "outputs": [
        {
          "output_type": "stream",
          "name": "stdout",
          "text": [
            "            일시  평균기온      최대풍속      평균풍속\n",
            "559 2012-02-11  -0.7  7.911099  3.936441\n"
          ]
        }
      ]
    },
    {
      "cell_type": "code",
      "source": [],
      "metadata": {
        "id": "1gpZ5B9Rbe4k"
      },
      "execution_count": null,
      "outputs": []
    }
  ]
}