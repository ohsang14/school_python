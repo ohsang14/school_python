{
  "nbformat": 4,
  "nbformat_minor": 0,
  "metadata": {
    "colab": {
      "provenance": [],
      "authorship_tag": "ABX9TyOI1dqLIyg5nUBqrr8lUI2g",
      "include_colab_link": true
    },
    "kernelspec": {
      "name": "python3",
      "display_name": "Python 3"
    },
    "language_info": {
      "name": "python"
    }
  },
  "cells": [
    {
      "cell_type": "markdown",
      "metadata": {
        "id": "view-in-github",
        "colab_type": "text"
      },
      "source": [
        "<a href=\"https://colab.research.google.com/github/ohsang14/school_python/blob/main/11%EC%9B%9419%EC%9D%BC.ipynb\" target=\"_parent\"><img src=\"https://colab.research.google.com/assets/colab-badge.svg\" alt=\"Open In Colab\"/></a>"
      ]
    },
    {
      "cell_type": "code",
      "execution_count": 1,
      "metadata": {
        "colab": {
          "base_uri": "https://localhost:8080/"
        },
        "id": "k6v2ccxe8SJ_",
        "outputId": "c486823d-d3c7-4bf7-9b78-38312251eb1d"
      },
      "outputs": [
        {
          "output_type": "stream",
          "name": "stdout",
          "text": [
            "0    False\n",
            "1    False\n",
            "2     True\n",
            "3    False\n",
            "4     True\n",
            "dtype: bool\n",
            "---------------------\n",
            "0    False\n",
            "1    False\n",
            "2     True\n",
            "3    False\n",
            "4    False\n",
            "dtype: bool\n"
          ]
        }
      ],
      "source": [
        "import pandas as pd\n",
        "\n",
        "data = {'key1': ['a', 'b', 'b', 'c', 'c'],\n",
        "        'key2': ['v', 'w', 'w', 'x', 'y'],\n",
        "        'col': [1, 2, 3, 4, 5]}\n",
        "\n",
        "df = pd.DataFrame(data, columns=['key1', 'key2', 'col'])\n",
        "\n",
        "print(df.duplicated(['key1']))\n",
        "print('---------------------')\n",
        "print(df.duplicated(['key1', 'key2']))"
      ]
    },
    {
      "cell_type": "code",
      "source": [
        "import pandas as pd\n",
        "\n",
        "data = {'key1': ['a', 'b', 'b', 'c', 'c'],\n",
        "        'key2': ['v', 'w', 'w', 'x', 'y'],\n",
        "        'col': [1, 2, 3, 4, 5]}\n",
        "\n",
        "df = pd.DataFrame(data, columns=['key1','key2','col'])\n",
        "\n",
        "print(df.duplicated(['key1']))\n",
        "print(\"-----------------\")\n",
        "\n",
        "df.drop_duplicates(['key1'], keep='first')"
      ],
      "metadata": {
        "colab": {
          "base_uri": "https://localhost:8080/",
          "height": 268
        },
        "id": "KPUlzle2A7b0",
        "outputId": "c13a610b-1aa8-40f7-8ff2-bdd9d852b5eb"
      },
      "execution_count": 4,
      "outputs": [
        {
          "output_type": "stream",
          "name": "stdout",
          "text": [
            "0    False\n",
            "1    False\n",
            "2     True\n",
            "3    False\n",
            "4     True\n",
            "dtype: bool\n",
            "-----------------\n"
          ]
        },
        {
          "output_type": "execute_result",
          "data": {
            "text/plain": [
              "  key1 key2  col\n",
              "0    a    v    1\n",
              "1    b    w    2\n",
              "3    c    x    4"
            ],
            "text/html": [
              "\n",
              "  <div id=\"df-ffbaeb3e-13f1-4192-a76a-5a634a13fec2\" class=\"colab-df-container\">\n",
              "    <div>\n",
              "<style scoped>\n",
              "    .dataframe tbody tr th:only-of-type {\n",
              "        vertical-align: middle;\n",
              "    }\n",
              "\n",
              "    .dataframe tbody tr th {\n",
              "        vertical-align: top;\n",
              "    }\n",
              "\n",
              "    .dataframe thead th {\n",
              "        text-align: right;\n",
              "    }\n",
              "</style>\n",
              "<table border=\"1\" class=\"dataframe\">\n",
              "  <thead>\n",
              "    <tr style=\"text-align: right;\">\n",
              "      <th></th>\n",
              "      <th>key1</th>\n",
              "      <th>key2</th>\n",
              "      <th>col</th>\n",
              "    </tr>\n",
              "  </thead>\n",
              "  <tbody>\n",
              "    <tr>\n",
              "      <th>0</th>\n",
              "      <td>a</td>\n",
              "      <td>v</td>\n",
              "      <td>1</td>\n",
              "    </tr>\n",
              "    <tr>\n",
              "      <th>1</th>\n",
              "      <td>b</td>\n",
              "      <td>w</td>\n",
              "      <td>2</td>\n",
              "    </tr>\n",
              "    <tr>\n",
              "      <th>3</th>\n",
              "      <td>c</td>\n",
              "      <td>x</td>\n",
              "      <td>4</td>\n",
              "    </tr>\n",
              "  </tbody>\n",
              "</table>\n",
              "</div>\n",
              "    <div class=\"colab-df-buttons\">\n",
              "\n",
              "  <div class=\"colab-df-container\">\n",
              "    <button class=\"colab-df-convert\" onclick=\"convertToInteractive('df-ffbaeb3e-13f1-4192-a76a-5a634a13fec2')\"\n",
              "            title=\"Convert this dataframe to an interactive table.\"\n",
              "            style=\"display:none;\">\n",
              "\n",
              "  <svg xmlns=\"http://www.w3.org/2000/svg\" height=\"24px\" viewBox=\"0 -960 960 960\">\n",
              "    <path d=\"M120-120v-720h720v720H120Zm60-500h600v-160H180v160Zm220 220h160v-160H400v160Zm0 220h160v-160H400v160ZM180-400h160v-160H180v160Zm440 0h160v-160H620v160ZM180-180h160v-160H180v160Zm440 0h160v-160H620v160Z\"/>\n",
              "  </svg>\n",
              "    </button>\n",
              "\n",
              "  <style>\n",
              "    .colab-df-container {\n",
              "      display:flex;\n",
              "      gap: 12px;\n",
              "    }\n",
              "\n",
              "    .colab-df-convert {\n",
              "      background-color: #E8F0FE;\n",
              "      border: none;\n",
              "      border-radius: 50%;\n",
              "      cursor: pointer;\n",
              "      display: none;\n",
              "      fill: #1967D2;\n",
              "      height: 32px;\n",
              "      padding: 0 0 0 0;\n",
              "      width: 32px;\n",
              "    }\n",
              "\n",
              "    .colab-df-convert:hover {\n",
              "      background-color: #E2EBFA;\n",
              "      box-shadow: 0px 1px 2px rgba(60, 64, 67, 0.3), 0px 1px 3px 1px rgba(60, 64, 67, 0.15);\n",
              "      fill: #174EA6;\n",
              "    }\n",
              "\n",
              "    .colab-df-buttons div {\n",
              "      margin-bottom: 4px;\n",
              "    }\n",
              "\n",
              "    [theme=dark] .colab-df-convert {\n",
              "      background-color: #3B4455;\n",
              "      fill: #D2E3FC;\n",
              "    }\n",
              "\n",
              "    [theme=dark] .colab-df-convert:hover {\n",
              "      background-color: #434B5C;\n",
              "      box-shadow: 0px 1px 3px 1px rgba(0, 0, 0, 0.15);\n",
              "      filter: drop-shadow(0px 1px 2px rgba(0, 0, 0, 0.3));\n",
              "      fill: #FFFFFF;\n",
              "    }\n",
              "  </style>\n",
              "\n",
              "    <script>\n",
              "      const buttonEl =\n",
              "        document.querySelector('#df-ffbaeb3e-13f1-4192-a76a-5a634a13fec2 button.colab-df-convert');\n",
              "      buttonEl.style.display =\n",
              "        google.colab.kernel.accessAllowed ? 'block' : 'none';\n",
              "\n",
              "      async function convertToInteractive(key) {\n",
              "        const element = document.querySelector('#df-ffbaeb3e-13f1-4192-a76a-5a634a13fec2');\n",
              "        const dataTable =\n",
              "          await google.colab.kernel.invokeFunction('convertToInteractive',\n",
              "                                                    [key], {});\n",
              "        if (!dataTable) return;\n",
              "\n",
              "        const docLinkHtml = 'Like what you see? Visit the ' +\n",
              "          '<a target=\"_blank\" href=https://colab.research.google.com/notebooks/data_table.ipynb>data table notebook</a>'\n",
              "          + ' to learn more about interactive tables.';\n",
              "        element.innerHTML = '';\n",
              "        dataTable['output_type'] = 'display_data';\n",
              "        await google.colab.output.renderOutput(dataTable, element);\n",
              "        const docLink = document.createElement('div');\n",
              "        docLink.innerHTML = docLinkHtml;\n",
              "        element.appendChild(docLink);\n",
              "      }\n",
              "    </script>\n",
              "  </div>\n",
              "\n",
              "\n",
              "<div id=\"df-156347f9-3a0b-4501-a0a6-a919405bccc2\">\n",
              "  <button class=\"colab-df-quickchart\" onclick=\"quickchart('df-156347f9-3a0b-4501-a0a6-a919405bccc2')\"\n",
              "            title=\"Suggest charts\"\n",
              "            style=\"display:none;\">\n",
              "\n",
              "<svg xmlns=\"http://www.w3.org/2000/svg\" height=\"24px\"viewBox=\"0 0 24 24\"\n",
              "     width=\"24px\">\n",
              "    <g>\n",
              "        <path d=\"M19 3H5c-1.1 0-2 .9-2 2v14c0 1.1.9 2 2 2h14c1.1 0 2-.9 2-2V5c0-1.1-.9-2-2-2zM9 17H7v-7h2v7zm4 0h-2V7h2v10zm4 0h-2v-4h2v4z\"/>\n",
              "    </g>\n",
              "</svg>\n",
              "  </button>\n",
              "\n",
              "<style>\n",
              "  .colab-df-quickchart {\n",
              "      --bg-color: #E8F0FE;\n",
              "      --fill-color: #1967D2;\n",
              "      --hover-bg-color: #E2EBFA;\n",
              "      --hover-fill-color: #174EA6;\n",
              "      --disabled-fill-color: #AAA;\n",
              "      --disabled-bg-color: #DDD;\n",
              "  }\n",
              "\n",
              "  [theme=dark] .colab-df-quickchart {\n",
              "      --bg-color: #3B4455;\n",
              "      --fill-color: #D2E3FC;\n",
              "      --hover-bg-color: #434B5C;\n",
              "      --hover-fill-color: #FFFFFF;\n",
              "      --disabled-bg-color: #3B4455;\n",
              "      --disabled-fill-color: #666;\n",
              "  }\n",
              "\n",
              "  .colab-df-quickchart {\n",
              "    background-color: var(--bg-color);\n",
              "    border: none;\n",
              "    border-radius: 50%;\n",
              "    cursor: pointer;\n",
              "    display: none;\n",
              "    fill: var(--fill-color);\n",
              "    height: 32px;\n",
              "    padding: 0;\n",
              "    width: 32px;\n",
              "  }\n",
              "\n",
              "  .colab-df-quickchart:hover {\n",
              "    background-color: var(--hover-bg-color);\n",
              "    box-shadow: 0 1px 2px rgba(60, 64, 67, 0.3), 0 1px 3px 1px rgba(60, 64, 67, 0.15);\n",
              "    fill: var(--button-hover-fill-color);\n",
              "  }\n",
              "\n",
              "  .colab-df-quickchart-complete:disabled,\n",
              "  .colab-df-quickchart-complete:disabled:hover {\n",
              "    background-color: var(--disabled-bg-color);\n",
              "    fill: var(--disabled-fill-color);\n",
              "    box-shadow: none;\n",
              "  }\n",
              "\n",
              "  .colab-df-spinner {\n",
              "    border: 2px solid var(--fill-color);\n",
              "    border-color: transparent;\n",
              "    border-bottom-color: var(--fill-color);\n",
              "    animation:\n",
              "      spin 1s steps(1) infinite;\n",
              "  }\n",
              "\n",
              "  @keyframes spin {\n",
              "    0% {\n",
              "      border-color: transparent;\n",
              "      border-bottom-color: var(--fill-color);\n",
              "      border-left-color: var(--fill-color);\n",
              "    }\n",
              "    20% {\n",
              "      border-color: transparent;\n",
              "      border-left-color: var(--fill-color);\n",
              "      border-top-color: var(--fill-color);\n",
              "    }\n",
              "    30% {\n",
              "      border-color: transparent;\n",
              "      border-left-color: var(--fill-color);\n",
              "      border-top-color: var(--fill-color);\n",
              "      border-right-color: var(--fill-color);\n",
              "    }\n",
              "    40% {\n",
              "      border-color: transparent;\n",
              "      border-right-color: var(--fill-color);\n",
              "      border-top-color: var(--fill-color);\n",
              "    }\n",
              "    60% {\n",
              "      border-color: transparent;\n",
              "      border-right-color: var(--fill-color);\n",
              "    }\n",
              "    80% {\n",
              "      border-color: transparent;\n",
              "      border-right-color: var(--fill-color);\n",
              "      border-bottom-color: var(--fill-color);\n",
              "    }\n",
              "    90% {\n",
              "      border-color: transparent;\n",
              "      border-bottom-color: var(--fill-color);\n",
              "    }\n",
              "  }\n",
              "</style>\n",
              "\n",
              "  <script>\n",
              "    async function quickchart(key) {\n",
              "      const quickchartButtonEl =\n",
              "        document.querySelector('#' + key + ' button');\n",
              "      quickchartButtonEl.disabled = true;  // To prevent multiple clicks.\n",
              "      quickchartButtonEl.classList.add('colab-df-spinner');\n",
              "      try {\n",
              "        const charts = await google.colab.kernel.invokeFunction(\n",
              "            'suggestCharts', [key], {});\n",
              "      } catch (error) {\n",
              "        console.error('Error during call to suggestCharts:', error);\n",
              "      }\n",
              "      quickchartButtonEl.classList.remove('colab-df-spinner');\n",
              "      quickchartButtonEl.classList.add('colab-df-quickchart-complete');\n",
              "    }\n",
              "    (() => {\n",
              "      let quickchartButtonEl =\n",
              "        document.querySelector('#df-156347f9-3a0b-4501-a0a6-a919405bccc2 button');\n",
              "      quickchartButtonEl.style.display =\n",
              "        google.colab.kernel.accessAllowed ? 'block' : 'none';\n",
              "    })();\n",
              "  </script>\n",
              "</div>\n",
              "\n",
              "    </div>\n",
              "  </div>\n"
            ],
            "application/vnd.google.colaboratory.intrinsic+json": {
              "type": "dataframe",
              "summary": "{\n  \"name\": \"df\",\n  \"rows\": 3,\n  \"fields\": [\n    {\n      \"column\": \"key1\",\n      \"properties\": {\n        \"dtype\": \"string\",\n        \"num_unique_values\": 3,\n        \"samples\": [\n          \"a\",\n          \"b\",\n          \"c\"\n        ],\n        \"semantic_type\": \"\",\n        \"description\": \"\"\n      }\n    },\n    {\n      \"column\": \"key2\",\n      \"properties\": {\n        \"dtype\": \"string\",\n        \"num_unique_values\": 3,\n        \"samples\": [\n          \"v\",\n          \"w\",\n          \"x\"\n        ],\n        \"semantic_type\": \"\",\n        \"description\": \"\"\n      }\n    },\n    {\n      \"column\": \"col\",\n      \"properties\": {\n        \"dtype\": \"number\",\n        \"std\": 1,\n        \"min\": 1,\n        \"max\": 4,\n        \"num_unique_values\": 3,\n        \"samples\": [\n          1,\n          2,\n          4\n        ],\n        \"semantic_type\": \"\",\n        \"description\": \"\"\n      }\n    }\n  ]\n}"
            }
          },
          "metadata": {},
          "execution_count": 4
        }
      ]
    },
    {
      "cell_type": "code",
      "source": [
        "import pandas as pd\n",
        "\n",
        "df_1 = pd.DataFrame({'A': ['a10', 'a11', 'a12'],\n",
        "                     'B': ['b10', 'b11', 'b12'],\n",
        "                     'C': ['c10', 'c11', 'c12']},\n",
        "                    index=['가', '나', '다'])\n",
        "\n",
        "df_2 = pd.DataFrame({'B': ['b23', 'b24', 'b25'],\n",
        "                     'C': ['c23', 'c24', 'c25'],\n",
        "                     'D': ['d23', 'd24', 'd25']},\n",
        "                    index=['다', '라', '마'])\n",
        "\n",
        "df_3 = pd.concat([df_1, df_2])\n",
        "\n",
        "print(df_3)"
      ],
      "metadata": {
        "colab": {
          "base_uri": "https://localhost:8080/"
        },
        "id": "Fch5IyKNA7vp",
        "outputId": "dbe9bbea-94ad-4f66-fd2c-3fabb53033b8"
      },
      "execution_count": 5,
      "outputs": [
        {
          "output_type": "stream",
          "name": "stdout",
          "text": [
            "     A    B    C    D\n",
            "가  a10  b10  c10  NaN\n",
            "나  a11  b11  c11  NaN\n",
            "다  a12  b12  c12  NaN\n",
            "다  NaN  b23  c23  d23\n",
            "라  NaN  b24  c24  d24\n",
            "마  NaN  b25  c25  d25\n"
          ]
        }
      ]
    },
    {
      "cell_type": "code",
      "source": [
        "# 1) axis = 0\n",
        "# join = outer : 열 합집합\n",
        "# join = inner : 열 교집합\n",
        "import pandas as pd\n",
        "\n",
        "df_1 = pd.DataFrame({'A': ['a10', 'a11', 'a12'],\n",
        "                     'B': ['b10', 'b11', 'b12'],\n",
        "                     'C': ['c10', 'c11', 'c12']},\n",
        "                    index=['가', '나', '다'])\n",
        "\n",
        "df_2 = pd.DataFrame({'B': ['b23', 'b24', 'b25'],\n",
        "                     'C': ['c23', 'c24', 'c25'],\n",
        "                     'D': ['d23', 'd24', 'd25']},\n",
        "                    index=['다', '라', '마'])\n",
        "\n",
        "df_3 = pd.concat([df_1, df_2])\n",
        "df_4 = pd.concat([df_1, df_2],axis=0, join='inner')\n",
        "df_5 = pd.concat([df_1, df_2],axis=1)\n",
        "df_6 = pd.concat([df_1, df_2],axis=1, join='inner')\n",
        "\n",
        "print(\"----------------------------\")\n",
        "print(df_3)\n",
        "print(\"-----------------------------\")\n",
        "print(df_4)\n",
        "print(\"-----------------------------\")\n",
        "print(df_5)\n",
        "print(\"-----------------------------\")\n",
        "print(df_6)\n"
      ],
      "metadata": {
        "colab": {
          "base_uri": "https://localhost:8080/"
        },
        "id": "XTUDOC7FC1zR",
        "outputId": "8d20f697-5e46-490b-d3e9-7a245913562e"
      },
      "execution_count": 7,
      "outputs": [
        {
          "output_type": "stream",
          "name": "stdout",
          "text": [
            "----------------------------\n",
            "     A    B    C    D\n",
            "가  a10  b10  c10  NaN\n",
            "나  a11  b11  c11  NaN\n",
            "다  a12  b12  c12  NaN\n",
            "다  NaN  b23  c23  d23\n",
            "라  NaN  b24  c24  d24\n",
            "마  NaN  b25  c25  d25\n",
            "-----------------------------\n",
            "     B    C\n",
            "가  b10  c10\n",
            "나  b11  c11\n",
            "다  b12  c12\n",
            "다  b23  c23\n",
            "라  b24  c24\n",
            "마  b25  c25\n",
            "-----------------------------\n",
            "     A    B    C    B    C    D\n",
            "가  a10  b10  c10  NaN  NaN  NaN\n",
            "나  a11  b11  c11  NaN  NaN  NaN\n",
            "다  a12  b12  c12  b23  c23  d23\n",
            "라  NaN  NaN  NaN  b24  c24  d24\n",
            "마  NaN  NaN  NaN  b25  c25  d25\n",
            "-----------------------------\n",
            "     A    B    C    B    C    D\n",
            "다  a12  b12  c12  b23  c23  d23\n"
          ]
        }
      ]
    },
    {
      "cell_type": "code",
      "source": [
        "import pandas as pd\n",
        "\n",
        "df_1 = pd.DataFrame({'A': ['a10', 'a11', 'a12'],\n",
        "                     'B': ['b10', 'b11', 'b12'],\n",
        "                     'C': ['c10', 'c11', 'c12']},\n",
        "                    index=['가', '나', '다'])\n",
        "\n",
        "df_2 = pd.DataFrame({'B': ['b23', 'b24', 'b25'],\n",
        "                     'C': ['c23', 'c24', 'c25'],\n",
        "                     'D': ['d23', 'd24', 'd25']},\n",
        "                    index=['다', '라', '마'])\n",
        "\n",
        "# axis = 0 행확장\n",
        "# join = outer : 열 집합\n",
        "# join = inner : 열 교집합\n",
        "\n",
        "# axis = 1 열 확장\n",
        "# join = outer : 행 합집합\n",
        "# join = inner : 행 교집합\n",
        "\n",
        "df_3 = pd.concat([df_1, df_2] ,axis=0,join='outer')\n",
        "df_4 = pd.concat([df_1, df_2],axis=0, join='inner')\n",
        "df_5 = pd.concat([df_1, df_2],axis=1, join='outer')\n",
        "df_6 = pd.concat([df_1, df_2],axis=1, join='inner')\n",
        "\n",
        "print(\"----------------------------\")\n",
        "print(df_3)\n",
        "print(\"-----------------------------\")\n",
        "print(df_4)\n",
        "print(\"-----------------------------\")\n",
        "print(df_5)\n",
        "print(\"-----------------------------\")\n",
        "print(df_6)\n"
      ],
      "metadata": {
        "colab": {
          "base_uri": "https://localhost:8080/"
        },
        "id": "QHqQzlM2ETIf",
        "outputId": "ca7d1e43-c3e7-4232-86fb-c416eb55624b"
      },
      "execution_count": 8,
      "outputs": [
        {
          "output_type": "stream",
          "name": "stdout",
          "text": [
            "----------------------------\n",
            "     A    B    C    D\n",
            "가  a10  b10  c10  NaN\n",
            "나  a11  b11  c11  NaN\n",
            "다  a12  b12  c12  NaN\n",
            "다  NaN  b23  c23  d23\n",
            "라  NaN  b24  c24  d24\n",
            "마  NaN  b25  c25  d25\n",
            "-----------------------------\n",
            "     B    C\n",
            "가  b10  c10\n",
            "나  b11  c11\n",
            "다  b12  c12\n",
            "다  b23  c23\n",
            "라  b24  c24\n",
            "마  b25  c25\n",
            "-----------------------------\n",
            "     A    B    C    B    C    D\n",
            "가  a10  b10  c10  NaN  NaN  NaN\n",
            "나  a11  b11  c11  NaN  NaN  NaN\n",
            "다  a12  b12  c12  b23  c23  d23\n",
            "라  NaN  NaN  NaN  b24  c24  d24\n",
            "마  NaN  NaN  NaN  b25  c25  d25\n",
            "-----------------------------\n",
            "     A    B    C    B    C    D\n",
            "다  a12  b12  c12  b23  c23  d23\n"
          ]
        }
      ]
    },
    {
      "cell_type": "code",
      "source": [
        "import pandas as pd\n",
        "\n",
        "df_1 = pd.DataFrame({'A': ['a10', 'a11', 'a12'],\n",
        "                     'B': ['b10', 'b11', 'b12'],\n",
        "                     'C': ['c10', 'c11', 'c12']},\n",
        "                    index=['가', '나', '다'])\n",
        "\n",
        "df_2 = pd.DataFrame({'B': ['b23', 'b24', 'b25'],\n",
        "                     'C': ['c23', 'c24', 'c25'],\n",
        "                     'D': ['d23', 'd24', 'd25']},\n",
        "                    index=['다', '라', '마'])\n",
        "\n",
        "print(pd.concat([df_1, df_2], axis=0, join='outer'))\n",
        "print('---------------------')\n",
        "print(pd.concat([df_1, df_2], axis=1, join='outer'))"
      ],
      "metadata": {
        "colab": {
          "base_uri": "https://localhost:8080/"
        },
        "id": "MBLBIWUmGQmy",
        "outputId": "0dfebaca-048b-4053-c959-24310a2524d0"
      },
      "execution_count": 9,
      "outputs": [
        {
          "output_type": "stream",
          "name": "stdout",
          "text": [
            "     A    B    C    D\n",
            "가  a10  b10  c10  NaN\n",
            "나  a11  b11  c11  NaN\n",
            "다  a12  b12  c12  NaN\n",
            "다  NaN  b23  c23  d23\n",
            "라  NaN  b24  c24  d24\n",
            "마  NaN  b25  c25  d25\n",
            "---------------------\n",
            "     A    B    C    B    C    D\n",
            "가  a10  b10  c10  NaN  NaN  NaN\n",
            "나  a11  b11  c11  NaN  NaN  NaN\n",
            "다  a12  b12  c12  b23  c23  d23\n",
            "라  NaN  NaN  NaN  b24  c24  d24\n",
            "마  NaN  NaN  NaN  b25  c25  d25\n"
          ]
        }
      ]
    },
    {
      "cell_type": "code",
      "source": [
        "import pandas as pd\n",
        "\n",
        "df_1 = pd.DataFrame({'A': ['a10', 'a11', 'a12'],\n",
        "                     'B': ['b10', 'b11', 'b12'],\n",
        "                     'C': ['c10', 'c11', 'c12']},\n",
        "                    index=['가', '나', '다'])\n",
        "\n",
        "df_2 = pd.DataFrame({'B': ['b23', 'b24', 'b25'],\n",
        "                     'C': ['c23', 'c24', 'c25'],\n",
        "                     'D': ['d23', 'd24', 'd25']},\n",
        "                    index=['다', '라', '마'])\n",
        "\n",
        "print('left outer \\n', df_1.merge(df_2, how='left', on='B'))\n",
        "print('right outer \\n', df_1.merge(df_2, how='right', on='B'))\n",
        "print('full outer \\n', df_1.merge(df_2, how='outer', on='B'))\n",
        "print('inner \\n', df_1.merge(df_2, how='inner', on='B'))"
      ],
      "metadata": {
        "colab": {
          "base_uri": "https://localhost:8080/"
        },
        "id": "-4T-nAxYNT8v",
        "outputId": "d339d55c-9517-485c-fa22-e0df3d45a4f2"
      },
      "execution_count": 10,
      "outputs": [
        {
          "output_type": "stream",
          "name": "stdout",
          "text": [
            "left outer \n",
            "      A    B  C_x  C_y    D\n",
            "0  a10  b10  c10  NaN  NaN\n",
            "1  a11  b11  c11  NaN  NaN\n",
            "2  a12  b12  c12  NaN  NaN\n",
            "right outer \n",
            "      A    B  C_x  C_y    D\n",
            "0  NaN  b23  NaN  c23  d23\n",
            "1  NaN  b24  NaN  c24  d24\n",
            "2  NaN  b25  NaN  c25  d25\n",
            "full outer \n",
            "      A    B  C_x  C_y    D\n",
            "0  a10  b10  c10  NaN  NaN\n",
            "1  a11  b11  c11  NaN  NaN\n",
            "2  a12  b12  c12  NaN  NaN\n",
            "3  NaN  b23  NaN  c23  d23\n",
            "4  NaN  b24  NaN  c24  d24\n",
            "5  NaN  b25  NaN  c25  d25\n",
            "inner \n",
            " Empty DataFrame\n",
            "Columns: [A, B, C_x, C_y, D]\n",
            "Index: []\n"
          ]
        }
      ]
    },
    {
      "cell_type": "code",
      "source": [
        "import pandas as pd\n",
        "\n",
        "df_1 = pd.DataFrame({'A': ['a10', 'a11', 'a12'],\n",
        "                     'B': ['b10', 'b11', 'b12'],\n",
        "                     'C': ['c10', 'c11', 'c12']},\n",
        "                    index=['가', '나', '다'])\n",
        "\n",
        "df_2 = pd.DataFrame({'B': ['b23', 'b24', 'b25'],\n",
        "                     'C': ['c23', 'c24', 'c25'],\n",
        "                     'D': ['d23', 'd24', 'd25']},\n",
        "                    index=['다', '라', '마'])\n",
        "\n",
        "df_3 = df_1.merge(df_2, how='outer', left_index=True, right_index=True)\n",
        "\n",
        "print(df_3)"
      ],
      "metadata": {
        "colab": {
          "base_uri": "https://localhost:8080/"
        },
        "id": "uR4-4t4jOWH-",
        "outputId": "2076085f-8587-4b64-85fd-6782c7b2a12c"
      },
      "execution_count": 11,
      "outputs": [
        {
          "output_type": "stream",
          "name": "stdout",
          "text": [
            "     A  B_x  C_x  B_y  C_y    D\n",
            "가  a10  b10  c10  NaN  NaN  NaN\n",
            "나  a11  b11  c11  NaN  NaN  NaN\n",
            "다  a12  b12  c12  b23  c23  d23\n",
            "라  NaN  NaN  NaN  b24  c24  d24\n",
            "마  NaN  NaN  NaN  b25  c25  d25\n"
          ]
        }
      ]
    },
    {
      "cell_type": "code",
      "source": [
        "import pandas as pd\n",
        "\n",
        "df_1 = pd.DataFrame({'A': ['a10', 'a11', 'a12'],\n",
        "                     'B': ['b10', 'b11', 'b12'],\n",
        "                     'C': ['c10', 'c11', 'c12']},\n",
        "                    index=['가', '나', '다'])\n",
        "\n",
        "df_2 = pd.DataFrame({'B': ['b23', 'b24', 'b25'],\n",
        "                     'C': ['c23', 'c24', 'c25'],\n",
        "                     'D': ['d23', 'd24', 'd25']},\n",
        "                    index=['다', '라', '마'])\n",
        "\n",
        "df_3 = df_1.merge(df_2, how='outer', left_index=True, right_index=True)\n",
        "df_4 = pd.concat([df_1, df_2], axis=1, join=\"outer\")\n",
        "print(df_3)\n",
        "print(\"------------------------------------\")\n",
        "print(df_4)\n",
        "\n",
        "\n"
      ],
      "metadata": {
        "colab": {
          "base_uri": "https://localhost:8080/"
        },
        "id": "W0hATlxRP1A1",
        "outputId": "5ab7d390-453a-4458-8f7c-ba2b0eee95b3"
      },
      "execution_count": 12,
      "outputs": [
        {
          "output_type": "stream",
          "name": "stdout",
          "text": [
            "     A  B_x  C_x  B_y  C_y    D\n",
            "가  a10  b10  c10  NaN  NaN  NaN\n",
            "나  a11  b11  c11  NaN  NaN  NaN\n",
            "다  a12  b12  c12  b23  c23  d23\n",
            "라  NaN  NaN  NaN  b24  c24  d24\n",
            "마  NaN  NaN  NaN  b25  c25  d25\n",
            "------------------------------------\n",
            "     A    B    C    B    C    D\n",
            "가  a10  b10  c10  NaN  NaN  NaN\n",
            "나  a11  b11  c11  NaN  NaN  NaN\n",
            "다  a12  b12  c12  b23  c23  d23\n",
            "라  NaN  NaN  NaN  b24  c24  d24\n",
            "마  NaN  NaN  NaN  b25  c25  d25\n"
          ]
        }
      ]
    },
    {
      "cell_type": "code",
      "source": [
        "import pandas as pd\n",
        "\n",
        "\n",
        "weather = pd.read_csv('weather.csv')\n",
        "\n",
        "weather['month'] = pd.DatetimeIndex(weather['일시']).month\n",
        "means = weather.groupby('month').mean(['평균기온,최대풍속,평균풍속'])\n",
        "print(means)"
      ],
      "metadata": {
        "colab": {
          "base_uri": "https://localhost:8080/"
        },
        "id": "kAiBSrOcQcmb",
        "outputId": "5ce3f02d-28b8-4395-dbb4-e884c5384da1"
      },
      "execution_count": 15,
      "outputs": [
        {
          "output_type": "stream",
          "name": "stdout",
          "text": [
            "            평균기온      최대풍속      평균풍속\n",
            "month                               \n",
            "1       1.598387  8.158065  3.757419\n",
            "2       2.136396  8.225357  3.946786\n",
            "3       6.250323  8.871935  4.390291\n",
            "4      11.064667  9.305017  4.622483\n",
            "5      16.564194  8.548710  4.219355\n",
            "6      19.616667  6.945667  3.461000\n",
            "7      23.328387  7.322581  3.877419\n",
            "8      24.748710  6.853226  3.596129\n",
            "9      20.323667  6.896333  3.661667\n",
            "10     15.383871  7.766774  3.961613\n",
            "11      9.889667  8.013333  3.930667\n",
            "12      3.753548  8.045484  3.817097\n"
          ]
        }
      ]
    },
    {
      "cell_type": "code",
      "source": [
        "import pandas as pd\n",
        "\n",
        "weather = pd.read_csv('weather.csv')\n",
        "\n",
        "weather['month'] = pd.DatetimeIndex(weather['일시']).month\n",
        "means = weather.groupby('month').mean(['평균기온,최대풍속,평균풍속'])\n",
        "means2 = weather.groupby('month').sum(['평균기온,최대풍속,평균풍속'])\n",
        "print(means)\n",
        "print(means2)\n"
      ],
      "metadata": {
        "colab": {
          "base_uri": "https://localhost:8080/"
        },
        "id": "b1m5txYkSB9V",
        "outputId": "826ae740-cfa4-4564-e155-40e5dd3ef4a1"
      },
      "execution_count": 16,
      "outputs": [
        {
          "output_type": "stream",
          "name": "stdout",
          "text": [
            "            평균기온      최대풍속      평균풍속\n",
            "month                               \n",
            "1       1.598387  8.158065  3.757419\n",
            "2       2.136396  8.225357  3.946786\n",
            "3       6.250323  8.871935  4.390291\n",
            "4      11.064667  9.305017  4.622483\n",
            "5      16.564194  8.548710  4.219355\n",
            "6      19.616667  6.945667  3.461000\n",
            "7      23.328387  7.322581  3.877419\n",
            "8      24.748710  6.853226  3.596129\n",
            "9      20.323667  6.896333  3.661667\n",
            "10     15.383871  7.766774  3.961613\n",
            "11      9.889667  8.013333  3.930667\n",
            "12      3.753548  8.045484  3.817097\n",
            "         평균기온    최대풍속    평균풍속\n",
            "month                        \n",
            "1       495.5  2529.0  1164.8\n",
            "2       604.6  2303.1  1105.1\n",
            "3      1937.6  2750.3  1356.6\n",
            "4      3319.4  2782.2  1377.5\n",
            "5      5134.9  2650.1  1308.0\n",
            "6      5885.0  2083.7  1038.3\n",
            "7      7231.8  2270.0  1202.0\n",
            "8      7672.1  2124.5  1114.8\n",
            "9      6097.1  2068.9  1098.5\n",
            "10     4769.0  2407.7  1228.1\n",
            "11     2966.9  2404.0  1179.2\n",
            "12     1163.6  2494.1  1183.3\n"
          ]
        }
      ]
    },
    {
      "cell_type": "code",
      "source": [
        "import pandas as pd\n",
        "import matplotlib.pyplot as plt\n",
        "import datetime as dt\n",
        "\n",
        "weather = pd.read_csv('weather.csv')\n",
        "\n",
        "weather['month'] = pd.DatetimeIndex(weather['일시']).month\n",
        "means = weather.groupby('month').mean(['평균기온,최대풍속,평균풍속'])\n",
        "means['평균풍속'].plot()\n",
        "\n",
        "\n",
        "print(means)\n",
        "\n"
      ],
      "metadata": {
        "colab": {
          "base_uri": "https://localhost:8080/",
          "height": 699
        },
        "id": "4iKb3FhpUaAO",
        "outputId": "2f935fca-a97c-4dcc-cea4-5a42e95df8f8"
      },
      "execution_count": 17,
      "outputs": [
        {
          "output_type": "stream",
          "name": "stdout",
          "text": [
            "            평균기온      최대풍속      평균풍속\n",
            "month                               \n",
            "1       1.598387  8.158065  3.757419\n",
            "2       2.136396  8.225357  3.946786\n",
            "3       6.250323  8.871935  4.390291\n",
            "4      11.064667  9.305017  4.622483\n",
            "5      16.564194  8.548710  4.219355\n",
            "6      19.616667  6.945667  3.461000\n",
            "7      23.328387  7.322581  3.877419\n",
            "8      24.748710  6.853226  3.596129\n",
            "9      20.323667  6.896333  3.661667\n",
            "10     15.383871  7.766774  3.961613\n",
            "11      9.889667  8.013333  3.930667\n",
            "12      3.753548  8.045484  3.817097\n"
          ]
        },
        {
          "output_type": "display_data",
          "data": {
            "text/plain": [
              "<Figure size 640x480 with 1 Axes>"
            ],
            "image/png": "[encoded data removed]"
          },
          "metadata": {}
        }
      ]
    },
    {
      "cell_type": "code",
      "source": [
        "import pandas as pd\n",
        "import matplotlib.pyplot as plt\n",
        "import datetime as dt\n",
        "\n",
        "weather = pd.read_csv('weather.csv')\n",
        "\n",
        "weather['month'] = pd.DatetimeIndex(weather['일시']).month\n",
        "means = weather.groupby('month').mean(['평균기온,최대풍속,평균풍속'])\n",
        "\n",
        "means['평균풍속'].plot()\n",
        "\n",
        "plt.show()\n"
      ],
      "metadata": {
        "colab": {
          "base_uri": "https://localhost:8080/",
          "height": 449
        },
        "id": "WnxwbihdUyge",
        "outputId": "535566dd-a594-4cfc-b36a-77fc0240a00a"
      },
      "execution_count": 18,
      "outputs": [
        {
          "output_type": "display_data",
          "data": {
            "text/plain": [
              "<Figure size 640x480 with 1 Axes>"
            ],
            "image/png": "[encoded data removed]"
          },
          "metadata": {}
        }
      ]
    },
    {
      "cell_type": "code",
      "source": [
        "import pandas as pd\n",
        "import matplotlib.pyplot as plt\n",
        "import datetime as dt\n",
        "\n",
        "weather = pd.read_csv('weather.csv')\n",
        "\n",
        "weather['month'] = pd.DatetimeIndex(weather['일시']).month\n",
        "\n",
        "print(weather[ weather['최대풍속'] >= 10.0])"
      ],
      "metadata": {
        "colab": {
          "base_uri": "https://localhost:8080/"
        },
        "id": "Ws1KpWuJVZCl",
        "outputId": "c10c65e0-fb85-451b-d218-25dc5c5aa14a"
      },
      "execution_count": 20,
      "outputs": [
        {
          "output_type": "stream",
          "name": "stdout",
          "text": [
            "              일시  평균기온  최대풍속  평균풍속  month\n",
            "9     2010-08-10  25.6  10.2   5.5      8\n",
            "12    2010-08-13  24.3  10.9   4.6      8\n",
            "13    2010-08-14  25.0  10.8   4.4      8\n",
            "14    2010-08-15  24.5  16.9  10.3      8\n",
            "29    2010-08-30  26.2  10.5   6.2      8\n",
            "...          ...   ...   ...   ...    ...\n",
            "3622  2020-07-01  16.8  19.7   8.7      7\n",
            "3632  2020-07-11  20.1  10.3   4.1      7\n",
            "3634  2020-07-13  17.8  10.3   4.6      7\n",
            "3635  2020-07-14  17.8  12.7   9.4      7\n",
            "3641  2020-07-20  23.0  11.2   7.3      7\n",
            "\n",
            "[830 rows x 5 columns]\n"
          ]
        }
      ]
    },
    {
      "cell_type": "code",
      "source": [
        "import pandas as pd\n",
        "import matplotlib.pyplot as plt\n",
        "\n",
        "weather = pd.read_csv('weather.csv')\n",
        "\n",
        "weather['month'] = pd.DatetimeIndex(weather['일시']).month\n",
        "\n",
        "print(weather[ weather['최대풍속'] >= 15.0].count())"
      ],
      "metadata": {
        "colab": {
          "base_uri": "https://localhost:8080/"
        },
        "id": "qwGTIuNgarjj",
        "outputId": "6fff3d46-8ae6-4ae3-b5e1-7629915833a4"
      },
      "execution_count": 21,
      "outputs": [
        {
          "output_type": "stream",
          "name": "stdout",
          "text": [
            "일시       73\n",
            "평균기온     73\n",
            "최대풍속     73\n",
            "평균풍속     73\n",
            "month    73\n",
            "dtype: int64\n"
          ]
        }
      ]
    },
    {
      "cell_type": "code",
      "source": [
        "import pandas as pd\n",
        "import matplotlib.pyplot as plt\n",
        "\n",
        "weather = pd.read_csv('weather.csv')\n",
        "\n",
        "weather['month'] = pd.DatetimeIndex(weather['일시']).month\n",
        "\n",
        "df_1 = weather[weather['최대풍속'] >= 15.0]\n",
        "\n",
        "row_count = df_1.shape[0]\n",
        "print(\"조건을 만족하는 행의 수 (shape):\", row_count)\n",
        "\n",
        "row_count = len(df_1)\n",
        "print(\"조건을 만족하는 행의 수 (len):\", row_count)"
      ],
      "metadata": {
        "colab": {
          "base_uri": "https://localhost:8080/"
        },
        "id": "_iPFspNabZLP",
        "outputId": "0ce6cf9c-f679-4731-cb7b-2d8c167d45a7"
      },
      "execution_count": 23,
      "outputs": [
        {
          "output_type": "stream",
          "name": "stdout",
          "text": [
            "조건을 만족하는 행의 수 (shape): 73\n",
            "조건을 만족하는 행의 수 (len): 73\n"
          ]
        }
      ]
    },
    {
      "cell_type": "code",
      "source": [
        "import pandas as pd\n",
        "\n",
        "df_1 = pd.DataFrame({\n",
        "    'item': ['ring0', 'ring0', 'ring1', 'ring1'],\n",
        "    'type': ['Gold', 'Silver', 'Gold', 'Bronze'],\n",
        "    'price': [20000, 10000, 50000, 30000]\n",
        "})\n",
        "\n",
        "df_2 = df_1.pivot(index='item', columns='type', values='price')\n",
        "\n",
        "print(df_2)"
      ],
      "metadata": {
        "colab": {
          "base_uri": "https://localhost:8080/"
        },
        "id": "Ls0_6FWrcBDb",
        "outputId": "5ade77ee-1cc4-43ff-d978-4c3ce4684c89"
      },
      "execution_count": 24,
      "outputs": [
        {
          "output_type": "stream",
          "name": "stdout",
          "text": [
            "type    Bronze     Gold   Silver\n",
            "item                            \n",
            "ring0      NaN  20000.0  10000.0\n",
            "ring1  30000.0  50000.0      NaN\n"
          ]
        }
      ]
    },
    {
      "cell_type": "code",
      "source": [],
      "metadata": {
        "id": "iaS7Sd1ne46P"
      },
      "execution_count": null,
      "outputs": []
    }
  ]
}