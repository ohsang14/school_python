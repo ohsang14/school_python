{
  "nbformat": 4,
  "nbformat_minor": 0,
  "metadata": {
    "colab": {
      "provenance": [],
      "authorship_tag": "ABX9TyPTWWRvbdFkHtVTQDzqcqV4",
      "include_colab_link": true
    },
    "kernelspec": {
      "name": "python3",
      "display_name": "Python 3"
    },
    "language_info": {
      "name": "python"
    }
  },
  "cells": [
    {
      "cell_type": "markdown",
      "metadata": {
        "id": "view-in-github",
        "colab_type": "text"
      },
      "source": [
        "<a href=\"https://colab.research.google.com/github/ohsang14/school_python/blob/main/3%EC%9B%9411%EC%9D%BC.ipynb\" target=\"_parent\"><img src=\"https://colab.research.google.com/assets/colab-badge.svg\" alt=\"Open In Colab\"/></a>"
      ]
    },
    {
      "cell_type": "code",
      "execution_count": 2,
      "metadata": {
        "colab": {
          "base_uri": "https://localhost:8080/"
        },
        "id": "H9IaaniS-MSh",
        "outputId": "aca80e8f-8399-48c3-992c-781e7ec27256"
      },
      "outputs": [
        {
          "output_type": "stream",
          "name": "stdout",
          "text": [
            "[1 2 3]\n",
            "<class 'numpy.ndarray'>\n"
          ]
        }
      ],
      "source": [
        "import numpy as np\n",
        "\n",
        "arr = np.array([1,2,3])\n",
        "print(arr)\n",
        "print(type(arr))\n",
        "\n"
      ]
    },
    {
      "cell_type": "code",
      "source": [
        "import numpy as np\n",
        "\n",
        "arr1 = np.array([1,2,3])\n",
        "arr1 = arr1+2\n",
        "print(arr1)\n",
        "\n",
        "arr1 = arr1 * 2\n",
        "print(arr1)"
      ],
      "metadata": {
        "colab": {
          "base_uri": "https://localhost:8080/"
        },
        "id": "wOREe9seAWm2",
        "outputId": "bdbc2b0f-cdc1-430d-ee5d-8b2ca0fcdcbb"
      },
      "execution_count": 3,
      "outputs": [
        {
          "output_type": "stream",
          "name": "stdout",
          "text": [
            "[3 4 5]\n",
            "[ 6  8 10]\n"
          ]
        }
      ]
    },
    {
      "cell_type": "code",
      "source": [
        "import numpy as np\n",
        "\n",
        "lst1 = [1,2,3]\n",
        "lst2 = [4,5,6]\n",
        "print(lst1 + lst2)\n",
        "\n",
        "arr1 = np.array([1,2,3])\n",
        "arr2 = np.array([4,5,6])\n",
        "print(arr1 + arr2)\n"
      ],
      "metadata": {
        "colab": {
          "base_uri": "https://localhost:8080/"
        },
        "id": "sPqrf8ZkAe0Y",
        "outputId": "a6dfb097-d162-46ff-baf1-8464890f5ab0"
      },
      "execution_count": 4,
      "outputs": [
        {
          "output_type": "stream",
          "name": "stdout",
          "text": [
            "[1, 2, 3, 4, 5, 6]\n",
            "[5 7 9]\n"
          ]
        }
      ]
    },
    {
      "cell_type": "code",
      "source": [
        "import numpy as np\n",
        "\n",
        "print(np.arange(10), np.array(range(10)))\n",
        "print(np.arange(1,10), np.array(range(1,10)))\n",
        "print(np.arange(0,10,2), np.array(range(0,10,2)))"
      ],
      "metadata": {
        "colab": {
          "base_uri": "https://localhost:8080/"
        },
        "id": "IgM1eOU6AqAw",
        "outputId": "69bcee24-86ed-4ad6-8e6a-cfd5e7a5189d"
      },
      "execution_count": 5,
      "outputs": [
        {
          "output_type": "stream",
          "name": "stdout",
          "text": [
            "[0 1 2 3 4 5 6 7 8 9] [0 1 2 3 4 5 6 7 8 9]\n",
            "[1 2 3 4 5 6 7 8 9] [1 2 3 4 5 6 7 8 9]\n",
            "[0 2 4 6 8] [0 2 4 6 8]\n"
          ]
        }
      ]
    },
    {
      "cell_type": "code",
      "source": [
        "arr =np.eye(4)\n",
        "print(arr * 10)"
      ],
      "metadata": {
        "colab": {
          "base_uri": "https://localhost:8080/"
        },
        "id": "-Av7M_umA1Um",
        "outputId": "c6d9b63d-316d-4068-8d39-b336243dd722"
      },
      "execution_count": 6,
      "outputs": [
        {
          "output_type": "stream",
          "name": "stdout",
          "text": [
            "[[10.  0.  0.  0.]\n",
            " [ 0. 10.  0.  0.]\n",
            " [ 0.  0. 10.  0.]\n",
            " [ 0.  0.  0. 10.]]\n"
          ]
        }
      ]
    },
    {
      "cell_type": "code",
      "source": [
        "import numpy as np\n",
        "\n",
        "arr = np.array([1,2,3,4,5])\n",
        "print(arr[[0,2,4]])\n",
        "larr = arr >= 3\n",
        "print(larr)\n",
        "print(arr[larr])"
      ],
      "metadata": {
        "colab": {
          "base_uri": "https://localhost:8080/"
        },
        "id": "tYrO4tbNCapH",
        "outputId": "c07da482-acf6-4bfa-9909-3f345a4ce2a3"
      },
      "execution_count": 7,
      "outputs": [
        {
          "output_type": "stream",
          "name": "stdout",
          "text": [
            "[1 3 5]\n",
            "[False False  True  True  True]\n",
            "[3 4 5]\n"
          ]
        }
      ]
    },
    {
      "cell_type": "code",
      "source": [
        "import numpy as np\n",
        "\n",
        "arr = np.array([[1,2,3],[4,5,6]])\n",
        "\n",
        "larr = arr % 2 == 0\n",
        "print(larr)\n",
        "\n",
        "print(arr[larr])"
      ],
      "metadata": {
        "colab": {
          "base_uri": "https://localhost:8080/"
        },
        "id": "n3_5BL1pDgdt",
        "outputId": "955efea3-4875-4096-b2e3-a0cba5bde440"
      },
      "execution_count": 8,
      "outputs": [
        {
          "output_type": "stream",
          "name": "stdout",
          "text": [
            "[[False  True False]\n",
            " [ True False  True]]\n",
            "[2 4 6]\n"
          ]
        }
      ]
    },
    {
      "cell_type": "code",
      "source": [
        "import numpy as np\n",
        "\n",
        "arr1 = np.arange(8).reshape(2,4)\n",
        "arr2 = np.arange(8,16).reshape(2,4)\n",
        "\n",
        "print(arr1)\n",
        "print(arr2)\n",
        "print(np.concatenate((arr1,arr2), axis=0))\n",
        "print(np.concatenate((arr1,arr2), axis=1))"
      ],
      "metadata": {
        "colab": {
          "base_uri": "https://localhost:8080/"
        },
        "id": "ZlnI4A-sDvk1",
        "outputId": "54ccee47-774c-438b-9fc7-2498679744c7"
      },
      "execution_count": 9,
      "outputs": [
        {
          "output_type": "stream",
          "name": "stdout",
          "text": [
            "[[0 1 2 3]\n",
            " [4 5 6 7]]\n",
            "[[ 8  9 10 11]\n",
            " [12 13 14 15]]\n",
            "[[ 0  1  2  3]\n",
            " [ 4  5  6  7]\n",
            " [ 8  9 10 11]\n",
            " [12 13 14 15]]\n",
            "[[ 0  1  2  3  8  9 10 11]\n",
            " [ 4  5  6  7 12 13 14 15]]\n"
          ]
        }
      ]
    },
    {
      "cell_type": "code",
      "source": [
        "import numpy as np\n",
        "\n",
        "arr = np.arange(8).reshape(2,4)\n",
        "print(arr)\n",
        "\n",
        "up, down = np.split(arr,2,axis=0)\n",
        "print(up)\n",
        "print(down)\n",
        "\n",
        "left,right = np.split(arr,2,axis=1)\n",
        "print(left)\n",
        "print(right)\n"
      ],
      "metadata": {
        "colab": {
          "base_uri": "https://localhost:8080/"
        },
        "id": "5to3F4qFE-Ss",
        "outputId": "5465fb75-a9b9-478d-d9be-534fdd2aad6f"
      },
      "execution_count": 10,
      "outputs": [
        {
          "output_type": "stream",
          "name": "stdout",
          "text": [
            "[[0 1 2 3]\n",
            " [4 5 6 7]]\n",
            "[[0 1 2 3]]\n",
            "[[4 5 6 7]]\n",
            "[[0 1]\n",
            " [4 5]]\n",
            "[[2 3]\n",
            " [6 7]]\n"
          ]
        }
      ]
    },
    {
      "cell_type": "code",
      "source": [
        "# 도전문제\n",
        "\n",
        "import numpy as np\n",
        "\n",
        "b = np.array([[1,1,], [2,2], [3,3]])\n",
        "a = np.array([1,2,3])\n",
        "print(b)\n",
        "\n",
        "print(\"==============\")\n",
        "\n",
        "print(np.insert(b,1,[1,2,3,],axis=1))"
      ],
      "metadata": {
        "colab": {
          "base_uri": "https://localhost:8080/"
        },
        "id": "Nle0TFjGFLoN",
        "outputId": "e5dd7876-e2a4-43ec-9743-1e54bcd2dde1"
      },
      "execution_count": 13,
      "outputs": [
        {
          "output_type": "stream",
          "name": "stdout",
          "text": [
            "[[1 1]\n",
            " [2 2]\n",
            " [3 3]]\n",
            "==============\n",
            "[[1 1 1]\n",
            " [2 2 2]\n",
            " [3 3 3]]\n"
          ]
        }
      ]
    },
    {
      "cell_type": "code",
      "source": [
        "import numpy as np\n",
        "import time\n",
        "\n",
        "arr_a = np.random.rand(100)\n",
        "arr_b = np.random.rand(100)\n",
        "result = np.zeros(100)\n",
        "\n",
        "start = time.time()\n",
        "for i in range(len(arr_a)):\n",
        "    result[i] = arr_a[i] * arr_b[i]\n",
        "end = time.time()\n",
        "print('소요시간:', end - start)\n",
        "\n",
        "# 백터화 연산\n",
        "start = time.time()\n",
        "result = arr_a * arr_b\n",
        "end = time.time();\n",
        "print('소요시간:', end - start)"
      ],
      "metadata": {
        "colab": {
          "base_uri": "https://localhost:8080/"
        },
        "id": "v5LO3lgNF_Sd",
        "outputId": "088b7053-a073-4bc8-b0bd-d47dc6c263ac"
      },
      "execution_count": 14,
      "outputs": [
        {
          "output_type": "stream",
          "name": "stdout",
          "text": [
            "소요시간: 0.00028777122497558594\n",
            "소요시간: 0.000225067138671875\n"
          ]
        }
      ]
    },
    {
      "cell_type": "code",
      "source": [
        "import numpy as np\n",
        "import time\n",
        "\n",
        "n = 1000\n",
        "arr = np.random.rand(n,n)\n",
        "\n",
        "sum_naive = 0\n",
        "start = time.time()\n",
        "for i in range(n):\n",
        "    for j in range(n):\n",
        "        sum_naive += arr[i,j]\n",
        "end = time.time()\n",
        "print(n, 'x' ,n, \"배열의 원소 합\", sum_naive, '\\n계산 시간: ', end-start)"
      ],
      "metadata": {
        "colab": {
          "base_uri": "https://localhost:8080/"
        },
        "id": "mgzJCD1KMRqX",
        "outputId": "d11d44cb-8ce0-41d2-d300-3b5155784748"
      },
      "execution_count": 15,
      "outputs": [
        {
          "output_type": "stream",
          "name": "stdout",
          "text": [
            "1000 x 1000 배열의 원소 합 499794.30805128306 \n",
            "계산 시간:  0.5360891819000244\n"
          ]
        }
      ]
    },
    {
      "cell_type": "code",
      "source": [
        "import numpy as np\n",
        "import time\n",
        "\n",
        "n = 1000\n",
        "arr = np.random.rand(n,n)\n",
        "\n",
        "start = time.time()\n",
        "sum_reducation = np.sum(arr, axis=(0,1))\n",
        "end = time.time();\n",
        "\n",
        "print(n, 'x' ,n, \"배열의 원소 합\", sum_reducation, '\\n계산 시간: ', end-start)"
      ],
      "metadata": {
        "colab": {
          "base_uri": "https://localhost:8080/"
        },
        "id": "IWvoJiq2NLkY",
        "outputId": "e06a09a6-7391-472c-871a-1ca54e157cca"
      },
      "execution_count": 16,
      "outputs": [
        {
          "output_type": "stream",
          "name": "stdout",
          "text": [
            "1000 x 1000 배열의 원소 합 499934.82057750126 \n",
            "계산 시간:  0.0010175704956054688\n"
          ]
        }
      ]
    },
    {
      "cell_type": "code",
      "source": [
        "import numpy as np\n",
        "\n",
        "a = np.random.rand(50)\n",
        "print(a)"
      ],
      "metadata": {
        "colab": {
          "base_uri": "https://localhost:8080/"
        },
        "id": "J4KNljBGNV7k",
        "outputId": "b8d8af0a-e28c-4f4c-a918-cbfa833e448a"
      },
      "execution_count": 18,
      "outputs": [
        {
          "output_type": "stream",
          "name": "stdout",
          "text": [
            "[0.60053235 0.78025768 0.13942816 0.54532713 0.66376711 0.6274168\n",
            " 0.77449963 0.08002866 0.87928128 0.21266543 0.46430523 0.4509025\n",
            " 0.28220036 0.28121258 0.51241937 0.34166914 0.3032144  0.66237901\n",
            " 0.23993861 0.67006879 0.60014839 0.22648764 0.63960527 0.34606047\n",
            " 0.69455791 0.53304166 0.32333145 0.96931044 0.53711985 0.31345743\n",
            " 0.61491869 0.27296525 0.0133819  0.19149521 0.74169254 0.94782241\n",
            " 0.68682418 0.21902496 0.81788551 0.7665294  0.10165886 0.84710557\n",
            " 0.86257189 0.25163412 0.80696093 0.34737752 0.00281232 0.70611558\n",
            " 0.6907273  0.74641569]\n"
          ]
        }
      ]
    },
    {
      "cell_type": "code",
      "source": [
        "import numpy as np\n",
        "\n",
        "data = np.arange(1, 51)\n",
        "\n",
        "def train_8(data, train_r=0.8):\n",
        "    np.random.shuffle(data)\n",
        "    split_index = int(len(data) * train_r)\n",
        "    train_data = data[:split_index]\n",
        "    test_data = data[split_index:]\n",
        "    return train_data, test_data\n",
        "\n",
        "\n",
        "train_data, test_data = train_8(data)\n",
        "\n",
        "print(\"train Data:\", train_data)\n",
        "print(\"test Data:\", test_data)\n"
      ],
      "metadata": {
        "colab": {
          "base_uri": "https://localhost:8080/"
        },
        "id": "Xm95Su2VNx6c",
        "outputId": "36a4d774-1cce-4a49-d72f-0b9e4bc2cd90"
      },
      "execution_count": 20,
      "outputs": [
        {
          "output_type": "stream",
          "name": "stdout",
          "text": [
            "train Data: [45 22 24 43 23  7 20 42 37 48 44 14 18 12  8 16  2 38 32  5 15  6 40  4\n",
            " 50 30 49 36 41 13 47 34  1  3 31 33 10 25 39 26]\n",
            "test Data: [27  9 11 19 21 35 28 29 46 17]\n"
          ]
        }
      ]
    },
    {
      "cell_type": "code",
      "source": [],
      "metadata": {
        "id": "HdplZY-QPxP6"
      },
      "execution_count": null,
      "outputs": []
    }
  ]
}