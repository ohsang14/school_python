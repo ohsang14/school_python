{
  "nbformat": 4,
  "nbformat_minor": 0,
  "metadata": {
    "colab": {
      "provenance": [],
      "authorship_tag": "ABX9TyPPW9Ur4jAB+nf5hb5/P+Ts",
      "include_colab_link": true
    },
    "kernelspec": {
      "name": "python3",
      "display_name": "Python 3"
    },
    "language_info": {
      "name": "python"
    }
  },
  "cells": [
    {
      "cell_type": "markdown",
      "metadata": {
        "id": "view-in-github",
        "colab_type": "text"
      },
      "source": [
        "<a href=\"https://colab.research.google.com/github/ohsang14/school_python/blob/main/3%EC%9B%94_25%EC%9D%BC.ipynb\" target=\"_parent\"><img src=\"https://colab.research.google.com/assets/colab-badge.svg\" alt=\"Open In Colab\"/></a>"
      ]
    },
    {
      "cell_type": "code",
      "execution_count": 1,
      "metadata": {
        "colab": {
          "base_uri": "https://localhost:8080/"
        },
        "id": "Ao21CPgYEHvD",
        "outputId": "774d6fc5-db63-4877-f139-a51e89f6eb6c"
      },
      "outputs": [
        {
          "output_type": "stream",
          "name": "stdout",
          "text": [
            "0    1.0\n",
            "1    2.0\n",
            "2    NaN\n",
            "3    4.0\n",
            "dtype: float64\n"
          ]
        }
      ],
      "source": [
        "import numpy as np\n",
        "import pandas as pd\n",
        "\n",
        "se = pd.Series([1, 2, np.nan, 4])\n",
        "print(se)"
      ]
    },
    {
      "cell_type": "code",
      "source": [
        "import numpy as np\n",
        "import pandas as pd\n",
        "\n",
        "se = pd.Series([1, 2, np.nan, 4])\n",
        "print(se.isna())"
      ],
      "metadata": {
        "colab": {
          "base_uri": "https://localhost:8080/"
        },
        "id": "uT-V-gMxFy_c",
        "outputId": "375f3fc3-33ca-4f58-eafc-d3fa1fd99488"
      },
      "execution_count": 2,
      "outputs": [
        {
          "output_type": "stream",
          "name": "stdout",
          "text": [
            "0    False\n",
            "1    False\n",
            "2     True\n",
            "3    False\n",
            "dtype: bool\n"
          ]
        }
      ]
    },
    {
      "cell_type": "code",
      "source": [
        "import numpy as np\n",
        "import pandas as pd\n",
        "\n",
        "data = [1, 2, np.nan, 4]\n",
        "indexed_se = pd.Series(data, index = ['a', 'b', 'c','d'])\n",
        "\n",
        "print(indexed_se)\n",
        "\n"
      ],
      "metadata": {
        "colab": {
          "base_uri": "https://localhost:8080/"
        },
        "id": "Du4P9zTFF4ch",
        "outputId": "129dc23f-ec54-4c36-c63f-b1e76a3f4560"
      },
      "execution_count": 3,
      "outputs": [
        {
          "output_type": "stream",
          "name": "stdout",
          "text": [
            "a    1.0\n",
            "b    2.0\n",
            "c    NaN\n",
            "d    4.0\n",
            "dtype: float64\n"
          ]
        },
        {
          "output_type": "execute_result",
          "data": {
            "text/plain": [
              "(np.float64(1.0), np.float64(2.0))"
            ]
          },
          "metadata": {},
          "execution_count": 3
        }
      ]
    },
    {
      "cell_type": "code",
      "source": [
        "indexed_se['a'],indexed_se['b']"
      ],
      "metadata": {
        "colab": {
          "base_uri": "https://localhost:8080/"
        },
        "id": "l0o9yZVkGQTE",
        "outputId": "48b0a474-07fd-44bb-cf9e-c0fe15c208f2"
      },
      "execution_count": 4,
      "outputs": [
        {
          "output_type": "execute_result",
          "data": {
            "text/plain": [
              "(np.float64(1.0), np.float64(2.0))"
            ]
          },
          "metadata": {},
          "execution_count": 4
        }
      ]
    },
    {
      "cell_type": "code",
      "source": [
        "import numpy as np\n",
        "import pandas as pd\n",
        "\n",
        "income = {'1월': 9500, '2월': 6200, '3월': 6050, '4월': 7000}\n",
        "income_se = pd.Series(income)\n",
        "print(\"동윤이네 상점의 수익\")\n",
        "print(income_se)"
      ],
      "metadata": {
        "colab": {
          "base_uri": "https://localhost:8080/"
        },
        "id": "O8T-qyfvGSnE",
        "outputId": "3c78b9ee-1210-4f37-d69a-2c491762472e"
      },
      "execution_count": 5,
      "outputs": [
        {
          "output_type": "stream",
          "name": "stdout",
          "text": [
            "동윤이네 상점의 수익\n",
            "1월    9500\n",
            "2월    6200\n",
            "3월    6050\n",
            "4월    7000\n",
            "dtype: int64\n"
          ]
        }
      ]
    },
    {
      "cell_type": "code",
      "source": [
        "import numpy as np\n",
        "import pandas as pd\n",
        "\n",
        "month_se = pd.Series(['1월', '2월', '3월', '4월'])\n",
        "income_se = pd.Series([9500, 6200, 6050, 7000])\n",
        "expenses_se = pd.Series([5040, 2350, 2300, 4800])\n",
        "df = pd.DataFrame({\"월\": month_se, '수익': income_se, '지출':expenses_se})\n",
        "\n",
        "print(df)"
      ],
      "metadata": {
        "colab": {
          "base_uri": "https://localhost:8080/"
        },
        "id": "ECHcfOh7GeME",
        "outputId": "0bfb64fb-b760-40ba-bd94-da93e1cf8bfd"
      },
      "execution_count": 6,
      "outputs": [
        {
          "output_type": "stream",
          "name": "stdout",
          "text": [
            "    월    수익    지출\n",
            "0  1월  9500  5040\n",
            "1  2월  6200  2350\n",
            "2  3월  6050  2300\n",
            "3  4월  7000  4800\n"
          ]
        }
      ]
    },
    {
      "cell_type": "code",
      "source": [
        "import numpy as np\n",
        "import pandas as pd\n",
        "\n",
        "month_se = pd.Series(['1월', '2월', '3월', '4월'])\n",
        "income_se = pd.Series([9500, 6200, 6050, 7000])\n",
        "expenses_se = pd.Series([5040, 2350, 2300, 4800])\n",
        "df = pd.DataFrame({\"월\": month_se, '수익': income_se, '지출':expenses_se})\n",
        "\n",
        "m_idx= np.argmax(income_se)\n",
        "print(\"최대 수익이 발생한 월:\", month_se[m_idx])"
      ],
      "metadata": {
        "colab": {
          "base_uri": "https://localhost:8080/"
        },
        "id": "UMGyyINfG_WY",
        "outputId": "bfeb3cc5-5e0d-4c4b-e665-dc48ce448f9b"
      },
      "execution_count": 7,
      "outputs": [
        {
          "output_type": "stream",
          "name": "stdout",
          "text": [
            "최대 수익이 발생한 월: 1월\n"
          ]
        }
      ]
    },
    {
      "cell_type": "code",
      "source": [
        "import numpy as np\n",
        "import pandas as pd\n",
        "\n",
        "month_se = pd.Series(['1월', '2월', '3월', '4월'])\n",
        "income_se = pd.Series([9500, 6200, 6050, 7000])\n",
        "expenses_se = pd.Series([5040, 2350, 2300, 4800])\n",
        "df = pd.DataFrame({\"월\": month_se, '수익': income_se, '지출':expenses_se})\n",
        "\n",
        "m_idx= np.argmax(income_se)\n",
        "print(\"최대 수익이 발생한 월:\", month_se[m_idx])\n",
        "\n",
        "print('월 최대 수익:', income_se.max(),', 월 평균 수익:', income_se.mean())"
      ],
      "metadata": {
        "colab": {
          "base_uri": "https://localhost:8080/"
        },
        "id": "6bWAcji9IB1m",
        "outputId": "dbbda388-e5e4-4a8c-da0e-0a4db732172b"
      },
      "execution_count": 8,
      "outputs": [
        {
          "output_type": "stream",
          "name": "stdout",
          "text": [
            "최대 수익이 발생한 월: 1월\n",
            "월 최대 수익: 9500 , 월 평균 수익: 7187.5\n"
          ]
        }
      ]
    },
    {
      "cell_type": "code",
      "source": [
        "import numpy as np\n",
        "import pandas as pd\n",
        "\n",
        "file = 'vehicle_prod.csv'\n",
        "df = pd.read_csv(file)\n",
        "print(df)"
      ],
      "metadata": {
        "colab": {
          "base_uri": "https://localhost:8080/"
        },
        "id": "J4ek0G1DISl1",
        "outputId": "b5095d7b-985d-429a-a384-bdf948136158"
      },
      "execution_count": 9,
      "outputs": [
        {
          "output_type": "stream",
          "name": "stdout",
          "text": [
            "  Unnamed: 0   2007   2008   2009   2010   2011\n",
            "0      China   7.71   7.95  11.96  15.84  16.33\n",
            "1         EU  19.02  17.71  15.00  16.70  17.48\n",
            "2         US  10.47   8.45   5.58   7.60   8.40\n",
            "3      Japan  10.87  10.83   7.55   9.09   7.88\n",
            "4      Korea   4.04   3.78   3.45   4.20   4.62\n",
            "5     Mexico   2.01   2.05   1.50   2.25   2.54\n"
          ]
        }
      ]
    },
    {
      "cell_type": "code",
      "source": [
        "import numpy as np\n",
        "import pandas as pd\n",
        "\n",
        "file = 'vehicle_prod.csv'\n",
        "df = pd.read_csv(file, index_col= 0)\n",
        "print(df)\n"
      ],
      "metadata": {
        "colab": {
          "base_uri": "https://localhost:8080/"
        },
        "id": "nmjuQaI7JVUN",
        "outputId": "04629ecf-b3de-4ac5-d278-984722aeb739"
      },
      "execution_count": 10,
      "outputs": [
        {
          "output_type": "stream",
          "name": "stdout",
          "text": [
            "         2007   2008   2009   2010   2011\n",
            "China    7.71   7.95  11.96  15.84  16.33\n",
            "EU      19.02  17.71  15.00  16.70  17.48\n",
            "US      10.47   8.45   5.58   7.60   8.40\n",
            "Japan   10.87  10.83   7.55   9.09   7.88\n",
            "Korea    4.04   3.78   3.45   4.20   4.62\n",
            "Mexico   2.01   2.05   1.50   2.25   2.54\n"
          ]
        }
      ]
    },
    {
      "cell_type": "code",
      "source": [
        "print(df.columns)"
      ],
      "metadata": {
        "colab": {
          "base_uri": "https://localhost:8080/"
        },
        "id": "GLY-HGs0J_gl",
        "outputId": "6b8a807c-2403-493d-d061-aa355dbd69b9"
      },
      "execution_count": 11,
      "outputs": [
        {
          "output_type": "stream",
          "name": "stdout",
          "text": [
            "Index(['2007', '2008', '2009', '2010', '2011'], dtype='object')\n"
          ]
        }
      ]
    },
    {
      "cell_type": "code",
      "source": [
        "print(df.index)"
      ],
      "metadata": {
        "colab": {
          "base_uri": "https://localhost:8080/"
        },
        "id": "8wHPZW7vKItz",
        "outputId": "ec52cf4b-1b95-4b41-fa87-c012b2b74038"
      },
      "execution_count": 12,
      "outputs": [
        {
          "output_type": "stream",
          "name": "stdout",
          "text": [
            "Index(['China', 'EU', 'US', 'Japan', 'Korea', 'Mexico'], dtype='object')\n"
          ]
        }
      ]
    },
    {
      "cell_type": "code",
      "source": [
        "print(df['2007'])"
      ],
      "metadata": {
        "colab": {
          "base_uri": "https://localhost:8080/"
        },
        "id": "0vhH9XvsKMAA",
        "outputId": "11ae9520-24d6-4de4-969e-a853b0c7c6ca"
      },
      "execution_count": 13,
      "outputs": [
        {
          "output_type": "stream",
          "name": "stdout",
          "text": [
            "China      7.71\n",
            "EU        19.02\n",
            "US        10.47\n",
            "Japan     10.87\n",
            "Korea      4.04\n",
            "Mexico     2.01\n",
            "Name: 2007, dtype: float64\n"
          ]
        }
      ]
    },
    {
      "cell_type": "code",
      "source": [
        "print(df.columns.tolist())\n"
      ],
      "metadata": {
        "colab": {
          "base_uri": "https://localhost:8080/"
        },
        "id": "LZdp7ZECKPK1",
        "outputId": "0940aa5b-3427-4bad-d9e3-9b3de2c3998d"
      },
      "execution_count": 14,
      "outputs": [
        {
          "output_type": "stream",
          "name": "stdout",
          "text": [
            "['2007', '2008', '2009', '2010', '2011']\n"
          ]
        }
      ]
    },
    {
      "cell_type": "code",
      "source": [
        "print(df['2007'].tolist())"
      ],
      "metadata": {
        "colab": {
          "base_uri": "https://localhost:8080/"
        },
        "id": "MBPpcdWRKT5e",
        "outputId": "11be0593-af5e-4953-93d0-2ac1ed5a3f89"
      },
      "execution_count": 15,
      "outputs": [
        {
          "output_type": "stream",
          "name": "stdout",
          "text": [
            "[7.71, 19.02, 10.47, 10.87, 4.04, 2.01]\n"
          ]
        }
      ]
    },
    {
      "cell_type": "code",
      "source": [
        "df['total'] = df.sum(axis = 1)\n",
        "\n",
        "print(df)"
      ],
      "metadata": {
        "colab": {
          "base_uri": "https://localhost:8080/"
        },
        "id": "o10F0OH9KZAy",
        "outputId": "29e11c30-61e3-481b-8dfc-c4ffa9c62bcd"
      },
      "execution_count": 16,
      "outputs": [
        {
          "output_type": "stream",
          "name": "stdout",
          "text": [
            "         2007   2008   2009   2010   2011  total\n",
            "China    7.71   7.95  11.96  15.84  16.33  59.79\n",
            "EU      19.02  17.71  15.00  16.70  17.48  85.91\n",
            "US      10.47   8.45   5.58   7.60   8.40  40.50\n",
            "Japan   10.87  10.83   7.55   9.09   7.88  46.22\n",
            "Korea    4.04   3.78   3.45   4.20   4.62  20.09\n",
            "Mexico   2.01   2.05   1.50   2.25   2.54  10.35\n"
          ]
        }
      ]
    },
    {
      "cell_type": "code",
      "source": [
        "df['total'] = df[['2007','2008','2009','2010','2011']].sum(axis=1)\n",
        "df['mean'] = df[['2007','2008','2009','2010','2011']].mean(axis=1)\n",
        "\n",
        "print(df)"
      ],
      "metadata": {
        "colab": {
          "base_uri": "https://localhost:8080/"
        },
        "id": "JnPPeKSEKfwG",
        "outputId": "5b9e4cd5-1919-440e-b3c0-143af87eea1e"
      },
      "execution_count": 17,
      "outputs": [
        {
          "output_type": "stream",
          "name": "stdout",
          "text": [
            "         2007   2008   2009   2010   2011  total    mean\n",
            "China    7.71   7.95  11.96  15.84  16.33  59.79  11.958\n",
            "EU      19.02  17.71  15.00  16.70  17.48  85.91  17.182\n",
            "US      10.47   8.45   5.58   7.60   8.40  40.50   8.100\n",
            "Japan   10.87  10.83   7.55   9.09   7.88  46.22   9.244\n",
            "Korea    4.04   3.78   3.45   4.20   4.62  20.09   4.018\n",
            "Mexico   2.01   2.05   1.50   2.25   2.54  10.35   2.070\n"
          ]
        }
      ]
    },
    {
      "cell_type": "code",
      "source": [
        "df.drop('2007', inplace=True ,axis=1)\n",
        "print(df)"
      ],
      "metadata": {
        "colab": {
          "base_uri": "https://localhost:8080/"
        },
        "id": "zYFIz5hjKrQR",
        "outputId": "8e6b26e5-391c-4f39-f069-b21a0a70b372"
      },
      "execution_count": 18,
      "outputs": [
        {
          "output_type": "stream",
          "name": "stdout",
          "text": [
            "         2008   2009   2010   2011  total    mean\n",
            "China    7.95  11.96  15.84  16.33  59.79  11.958\n",
            "EU      17.71  15.00  16.70  17.48  85.91  17.182\n",
            "US       8.45   5.58   7.60   8.40  40.50   8.100\n",
            "Japan   10.83   7.55   9.09   7.88  46.22   9.244\n",
            "Korea    3.78   3.45   4.20   4.62  20.09   4.018\n",
            "Mexico   2.05   1.50   2.25   2.54  10.35   2.070\n"
          ]
        }
      ]
    },
    {
      "cell_type": "code",
      "source": [
        "import numpy as np\n",
        "import pandas as pd\n",
        "\n",
        "file = 'vehicle_prod.csv'\n",
        "df = pd.read_csv(file, index_col= 0)\n",
        "\n",
        "df['total'] = df[['2008','2009','2010','2011']].sum(axis=1)\n",
        "df['mean'] = df[['2008','2009','2010','2011']].mean(axis=1)\n",
        "\n",
        "print(df)"
      ],
      "metadata": {
        "colab": {
          "base_uri": "https://localhost:8080/"
        },
        "id": "Q7MT1LjaKyyq",
        "outputId": "4ef72962-efc7-4260-cba1-90734e1e5262"
      },
      "execution_count": 19,
      "outputs": [
        {
          "output_type": "stream",
          "name": "stdout",
          "text": [
            "         2007   2008   2009   2010   2011  total     mean\n",
            "China    7.71   7.95  11.96  15.84  16.33  52.08  13.0200\n",
            "EU      19.02  17.71  15.00  16.70  17.48  66.89  16.7225\n",
            "US      10.47   8.45   5.58   7.60   8.40  30.03   7.5075\n",
            "Japan   10.87  10.83   7.55   9.09   7.88  35.35   8.8375\n",
            "Korea    4.04   3.78   3.45   4.20   4.62  16.05   4.0125\n",
            "Mexico   2.01   2.05   1.50   2.25   2.54   8.34   2.0850\n"
          ]
        }
      ]
    },
    {
      "cell_type": "code",
      "source": [
        "print(df[['2007','2008','2009']])"
      ],
      "metadata": {
        "colab": {
          "base_uri": "https://localhost:8080/"
        },
        "id": "7rMGceyGK5-w",
        "outputId": "320bbe18-1821-404d-c89d-74e725cf8177"
      },
      "execution_count": 20,
      "outputs": [
        {
          "output_type": "stream",
          "name": "stdout",
          "text": [
            "         2007   2008   2009\n",
            "China    7.71   7.95  11.96\n",
            "EU      19.02  17.71  15.00\n",
            "US      10.47   8.45   5.58\n",
            "Japan   10.87  10.83   7.55\n",
            "Korea    4.04   3.78   3.45\n",
            "Mexico   2.01   2.05   1.50\n"
          ]
        }
      ]
    },
    {
      "cell_type": "code",
      "source": [
        "df['2009'].plot(kind='bar', color =('orange','r','m','c','k'))\n"
      ],
      "metadata": {
        "colab": {
          "base_uri": "https://localhost:8080/",
          "height": 482
        },
        "id": "OTBIfUbBLFhS",
        "outputId": "767daf3f-f546-470a-e9e1-b1f9dde689d4"
      },
      "execution_count": 22,
      "outputs": [
        {
          "output_type": "execute_result",
          "data": {
            "text/plain": [
              "<Axes: >"
            ]
          },
          "metadata": {},
          "execution_count": 22
        },
        {
          "output_type": "display_data",
          "data": {
            "text/plain": [
              "<Figure size 640x480 with 1 Axes>"
            ],
            "image/png": "[encoded data removed]"
          },
          "metadata": {}
        }
      ]
    },
    {
      "cell_type": "code",
      "source": [
        "df['2009'].plot(kind='pie')"
      ],
      "metadata": {
        "colab": {
          "base_uri": "https://localhost:8080/",
          "height": 424
        },
        "id": "fj9uR4lBLXK2",
        "outputId": "53ea8900-d942-480a-b305-a724f2db4a29"
      },
      "execution_count": 23,
      "outputs": [
        {
          "output_type": "execute_result",
          "data": {
            "text/plain": [
              "<Axes: ylabel='2009'>"
            ]
          },
          "metadata": {},
          "execution_count": 23
        },
        {
          "output_type": "display_data",
          "data": {
            "text/plain": [
              "<Figure size 640x480 with 1 Axes>"
            ],
            "image/png": "[encoded data removed]"
          },
          "metadata": {}
        }
      ]
    },
    {
      "cell_type": "code",
      "source": [
        "import numpy as np\n",
        "import pandas as pd\n",
        "import matplotlib.pyplot as plot\n",
        "\n",
        "file = 'vehicle_prod.csv'\n",
        "df = pd.read_csv(file, index_col= 0)\n",
        "\n",
        "print(df.iloc[4])"
      ],
      "metadata": {
        "colab": {
          "base_uri": "https://localhost:8080/"
        },
        "id": "xuwtDBS2LemF",
        "outputId": "3a73b84b-9400-48c4-b08c-14c274923162"
      },
      "execution_count": 24,
      "outputs": [
        {
          "output_type": "stream",
          "name": "stdout",
          "text": [
            "2007    4.04\n",
            "2008    3.78\n",
            "2009    3.45\n",
            "2010    4.20\n",
            "2011    4.62\n",
            "Name: Korea, dtype: float64\n"
          ]
        }
      ]
    },
    {
      "cell_type": "code",
      "source": [
        "print(df.iloc[[2,4]])"
      ],
      "metadata": {
        "colab": {
          "base_uri": "https://localhost:8080/"
        },
        "id": "hczVi_aDRyuk",
        "outputId": "af883984-de0a-47c4-ea8e-a581fdc1d241"
      },
      "execution_count": 25,
      "outputs": [
        {
          "output_type": "stream",
          "name": "stdout",
          "text": [
            "        2007  2008  2009  2010  2011\n",
            "US     10.47  8.45  5.58   7.6  8.40\n",
            "Korea   4.04  3.78  3.45   4.2  4.62\n"
          ]
        }
      ]
    },
    {
      "cell_type": "code",
      "source": [
        "df.iloc[2,4]"
      ],
      "metadata": {
        "colab": {
          "base_uri": "https://localhost:8080/"
        },
        "id": "JNkJrgrkSEzc",
        "outputId": "90de14cf-c7b3-4eb4-c1e6-1683910ac672"
      },
      "execution_count": 27,
      "outputs": [
        {
          "output_type": "execute_result",
          "data": {
            "text/plain": [
              "np.float64(8.4)"
            ]
          },
          "metadata": {},
          "execution_count": 27
        }
      ]
    },
    {
      "cell_type": "code",
      "source": [
        "print(df.iloc[2:4])\n",
        "print(df.iloc[[2,3]])\n",
        "print(df[2:4])"
      ],
      "metadata": {
        "colab": {
          "base_uri": "https://localhost:8080/"
        },
        "id": "Qbq4fRRASIwK",
        "outputId": "fe7a52ab-532a-45ef-9c51-38e803dee1ec"
      },
      "execution_count": 32,
      "outputs": [
        {
          "output_type": "stream",
          "name": "stdout",
          "text": [
            "        2007   2008  2009  2010  2011\n",
            "US     10.47   8.45  5.58  7.60  8.40\n",
            "Japan  10.87  10.83  7.55  9.09  7.88\n",
            "        2007   2008  2009  2010  2011\n",
            "US     10.47   8.45  5.58  7.60  8.40\n",
            "Japan  10.87  10.83  7.55  9.09  7.88\n",
            "        2007   2008  2009  2010  2011\n",
            "US     10.47   8.45  5.58  7.60  8.40\n",
            "Japan  10.87  10.83  7.55  9.09  7.88\n"
          ]
        }
      ]
    },
    {
      "cell_type": "code",
      "source": [
        "import numpy as np\n",
        "import pandas as pd\n",
        "import matplotlib.pyplot as plot\n",
        "\n",
        "path = 'weather.csv'\n",
        "weather = pd.read_csv(path, index_col= 0,encoding='CP949')\n",
        "\n",
        "print(weather.head(3))\n",
        "print('weather 데이터의 shape: ',weather.shape)\n",
        "\n"
      ],
      "metadata": {
        "colab": {
          "base_uri": "https://localhost:8080/"
        },
        "id": "p-tW_HHYS_9s",
        "outputId": "d4b15f0f-1e73-4992-ce66-646c556d122a"
      },
      "execution_count": 29,
      "outputs": [
        {
          "output_type": "stream",
          "name": "stdout",
          "text": [
            "            평균기온  최대풍속  평균풍속\n",
            "일시                          \n",
            "2010-08-01  28.7   8.3   3.4\n",
            "2010-08-02  25.2   8.7   3.8\n",
            "2010-08-03  22.1   6.3   2.9\n",
            "weather 데이터의 shape:  (3653, 3)\n"
          ]
        }
      ]
    },
    {
      "cell_type": "code",
      "source": [
        "print(weather.describe())"
      ],
      "metadata": {
        "colab": {
          "base_uri": "https://localhost:8080/"
        },
        "id": "_6EeChr9TPxX",
        "outputId": "d9e2077e-43b7-4216-9250-6ce7b9230918"
      },
      "execution_count": 30,
      "outputs": [
        {
          "output_type": "stream",
          "name": "stdout",
          "text": [
            "              평균기온         최대풍속         평균풍속\n",
            "count  3653.000000  3649.000000  3647.000000\n",
            "mean     12.942102     7.911099     3.936441\n",
            "std       8.538507     3.029862     1.888473\n",
            "min      -9.000000     2.000000     0.200000\n",
            "25%       5.400000     5.700000     2.500000\n",
            "50%      13.800000     7.600000     3.600000\n",
            "75%      20.100000     9.700000     5.000000\n",
            "max      31.300000    26.000000    14.900000\n"
          ]
        }
      ]
    },
    {
      "cell_type": "code",
      "source": [
        "import pandas as pd\n",
        "\n",
        "weather_file = \"/content/weather.csv\"\n",
        "weather = pd.read_csv(weather_file, encoding='CP949')\n",
        "\n",
        "weather['일시'] = pd.to_datetime(weather['일시'], errors='coerce')\n",
        "weather['month'] = weather['일시'].dt.month\n",
        "means = weather.groupby('month').mean()\n",
        "print(means)"
      ],
      "metadata": {
        "colab": {
          "base_uri": "https://localhost:8080/"
        },
        "id": "RtMYED36TU6m",
        "outputId": "e9f82395-1e6e-46c2-8bdf-d0c83cb9574d"
      },
      "execution_count": 35,
      "outputs": [
        {
          "output_type": "stream",
          "name": "stdout",
          "text": [
            "                                 일시       평균기온      최대풍속      평균풍속\n",
            "month                                                             \n",
            "1     2015-07-17 16:48:00.000000000   1.598387  8.158065  3.757419\n",
            "2     2015-08-18 06:52:09.328621824   2.136396  8.225357  3.946786\n",
            "3     2015-09-15 00:00:00.000000000   6.250323  8.871935  4.390291\n",
            "4     2015-10-15 12:00:00.000000000  11.064667  9.305017  4.622483\n",
            "5     2015-11-15 00:00:00.000000000  16.564194  8.548710  4.219355\n",
            "6     2015-12-15 12:00:00.000000000  19.616667  6.945667  3.461000\n",
            "7     2016-01-15 00:00:00.000000000  23.328387  7.322581  3.877419\n",
            "8     2015-02-14 16:48:00.000000000  24.748710  6.853226  3.596129\n",
            "9     2015-03-17 04:48:00.000000000  20.323667  6.896333  3.661667\n",
            "10    2015-04-16 16:48:00.000000000  15.383871  7.766774  3.961613\n",
            "11    2015-05-17 04:48:00.000000000   9.889667  8.013333  3.930667\n",
            "12    2015-06-16 16:48:00.000000000   3.753548  8.045484  3.817097\n"
          ]
        }
      ]
    },
    {
      "cell_type": "code",
      "source": [
        "import matplotlib.pyplot as plt\n",
        "import numpy as np\n",
        "import pandas as pd\n",
        "\n",
        "# CSV 파일 읽기\n",
        "weather_file = \"weather.csv\"\n",
        "weather = pd.read_csv(weather_file, encoding='CP949')\n",
        "\n",
        "# 날짜 컬럼을 datetime 형식으로 변환\n",
        "weather['일시'] = pd.to_datetime(weather['일시'], errors='coerce')\n",
        "\n",
        "# 월(month) 컬럼 생성\n",
        "weather['month'] = weather['일시'].dt.month\n",
        "\n",
        "# 월별 평균값 계산\n",
        "means = weather.groupby('month').mean(numeric_only=True)\n",
        "\n",
        "# '평균풍속' 컬럼을 플롯\n",
        "means['평균풍속'].plot(marker='o')\n",
        "\n",
        "# 그래프 제목과 라벨 추가\n",
        "plt.title(\"월별 평균 풍속\")\n",
        "plt.xlabel(\"월\")\n",
        "plt.ylabel(\"평균 풍속 (m/s)\")\n",
        "plt.grid(True)\n",
        "plt.show()\n"
      ],
      "metadata": {
        "colab": {
          "base_uri": "https://localhost:8080/",
          "height": 706
        },
        "id": "iyjLdGFYTi-9",
        "outputId": "f25b06c0-2ee7-42bd-a2e1-ec5304e37d59"
      },
      "execution_count": 44,
      "outputs": [
        {
          "output_type": "stream",
          "name": "stderr",
          "text": [
            "/usr/local/lib/python3.11/dist-packages/IPython/core/pylabtools.py:151: UserWarning: Glyph 54217 (\\N{HANGUL SYLLABLE PYEONG}) missing from font(s) DejaVu Sans.\n",
            "  fig.canvas.print_figure(bytes_io, **kw)\n",
            "/usr/local/lib/python3.11/dist-packages/IPython/core/pylabtools.py:151: UserWarning: Glyph 44512 (\\N{HANGUL SYLLABLE GYUN}) missing from font(s) DejaVu Sans.\n",
            "  fig.canvas.print_figure(bytes_io, **kw)\n",
            "/usr/local/lib/python3.11/dist-packages/IPython/core/pylabtools.py:151: UserWarning: Glyph 54413 (\\N{HANGUL SYLLABLE PUNG}) missing from font(s) DejaVu Sans.\n",
            "  fig.canvas.print_figure(bytes_io, **kw)\n",
            "/usr/local/lib/python3.11/dist-packages/IPython/core/pylabtools.py:151: UserWarning: Glyph 49549 (\\N{HANGUL SYLLABLE SOG}) missing from font(s) DejaVu Sans.\n",
            "  fig.canvas.print_figure(bytes_io, **kw)\n",
            "/usr/local/lib/python3.11/dist-packages/IPython/core/pylabtools.py:151: UserWarning: Glyph 50900 (\\N{HANGUL SYLLABLE WEOL}) missing from font(s) DejaVu Sans.\n",
            "  fig.canvas.print_figure(bytes_io, **kw)\n",
            "/usr/local/lib/python3.11/dist-packages/IPython/core/pylabtools.py:151: UserWarning: Glyph 48324 (\\N{HANGUL SYLLABLE BYEOL}) missing from font(s) DejaVu Sans.\n",
            "  fig.canvas.print_figure(bytes_io, **kw)\n"
          ]
        },
        {
          "output_type": "display_data",
          "data": {
            "text/plain": [
              "<Figure size 640x480 with 1 Axes>"
            ],
            "image/png": "[encoded data removed]"
          },
          "metadata": {}
        }
      ]
    },
    {
      "cell_type": "code",
      "source": [
        "import matplotlib.pyplot as plt\n",
        "import numpy as np\n",
        "import pandas as pd\n",
        "\n",
        "\n",
        "weather_file = \"weather.csv\"\n",
        "weather = pd.read_csv(weather_file, encoding='CP949')\n",
        "\n",
        "\n",
        "weather['일시'] = pd.to_datetime(weather['일시'], errors='coerce')\n",
        "weather['month'] = weather['일시'].dt.month\n",
        "\n",
        "weather[weather['최대풍속'] >= 10.0]\n",
        "\n",
        "\n"
      ],
      "metadata": {
        "colab": {
          "base_uri": "https://localhost:8080/",
          "height": 424
        },
        "id": "FMsyLmW-XUZ-",
        "outputId": "36ffa80f-c49b-40c9-aecd-c9b1a34277b4"
      },
      "execution_count": 45,
      "outputs": [
        {
          "output_type": "execute_result",
          "data": {
            "text/plain": [
              "             일시  평균기온  최대풍속  평균풍속  month\n",
              "9    2010-08-10  25.6  10.2   5.5      8\n",
              "12   2010-08-13  24.3  10.9   4.6      8\n",
              "13   2010-08-14  25.0  10.8   4.4      8\n",
              "14   2010-08-15  24.5  16.9  10.3      8\n",
              "29   2010-08-30  26.2  10.5   6.2      8\n",
              "...         ...   ...   ...   ...    ...\n",
              "3622 2020-07-01  16.8  19.7   8.7      7\n",
              "3632 2020-07-11  20.1  10.3   4.1      7\n",
              "3634 2020-07-13  17.8  10.3   4.6      7\n",
              "3635 2020-07-14  17.8  12.7   9.4      7\n",
              "3641 2020-07-20  23.0  11.2   7.3      7\n",
              "\n",
              "[830 rows x 5 columns]"
            ],
            "text/html": [
              "\n",
              "  <div id=\"df-c59d36c1-8485-4a0b-805a-73f9db780f37\" class=\"colab-df-container\">\n",
              "    <div>\n",
              "<style scoped>\n",
              "    .dataframe tbody tr th:only-of-type {\n",
              "        vertical-align: middle;\n",
              "    }\n",
              "\n",
              "    .dataframe tbody tr th {\n",
              "        vertical-align: top;\n",
              "    }\n",
              "\n",
              "    .dataframe thead th {\n",
              "        text-align: right;\n",
              "    }\n",
              "</style>\n",
              "<table border=\"1\" class=\"dataframe\">\n",
              "  <thead>\n",
              "    <tr style=\"text-align: right;\">\n",
              "      <th></th>\n",
              "      <th>일시</th>\n",
              "      <th>평균기온</th>\n",
              "      <th>최대풍속</th>\n",
              "      <th>평균풍속</th>\n",
              "      <th>month</th>\n",
              "    </tr>\n",
              "  </thead>\n",
              "  <tbody>\n",
              "    <tr>\n",
              "      <th>9</th>\n",
              "      <td>2010-08-10</td>\n",
              "      <td>25.6</td>\n",
              "      <td>10.2</td>\n",
              "      <td>5.5</td>\n",
              "      <td>8</td>\n",
              "    </tr>\n",
              "    <tr>\n",
              "      <th>12</th>\n",
              "      <td>2010-08-13</td>\n",
              "      <td>24.3</td>\n",
              "      <td>10.9</td>\n",
              "      <td>4.6</td>\n",
              "      <td>8</td>\n",
              "    </tr>\n",
              "    <tr>\n",
              "      <th>13</th>\n",
              "      <td>2010-08-14</td>\n",
              "      <td>25.0</td>\n",
              "      <td>10.8</td>\n",
              "      <td>4.4</td>\n",
              "      <td>8</td>\n",
              "    </tr>\n",
              "    <tr>\n",
              "      <th>14</th>\n",
              "      <td>2010-08-15</td>\n",
              "      <td>24.5</td>\n",
              "      <td>16.9</td>\n",
              "      <td>10.3</td>\n",
              "      <td>8</td>\n",
              "    </tr>\n",
              "    <tr>\n",
              "      <th>29</th>\n",
              "      <td>2010-08-30</td>\n",
              "      <td>26.2</td>\n",
              "      <td>10.5</td>\n",
              "      <td>6.2</td>\n",
              "      <td>8</td>\n",
              "    </tr>\n",
              "    <tr>\n",
              "      <th>...</th>\n",
              "      <td>...</td>\n",
              "      <td>...</td>\n",
              "      <td>...</td>\n",
              "      <td>...</td>\n",
              "      <td>...</td>\n",
              "    </tr>\n",
              "    <tr>\n",
              "      <th>3622</th>\n",
              "      <td>2020-07-01</td>\n",
              "      <td>16.8</td>\n",
              "      <td>19.7</td>\n",
              "      <td>8.7</td>\n",
              "      <td>7</td>\n",
              "    </tr>\n",
              "    <tr>\n",
              "      <th>3632</th>\n",
              "      <td>2020-07-11</td>\n",
              "      <td>20.1</td>\n",
              "      <td>10.3</td>\n",
              "      <td>4.1</td>\n",
              "      <td>7</td>\n",
              "    </tr>\n",
              "    <tr>\n",
              "      <th>3634</th>\n",
              "      <td>2020-07-13</td>\n",
              "      <td>17.8</td>\n",
              "      <td>10.3</td>\n",
              "      <td>4.6</td>\n",
              "      <td>7</td>\n",
              "    </tr>\n",
              "    <tr>\n",
              "      <th>3635</th>\n",
              "      <td>2020-07-14</td>\n",
              "      <td>17.8</td>\n",
              "      <td>12.7</td>\n",
              "      <td>9.4</td>\n",
              "      <td>7</td>\n",
              "    </tr>\n",
              "    <tr>\n",
              "      <th>3641</th>\n",
              "      <td>2020-07-20</td>\n",
              "      <td>23.0</td>\n",
              "      <td>11.2</td>\n",
              "      <td>7.3</td>\n",
              "      <td>7</td>\n",
              "    </tr>\n",
              "  </tbody>\n",
              "</table>\n",
              "<p>830 rows × 5 columns</p>\n",
              "</div>\n",
              "    <div class=\"colab-df-buttons\">\n",
              "\n",
              "  <div class=\"colab-df-container\">\n",
              "    <button class=\"colab-df-convert\" onclick=\"convertToInteractive('df-c59d36c1-8485-4a0b-805a-73f9db780f37')\"\n",
              "            title=\"Convert this dataframe to an interactive table.\"\n",
              "            style=\"display:none;\">\n",
              "\n",
              "  <svg xmlns=\"http://www.w3.org/2000/svg\" height=\"24px\" viewBox=\"0 -960 960 960\">\n",
              "    <path d=\"M120-120v-720h720v720H120Zm60-500h600v-160H180v160Zm220 220h160v-160H400v160Zm0 220h160v-160H400v160ZM180-400h160v-160H180v160Zm440 0h160v-160H620v160ZM180-180h160v-160H180v160Zm440 0h160v-160H620v160Z\"/>\n",
              "  </svg>\n",
              "    </button>\n",
              "\n",
              "  <style>\n",
              "    .colab-df-container {\n",
              "      display:flex;\n",
              "      gap: 12px;\n",
              "    }\n",
              "\n",
              "    .colab-df-convert {\n",
              "      background-color: #E8F0FE;\n",
              "      border: none;\n",
              "      border-radius: 50%;\n",
              "      cursor: pointer;\n",
              "      display: none;\n",
              "      fill: #1967D2;\n",
              "      height: 32px;\n",
              "      padding: 0 0 0 0;\n",
              "      width: 32px;\n",
              "    }\n",
              "\n",
              "    .colab-df-convert:hover {\n",
              "      background-color: #E2EBFA;\n",
              "      box-shadow: 0px 1px 2px rgba(60, 64, 67, 0.3), 0px 1px 3px 1px rgba(60, 64, 67, 0.15);\n",
              "      fill: #174EA6;\n",
              "    }\n",
              "\n",
              "    .colab-df-buttons div {\n",
              "      margin-bottom: 4px;\n",
              "    }\n",
              "\n",
              "    [theme=dark] .colab-df-convert {\n",
              "      background-color: #3B4455;\n",
              "      fill: #D2E3FC;\n",
              "    }\n",
              "\n",
              "    [theme=dark] .colab-df-convert:hover {\n",
              "      background-color: #434B5C;\n",
              "      box-shadow: 0px 1px 3px 1px rgba(0, 0, 0, 0.15);\n",
              "      filter: drop-shadow(0px 1px 2px rgba(0, 0, 0, 0.3));\n",
              "      fill: #FFFFFF;\n",
              "    }\n",
              "  </style>\n",
              "\n",
              "    <script>\n",
              "      const buttonEl =\n",
              "        document.querySelector('#df-c59d36c1-8485-4a0b-805a-73f9db780f37 button.colab-df-convert');\n",
              "      buttonEl.style.display =\n",
              "        google.colab.kernel.accessAllowed ? 'block' : 'none';\n",
              "\n",
              "      async function convertToInteractive(key) {\n",
              "        const element = document.querySelector('#df-c59d36c1-8485-4a0b-805a-73f9db780f37');\n",
              "        const dataTable =\n",
              "          await google.colab.kernel.invokeFunction('convertToInteractive',\n",
              "                                                    [key], {});\n",
              "        if (!dataTable) return;\n",
              "\n",
              "        const docLinkHtml = 'Like what you see? Visit the ' +\n",
              "          '<a target=\"_blank\" href=https://colab.research.google.com/notebooks/data_table.ipynb>data table notebook</a>'\n",
              "          + ' to learn more about interactive tables.';\n",
              "        element.innerHTML = '';\n",
              "        dataTable['output_type'] = 'display_data';\n",
              "        await google.colab.output.renderOutput(dataTable, element);\n",
              "        const docLink = document.createElement('div');\n",
              "        docLink.innerHTML = docLinkHtml;\n",
              "        element.appendChild(docLink);\n",
              "      }\n",
              "    </script>\n",
              "  </div>\n",
              "\n",
              "\n",
              "<div id=\"df-ede5c1e6-e919-4be7-b68b-fbafe5517f2a\">\n",
              "  <button class=\"colab-df-quickchart\" onclick=\"quickchart('df-ede5c1e6-e919-4be7-b68b-fbafe5517f2a')\"\n",
              "            title=\"Suggest charts\"\n",
              "            style=\"display:none;\">\n",
              "\n",
              "<svg xmlns=\"http://www.w3.org/2000/svg\" height=\"24px\"viewBox=\"0 0 24 24\"\n",
              "     width=\"24px\">\n",
              "    <g>\n",
              "        <path d=\"M19 3H5c-1.1 0-2 .9-2 2v14c0 1.1.9 2 2 2h14c1.1 0 2-.9 2-2V5c0-1.1-.9-2-2-2zM9 17H7v-7h2v7zm4 0h-2V7h2v10zm4 0h-2v-4h2v4z\"/>\n",
              "    </g>\n",
              "</svg>\n",
              "  </button>\n",
              "\n",
              "<style>\n",
              "  .colab-df-quickchart {\n",
              "      --bg-color: #E8F0FE;\n",
              "      --fill-color: #1967D2;\n",
              "      --hover-bg-color: #E2EBFA;\n",
              "      --hover-fill-color: #174EA6;\n",
              "      --disabled-fill-color: #AAA;\n",
              "      --disabled-bg-color: #DDD;\n",
              "  }\n",
              "\n",
              "  [theme=dark] .colab-df-quickchart {\n",
              "      --bg-color: #3B4455;\n",
              "      --fill-color: #D2E3FC;\n",
              "      --hover-bg-color: #434B5C;\n",
              "      --hover-fill-color: #FFFFFF;\n",
              "      --disabled-bg-color: #3B4455;\n",
              "      --disabled-fill-color: #666;\n",
              "  }\n",
              "\n",
              "  .colab-df-quickchart {\n",
              "    background-color: var(--bg-color);\n",
              "    border: none;\n",
              "    border-radius: 50%;\n",
              "    cursor: pointer;\n",
              "    display: none;\n",
              "    fill: var(--fill-color);\n",
              "    height: 32px;\n",
              "    padding: 0;\n",
              "    width: 32px;\n",
              "  }\n",
              "\n",
              "  .colab-df-quickchart:hover {\n",
              "    background-color: var(--hover-bg-color);\n",
              "    box-shadow: 0 1px 2px rgba(60, 64, 67, 0.3), 0 1px 3px 1px rgba(60, 64, 67, 0.15);\n",
              "    fill: var(--button-hover-fill-color);\n",
              "  }\n",
              "\n",
              "  .colab-df-quickchart-complete:disabled,\n",
              "  .colab-df-quickchart-complete:disabled:hover {\n",
              "    background-color: var(--disabled-bg-color);\n",
              "    fill: var(--disabled-fill-color);\n",
              "    box-shadow: none;\n",
              "  }\n",
              "\n",
              "  .colab-df-spinner {\n",
              "    border: 2px solid var(--fill-color);\n",
              "    border-color: transparent;\n",
              "    border-bottom-color: var(--fill-color);\n",
              "    animation:\n",
              "      spin 1s steps(1) infinite;\n",
              "  }\n",
              "\n",
              "  @keyframes spin {\n",
              "    0% {\n",
              "      border-color: transparent;\n",
              "      border-bottom-color: var(--fill-color);\n",
              "      border-left-color: var(--fill-color);\n",
              "    }\n",
              "    20% {\n",
              "      border-color: transparent;\n",
              "      border-left-color: var(--fill-color);\n",
              "      border-top-color: var(--fill-color);\n",
              "    }\n",
              "    30% {\n",
              "      border-color: transparent;\n",
              "      border-left-color: var(--fill-color);\n",
              "      border-top-color: var(--fill-color);\n",
              "      border-right-color: var(--fill-color);\n",
              "    }\n",
              "    40% {\n",
              "      border-color: transparent;\n",
              "      border-right-color: var(--fill-color);\n",
              "      border-top-color: var(--fill-color);\n",
              "    }\n",
              "    60% {\n",
              "      border-color: transparent;\n",
              "      border-right-color: var(--fill-color);\n",
              "    }\n",
              "    80% {\n",
              "      border-color: transparent;\n",
              "      border-right-color: var(--fill-color);\n",
              "      border-bottom-color: var(--fill-color);\n",
              "    }\n",
              "    90% {\n",
              "      border-color: transparent;\n",
              "      border-bottom-color: var(--fill-color);\n",
              "    }\n",
              "  }\n",
              "</style>\n",
              "\n",
              "  <script>\n",
              "    async function quickchart(key) {\n",
              "      const quickchartButtonEl =\n",
              "        document.querySelector('#' + key + ' button');\n",
              "      quickchartButtonEl.disabled = true;  // To prevent multiple clicks.\n",
              "      quickchartButtonEl.classList.add('colab-df-spinner');\n",
              "      try {\n",
              "        const charts = await google.colab.kernel.invokeFunction(\n",
              "            'suggestCharts', [key], {});\n",
              "      } catch (error) {\n",
              "        console.error('Error during call to suggestCharts:', error);\n",
              "      }\n",
              "      quickchartButtonEl.classList.remove('colab-df-spinner');\n",
              "      quickchartButtonEl.classList.add('colab-df-quickchart-complete');\n",
              "    }\n",
              "    (() => {\n",
              "      let quickchartButtonEl =\n",
              "        document.querySelector('#df-ede5c1e6-e919-4be7-b68b-fbafe5517f2a button');\n",
              "      quickchartButtonEl.style.display =\n",
              "        google.colab.kernel.accessAllowed ? 'block' : 'none';\n",
              "    })();\n",
              "  </script>\n",
              "</div>\n",
              "\n",
              "    </div>\n",
              "  </div>\n"
            ],
            "application/vnd.google.colaboratory.intrinsic+json": {
              "type": "dataframe",
              "summary": "{\n  \"name\": \"weather[weather['\\ucd5c\\ub300\\ud48d\\uc18d'] >= 10\",\n  \"rows\": 830,\n  \"fields\": [\n    {\n      \"column\": \"\\uc77c\\uc2dc\",\n      \"properties\": {\n        \"dtype\": \"date\",\n        \"min\": \"2010-08-10 00:00:00\",\n        \"max\": \"2020-07-20 00:00:00\",\n        \"num_unique_values\": 830,\n        \"samples\": [\n          \"2017-11-03 00:00:00\",\n          \"2016-02-24 00:00:00\",\n          \"2013-10-22 00:00:00\"\n        ],\n        \"semantic_type\": \"\",\n        \"description\": \"\"\n      }\n    },\n    {\n      \"column\": \"\\ud3c9\\uade0\\uae30\\uc628\",\n      \"properties\": {\n        \"dtype\": \"number\",\n        \"std\": 8.016253033727327,\n        \"min\": -6.8,\n        \"max\": 28.5,\n        \"num_unique_values\": 289,\n        \"samples\": [\n          -2.9,\n          10.0,\n          21.2\n        ],\n        \"semantic_type\": \"\",\n        \"description\": \"\"\n      }\n    },\n    {\n      \"column\": \"\\ucd5c\\ub300\\ud48d\\uc18d\",\n      \"properties\": {\n        \"dtype\": \"number\",\n        \"std\": 2.1376518785669285,\n        \"min\": 10.0,\n        \"max\": 26.0,\n        \"num_unique_values\": 90,\n        \"samples\": [\n          18.8,\n          10.3,\n          12.4\n        ],\n        \"semantic_type\": \"\",\n        \"description\": \"\"\n      }\n    },\n    {\n      \"column\": \"\\ud3c9\\uade0\\ud48d\\uc18d\",\n      \"properties\": {\n        \"dtype\": \"number\",\n        \"std\": 1.8396288807451229,\n        \"min\": 2.5,\n        \"max\": 14.9,\n        \"num_unique_values\": 96,\n        \"samples\": [\n          11.2,\n          10.1,\n          9.2\n        ],\n        \"semantic_type\": \"\",\n        \"description\": \"\"\n      }\n    },\n    {\n      \"column\": \"month\",\n      \"properties\": {\n        \"dtype\": \"int32\",\n        \"num_unique_values\": 12,\n        \"samples\": [\n          6,\n          5,\n          8\n        ],\n        \"semantic_type\": \"\",\n        \"description\": \"\"\n      }\n    }\n  ]\n}"
            }
          },
          "metadata": {},
          "execution_count": 45
        }
      ]
    },
    {
      "cell_type": "code",
      "source": [
        "import matplotlib.pyplot as plt\n",
        "import numpy as np\n",
        "import pandas as pd\n",
        "\n",
        "df_1 = pd.DataFrame(\n",
        "    {\n",
        "        'A': ['a10', 'a11', 'a12'],\n",
        "        'B': ['b10', 'b11', 'b12'],\n",
        "        'C': ['c10', 'c11', 'c12']\n",
        "    },\n",
        "    index=['가', '나', '다']\n",
        ")\n",
        "\n",
        "df_2 = pd.DataFrame(\n",
        "    {\n",
        "        'B': ['b23', 'b24', 'b25'],\n",
        "        'C': ['c23', 'c24', 'c25'],\n",
        "        'D': ['d23', 'd24', 'd25']\n",
        "    },\n",
        "    index=['다', '라', '마']\n",
        ")\n",
        "\n",
        "df_3 = pd.concat([df_1, df_2])\n",
        "print(df_3)"
      ],
      "metadata": {
        "colab": {
          "base_uri": "https://localhost:8080/"
        },
        "id": "oSJgH0g3XUrk",
        "outputId": "873c4834-bf78-4f68-faad-6a4d926b7547"
      },
      "execution_count": 46,
      "outputs": [
        {
          "output_type": "stream",
          "name": "stdout",
          "text": [
            "     A    B    C    D\n",
            "가  a10  b10  c10  NaN\n",
            "나  a11  b11  c11  NaN\n",
            "다  a12  b12  c12  NaN\n",
            "다  NaN  b23  c23  d23\n",
            "라  NaN  b24  c24  d24\n",
            "마  NaN  b25  c25  d25\n"
          ]
        }
      ]
    },
    {
      "cell_type": "code",
      "source": [
        "df_4 = pd.concat([df_1,df_2],join='inner')\n",
        "print(df_4)"
      ],
      "metadata": {
        "colab": {
          "base_uri": "https://localhost:8080/"
        },
        "id": "C44Lb-GRYRdE",
        "outputId": "b2fdf2de-6f34-41a4-bd41-521b99901750"
      },
      "execution_count": 47,
      "outputs": [
        {
          "output_type": "stream",
          "name": "stdout",
          "text": [
            "     B    C\n",
            "가  b10  c10\n",
            "나  b11  c11\n",
            "다  b12  c12\n",
            "다  b23  c23\n",
            "라  b24  c24\n",
            "마  b25  c25\n"
          ]
        }
      ]
    },
    {
      "cell_type": "code",
      "source": [
        "import matplotlib.pyplot as plt\n",
        "import numpy as np\n",
        "import pandas as pd\n",
        "\n",
        "df_1 = pd.DataFrame(\n",
        "    {\n",
        "        'A': ['a10', 'a11', 'a12'],\n",
        "        'B': ['b10', 'b11', 'b12'],\n",
        "        'C': ['c10', 'c11', 'c12']\n",
        "    },\n",
        "    index=['가', '나', '다']\n",
        ")\n",
        "\n",
        "df_2 = pd.DataFrame(\n",
        "    {\n",
        "        'B': ['b23', 'b24', 'b25'],\n",
        "        'C': ['c23', 'c24', 'c25'],\n",
        "        'D': ['d23', 'd24', 'd25']\n",
        "    },\n",
        "    index=['다', '라', '마']\n",
        ")\n",
        "\n",
        "print('left outer \\n', df_1.merge(df_2, how='left', on='B'))\n",
        "print('right outer \\n', df_1.merge(df_2, how='right', on='B'))\n",
        "print('full outer \\n', df_1.merge(df_2, how='outer', on='B'))\n",
        "print('inner \\n', df_1.merge(df_2, how='inner', on='B'))\n"
      ],
      "metadata": {
        "colab": {
          "base_uri": "https://localhost:8080/"
        },
        "id": "MvmpC1GMYZA-",
        "outputId": "b306b714-b4a0-4664-b3d5-a4822b5d4b6c"
      },
      "execution_count": 48,
      "outputs": [
        {
          "output_type": "stream",
          "name": "stdout",
          "text": [
            "left outer \n",
            "      A    B  C_x  C_y    D\n",
            "0  a10  b10  c10  NaN  NaN\n",
            "1  a11  b11  c11  NaN  NaN\n",
            "2  a12  b12  c12  NaN  NaN\n",
            "right outer \n",
            "      A    B  C_x  C_y    D\n",
            "0  NaN  b23  NaN  c23  d23\n",
            "1  NaN  b24  NaN  c24  d24\n",
            "2  NaN  b25  NaN  c25  d25\n",
            "full outer \n",
            "      A    B  C_x  C_y    D\n",
            "0  a10  b10  c10  NaN  NaN\n",
            "1  a11  b11  c11  NaN  NaN\n",
            "2  a12  b12  c12  NaN  NaN\n",
            "3  NaN  b23  NaN  c23  d23\n",
            "4  NaN  b24  NaN  c24  d24\n",
            "5  NaN  b25  NaN  c25  d25\n",
            "inner \n",
            " Empty DataFrame\n",
            "Columns: [A, B, C_x, C_y, D]\n",
            "Index: []\n"
          ]
        }
      ]
    },
    {
      "cell_type": "code",
      "source": [],
      "metadata": {
        "id": "bN-_2gWrZX86"
      },
      "execution_count": null,
      "outputs": []
    }
  ]
}