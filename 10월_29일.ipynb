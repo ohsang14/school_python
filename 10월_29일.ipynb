{
  "nbformat": 4,
  "nbformat_minor": 0,
  "metadata": {
    "colab": {
      "provenance": [],
      "authorship_tag": "ABX9TyM7RsInV7B7+4JVVpm17rJ6",
      "include_colab_link": true
    },
    "kernelspec": {
      "name": "python3",
      "display_name": "Python 3"
    },
    "language_info": {
      "name": "python"
    }
  },
  "cells": [
    {
      "cell_type": "markdown",
      "metadata": {
        "id": "view-in-github",
        "colab_type": "text"
      },
      "source": [
        "<a href=\"https://colab.research.google.com/github/ohsang14/school_python/blob/main/10%EC%9B%94_29%EC%9D%BC.ipynb\" target=\"_parent\"><img src=\"https://colab.research.google.com/assets/colab-badge.svg\" alt=\"Open In Colab\"/></a>"
      ]
    },
    {
      "cell_type": "markdown",
      "source": [],
      "metadata": {
        "id": "-gp_v8QN2m0c"
      }
    },
    {
      "cell_type": "code",
      "execution_count": 2,
      "metadata": {
        "colab": {
          "base_uri": "https://localhost:8080/"
        },
        "id": "Q1eCOyBny5Nt",
        "outputId": "59ef9868-fb35-4ddf-a315-dfc1c96aed32"
      },
      "outputs": [
        {
          "output_type": "stream",
          "name": "stdout",
          "text": [
            "     지역     2015     2010     2005     2000  2010-2015 증가율\n",
            "서울  수도권  9904312  9631482  9762546  9853972         0.0283\n",
            "부산  경상권  3448738  3393191  3512547  3655437         0.0163\n",
            "인천  수도권  2890451  2632035  2517680  2466338         0.0982\n",
            "대구  경상권  2466052  2431774  2456016  2473990         0.0141\n"
          ]
        }
      ],
      "source": [
        "import pandas as pd\n",
        "\n",
        "data = {\n",
        "    \"2015\": [9904312, 3448738, 2890451, 2466052],\n",
        "    \"2010\": [9631482, 3393191, 2632035, 2431774],\n",
        "    \"2005\": [9762546, 3512547, 2517680, 2456016],\n",
        "    \"2000\": [9853972, 3655437, 2466338, 2473990],\n",
        "    \"지역\": [\"수도권\", \"경상권\", \"수도권\", \"경상권\"],\n",
        "    \"2010-2015 증가율\": [0.0283, 0.0163, 0.0982, 0.0141]\n",
        "}\n",
        "\n",
        "index = [\"서울\", \"부산\", \"인천\", \"대구\"]\n",
        "columns = [\"지역\", \"2015\", \"2010\", \"2005\", \"2000\", \"2010-2015 증가율\"]\n",
        "\n",
        "df = pd.DataFrame(data, index=index, columns=columns)\n",
        "\n",
        "print(df)\n"
      ]
    },
    {
      "cell_type": "code",
      "source": [
        "import pandas as pd\n",
        "\n",
        "data = {\n",
        "    \"2015\": [9904312, 3448738, 2890451, 2466052],\n",
        "    \"2010\": [9631482, 3393191, 2632035, 2431774],\n",
        "    \"2005\": [9762546, 3512547, 2517680, 2456016],\n",
        "    \"2000\": [9853972, 3655437, 2466338, 2473990],\n",
        "    \"지역\": [\"수도권\", \"경상권\", \"수도권\", \"경상권\"],\n",
        "    \"2010-2015 증가율\": [0.0283, 0.0163, 0.0982, 0.0141]\n",
        "}\n",
        "\n",
        "index = [\"서울\", \"부산\", \"인천\", \"대구\"]\n",
        "columns = [\"지역\", \"2015\", \"2010\", \"2005\", \"2000\", \"2010-2015 증가율\"]\n",
        "\n",
        "df = pd.DataFrame(data, index=index, columns=columns)\n",
        "\n",
        "print(df.values)\n",
        "print(df.columns)\n",
        "print(df.index)\n",
        "\n",
        "df.index.name, df.columns.name = \"도시\", \"특성\"\n",
        "print(df)\n"
      ],
      "metadata": {
        "colab": {
          "base_uri": "https://localhost:8080/"
        },
        "id": "P8xUjtvc3AEN",
        "outputId": "66150793-be00-4665-a398-70eada5adc2a"
      },
      "execution_count": 3,
      "outputs": [
        {
          "output_type": "stream",
          "name": "stdout",
          "text": [
            "[['수도권' 9904312 9631482 9762546 9853972 0.0283]\n",
            " ['경상권' 3448738 3393191 3512547 3655437 0.0163]\n",
            " ['수도권' 2890451 2632035 2517680 2466338 0.0982]\n",
            " ['경상권' 2466052 2431774 2456016 2473990 0.0141]]\n",
            "Index(['지역', '2015', '2010', '2005', '2000', '2010-2015 증가율'], dtype='object')\n",
            "Index(['서울', '부산', '인천', '대구'], dtype='object')\n",
            "특성   지역     2015     2010     2005     2000  2010-2015 증가율\n",
            "도시                                                        \n",
            "서울  수도권  9904312  9631482  9762546  9853972         0.0283\n",
            "부산  경상권  3448738  3393191  3512547  3655437         0.0163\n",
            "인천  수도권  2890451  2632035  2517680  2466338         0.0982\n",
            "대구  경상권  2466052  2431774  2456016  2473990         0.0141\n"
          ]
        }
      ]
    },
    {
      "cell_type": "code",
      "source": [
        "import pandas as pd\n",
        "\n",
        "# df.T : 데이터 프레임 데이터(2차원 배열)의 전치 행렬 반환\n",
        "\n",
        "\n",
        "data = {\n",
        "    \"2015\": [9904312, 3448738, 2890451, 2466052],\n",
        "    \"2010\": [9631482, 3393191, 2632035, 2431774],\n",
        "    \"2005\": [9762546, 3512547, 2517680, 2456016],\n",
        "    \"2000\": [9853972, 3655437, 2466338, 2473990],\n",
        "    \"지역\": [\"수도권\", \"경상권\", \"수도권\", \"경상권\"],\n",
        "    \"2010-2015 증가율\": [0.0283, 0.0163, 0.0982, 0.0141]\n",
        "}\n",
        "\n",
        "index = [\"서울\", \"부산\", \"인천\", \"대구\"]\n",
        "columns = [\"지역\", \"2015\", \"2010\", \"2005\", \"2000\", \"2010-2015 증가율\"]\n",
        "\n",
        "df = pd.DataFrame(data, index=index, columns=columns)\n",
        "\n",
        "print(df.T)"
      ],
      "metadata": {
        "colab": {
          "base_uri": "https://localhost:8080/"
        },
        "id": "tNn1xcwX4g1t",
        "outputId": "eafeaf86-e429-4563-a71e-2b4be18fd5b9"
      },
      "execution_count": 4,
      "outputs": [
        {
          "output_type": "stream",
          "name": "stdout",
          "text": [
            "                    서울       부산       인천       대구\n",
            "지역                 수도권      경상권      수도권      경상권\n",
            "2015           9904312  3448738  2890451  2466052\n",
            "2010           9631482  3393191  2632035  2431774\n",
            "2005           9762546  3512547  2517680  2456016\n",
            "2000           9853972  3655437  2466338  2473990\n",
            "2010-2015 증가율   0.0283   0.0163   0.0982   0.0141\n"
          ]
        }
      ]
    },
    {
      "cell_type": "code",
      "source": [
        "import pandas as pd\n",
        "\n",
        "data = {\n",
        "    \"2015\": [9904312, 3448738, 2890451, 2466052],\n",
        "    \"2010\": [9631482, 3393191, 2632035, 2431774],\n",
        "    \"2005\": [9762546, 3512547, 2517680, 2456016],\n",
        "    \"2000\": [9853972, 3655437, 2466338, 2473990],\n",
        "    \"지역\": [\"수도권\", \"경상권\", \"수도권\", \"경상권\"],\n",
        "    \"2010-2015 증가율\": [0.0283, 0.0163, 0.0982, 0.0141]\n",
        "}\n",
        "\n",
        "index = [\"서울\", \"부산\", \"인천\", \"대구\"]\n",
        "columns = [\"지역\", \"2015\", \"2010\", \"2005\", \"2000\", \"2010-2015 증가율\"]\n",
        "\n",
        "df = pd.DataFrame(data, index=index, columns=columns)\n",
        "\n",
        "print(df['지역'])\n",
        "print(\"---------------------\")\n",
        "print(df[['2010', '2015']])"
      ],
      "metadata": {
        "colab": {
          "base_uri": "https://localhost:8080/"
        },
        "id": "bP4gXT9Q4yBs",
        "outputId": "dc4fdbd3-1d52-4b2b-8c0b-500c5f569d07"
      },
      "execution_count": 5,
      "outputs": [
        {
          "output_type": "stream",
          "name": "stdout",
          "text": [
            "서울    수도권\n",
            "부산    경상권\n",
            "인천    수도권\n",
            "대구    경상권\n",
            "Name: 지역, dtype: object\n",
            "---------------------\n",
            "       2010     2015\n",
            "서울  9631482  9904312\n",
            "부산  3393191  3448738\n",
            "인천  2632035  2890451\n",
            "대구  2431774  2466052\n"
          ]
        }
      ]
    },
    {
      "cell_type": "code",
      "source": [
        "import pandas as pd\n",
        "\n",
        "data = {\n",
        "    \"2015\": [9904312, 3448738, 2890451, 2466052],\n",
        "    \"2010\": [9631482, 3393191, 2632035, 2431774],\n",
        "    \"2005\": [9762546, 3512547, 2517680, 2456016],\n",
        "    \"2000\": [9853972, 3655437, 2466338, 2473990],\n",
        "    \"지역\": [\"수도권\", \"경상권\", \"수도권\", \"경상권\"],\n",
        "    \"2010-2015 증가율\": [0.0283, 0.0163, 0.0982, 0.0141]\n",
        "}\n",
        "\n",
        "index = [\"서울\", \"부산\", \"인천\", \"대구\"]\n",
        "columns = [\"지역\", \"2015\", \"2010\", \"2005\", \"2000\", \"2010-2015 증가율\"]\n",
        "\n",
        "df = pd.DataFrame(data, index=index, columns=columns)\n",
        "\n",
        "print(df[1:3])\n",
        "print(\"-----------------------------\")\n",
        "print(df[\"서울\":\"부산\"])\n",
        "print(\"-----------------------------\")\n",
        "print(df[\"2015\"][\"서울\"], df[\"2015\"][0])"
      ],
      "metadata": {
        "colab": {
          "base_uri": "https://localhost:8080/"
        },
        "id": "z_G43O6l5QJ-",
        "outputId": "7b7f926c-d074-4544-922e-7d5796d3a319"
      },
      "execution_count": 6,
      "outputs": [
        {
          "output_type": "stream",
          "name": "stdout",
          "text": [
            "     지역     2015     2010     2005     2000  2010-2015 증가율\n",
            "부산  경상권  3448738  3393191  3512547  3655437         0.0163\n",
            "인천  수도권  2890451  2632035  2517680  2466338         0.0982\n",
            "-----------------------------\n",
            "     지역     2015     2010     2005     2000  2010-2015 증가율\n",
            "서울  수도권  9904312  9631482  9762546  9853972         0.0283\n",
            "부산  경상권  3448738  3393191  3512547  3655437         0.0163\n",
            "-----------------------------\n",
            "9904312 9904312\n"
          ]
        },
        {
          "output_type": "stream",
          "name": "stderr",
          "text": [
            "<ipython-input-6-412b691670d1>:21: FutureWarning: Series.__getitem__ treating keys as positions is deprecated. In a future version, integer keys will always be treated as labels (consistent with DataFrame behavior). To access a value by position, use `ser.iloc[pos]`\n",
            "  print(df[\"2015\"][\"서울\"], df[\"2015\"][0])\n"
          ]
        }
      ]
    },
    {
      "cell_type": "code",
      "source": [
        "import numpy as np\n",
        "import pandas as pd\n",
        "\n",
        "data = {\n",
        "    \"2015\": [9904312, 3448738, 2890451, 2466052],\n",
        "    \"2010\": [9631482, 3393191, 2632035, 2431774],\n",
        "    \"2005\": [9762546, 3512547, 2517680, 2456016],\n",
        "    \"2000\": [9853972, 3655437, 2466338, 2473990],\n",
        "    \"지역\": [\"수도권\", \"경상권\", \"수도권\", \"경상권\"],\n",
        "    \"2010-2015 증가율\": [0.0283, 0.0163, 0.0982, 0.0141]\n",
        "}\n",
        "\n",
        "index = [\"서울\", \"부산\", \"인천\", \"대구\"]\n",
        "columns = [\"지역\", \"2015\", \"2010\", \"2005\", \"2000\", \"2010-2015 증가율\"]\n",
        "\n",
        "# df = pd.DataFrame(data, index=index, columns=columns)\n",
        "\n",
        "df = pd.DataFrame(np.arange(10, 22).reshape(3, 4),\n",
        "                  index=['r1', 'r2', 'r3'],\n",
        "                  columns=['A', 'B', 'C', 'D'])\n",
        "\n",
        "print(df);\n",
        "print(\"-----------------\")\n",
        "print(df.loc['r2']);\n",
        "print(\"-----------------\")\n",
        "print(df.loc['r2':'r3'])\n"
      ],
      "metadata": {
        "colab": {
          "base_uri": "https://localhost:8080/"
        },
        "id": "Zc3-RR5Y8Pek",
        "outputId": "68786a56-2b31-4eb5-9d67-6641c2025bee"
      },
      "execution_count": 8,
      "outputs": [
        {
          "output_type": "stream",
          "name": "stdout",
          "text": [
            "     A   B   C   D\n",
            "r1  10  11  12  13\n",
            "r2  14  15  16  17\n",
            "r3  18  19  20  21\n",
            "-----------------\n",
            "A    14\n",
            "B    15\n",
            "C    16\n",
            "D    17\n",
            "Name: r2, dtype: int64\n",
            "-----------------\n",
            "     A   B   C   D\n",
            "r2  14  15  16  17\n",
            "r3  18  19  20  21\n"
          ]
        }
      ]
    },
    {
      "cell_type": "code",
      "source": [
        "import numpy as np\n",
        "import pandas as pd\n",
        "\n",
        "\n",
        "df = pd.DataFrame(np.arange(10, 22).reshape(3, 4),\n",
        "                  index=['r1', 'r2', 'r3'],\n",
        "                  columns=['A', 'B', 'C', 'D'])\n",
        "\n",
        "print(df.loc[:,:]);\n",
        "print(\"---------------\")\n",
        "print(df.loc[\"r2\":\"r3\",'B'])\n",
        "print(\"---------------\")\n",
        "print(df.loc[\"r2\":\"r3\",'B':\"C\"])\n",
        "print(\"---------------\")\n",
        "print(df.loc[\"r2\",'B':\"C\"])\n",
        "print(\"---------------\")\n",
        "print(df.loc[\"r2\",'B'])\n",
        "print(\"---------------\")"
      ],
      "metadata": {
        "colab": {
          "base_uri": "https://localhost:8080/"
        },
        "id": "iXiK9EUL9I8r",
        "outputId": "18074a2e-1098-4ac8-ab81-bcfc76981417"
      },
      "execution_count": 10,
      "outputs": [
        {
          "output_type": "stream",
          "name": "stdout",
          "text": [
            "     A   B   C   D\n",
            "r1  10  11  12  13\n",
            "r2  14  15  16  17\n",
            "r3  18  19  20  21\n",
            "---------------\n",
            "r2    15\n",
            "r3    19\n",
            "Name: B, dtype: int64\n",
            "---------------\n",
            "     B   C\n",
            "r2  15  16\n",
            "r3  19  20\n",
            "---------------\n",
            "B    15\n",
            "C    16\n",
            "Name: r2, dtype: int64\n",
            "---------------\n",
            "15\n",
            "---------------\n"
          ]
        }
      ]
    },
    {
      "cell_type": "code",
      "source": [
        "import numpy as np\n",
        "import pandas as pd\n",
        "\n",
        "\n",
        "df = pd.DataFrame(np.arange(10, 22).reshape(3, 4),\n",
        "                  index=['r1', 'r2', 'r3'],\n",
        "                  columns=['A', 'B', 'C', 'D'])\n",
        "\n",
        "print(df);  print(\"---------------\")\n",
        "print(df.loc[df.A>10, 'B']); print(\"---------------\")\n",
        "print(df.loc[df.A>10, 'B':'C']); print(\"---------------\")\n"
      ],
      "metadata": {
        "colab": {
          "base_uri": "https://localhost:8080/"
        },
        "id": "OydyBPU3CnXu",
        "outputId": "d9aaf668-243a-45b9-e16d-cac3f077d28d"
      },
      "execution_count": 11,
      "outputs": [
        {
          "output_type": "stream",
          "name": "stdout",
          "text": [
            "     A   B   C   D\n",
            "r1  10  11  12  13\n",
            "r2  14  15  16  17\n",
            "r3  18  19  20  21\n",
            "---------------\n",
            "r2    15\n",
            "r3    19\n",
            "Name: B, dtype: int64\n",
            "---------------\n",
            "     B   C\n",
            "r2  15  16\n",
            "r3  19  20\n",
            "---------------\n"
          ]
        }
      ]
    },
    {
      "cell_type": "code",
      "source": [
        "import pandas as pd\n",
        "\n",
        "data = {\n",
        "    \"2015\": [9904312, 3448738, 2890451, 2466052],\n",
        "    \"2010\": [9631482, 3393191, 2632035, 2431774],\n",
        "    \"2005\": [9762546, 3512547, 2517680, 2456016],\n",
        "    \"2000\": [9853972, 3655437, 2466338, 2473990],\n",
        "    \"지역\": [\"수도권\", \"경상권\", \"수도권\", \"경상권\"],\n",
        "    \"2010-2015 증가율\": [0.0283, 0.0163, 0.0982, 0.0141]\n",
        "}\n",
        "\n",
        "index = [\"서울\", \"부산\", \"인천\", \"대구\"]\n",
        "columns = [\"지역\", \"2015\", \"2010\", \"2005\", \"2000\", \"2010-2015 증가율\"]\n",
        "\n",
        "df = pd.DataFrame(data, index=index, columns=columns)\n",
        "\n",
        "df[\"2010-2015 증가율\"] = df[\"2010-2015 증가율\"] * 100\n",
        "df[\"2005-2010 증가율\"] = ((df[\"2010\"] - df[\"2005\"]) / df[\"2005\"] * 100).round(2)\n",
        "del df[\"지역\"]\n",
        "\n",
        "print(df)\n"
      ],
      "metadata": {
        "colab": {
          "base_uri": "https://localhost:8080/"
        },
        "id": "fWeNGHcvDyxI",
        "outputId": "c17d0d93-1bc8-42b5-c686-e79e296b8732"
      },
      "execution_count": 12,
      "outputs": [
        {
          "output_type": "stream",
          "name": "stdout",
          "text": [
            "       2015     2010     2005     2000  2010-2015 증가율  2005-2010 증가율\n",
            "서울  9904312  9631482  9762546  9853972           2.83          -1.34\n",
            "부산  3448738  3393191  3512547  3655437           1.63          -3.40\n",
            "인천  2890451  2632035  2517680  2466338           9.82           4.54\n",
            "대구  2466052  2431774  2456016  2473990           1.41          -0.99\n"
          ]
        }
      ]
    },
    {
      "cell_type": "code",
      "source": [
        "import pandas as pd\n",
        "\n",
        "df = pd.read_csv('weather.csv')\n",
        "print(df)\n",
        "print('---------------')"
      ],
      "metadata": {
        "colab": {
          "base_uri": "https://localhost:8080/"
        },
        "id": "Rc6TvfxpEtNo",
        "outputId": "13e70377-0ca1-460b-9c45-67ab84a4f0dd"
      },
      "execution_count": 14,
      "outputs": [
        {
          "output_type": "stream",
          "name": "stdout",
          "text": [
            "              일시  평균기온  최대풍속  평균풍속\n",
            "0     2010-08-01  28.7   8.3   3.4\n",
            "1     2010-08-02  25.2   8.7   3.8\n",
            "2     2010-08-03  22.1   6.3   2.9\n",
            "3     2010-08-04  25.3   6.6   4.2\n",
            "4     2010-08-05  27.2   9.1   5.6\n",
            "...          ...   ...   ...   ...\n",
            "3648  2020-07-27  22.1   4.2   1.7\n",
            "3649  2020-07-28  21.9   4.5   1.6\n",
            "3650  2020-07-29  21.6   3.2   1.0\n",
            "3651  2020-07-30  22.9   9.7   2.4\n",
            "3652  2020-07-31  25.7   4.8   2.5\n",
            "\n",
            "[3653 rows x 4 columns]\n",
            "---------------\n"
          ]
        }
      ]
    },
    {
      "cell_type": "code",
      "source": [
        "import pandas as pd\n",
        "\n",
        "df = pd.read_csv('weather.csv')\n",
        "print(df.head()); print('-----------')\n",
        "print(df.tail()); print('-----------')\n",
        "print(df.describe())"
      ],
      "metadata": {
        "colab": {
          "base_uri": "https://localhost:8080/"
        },
        "id": "6Jub3-8HIZuF",
        "outputId": "18bb3b71-47c8-4e5b-c909-03810fce8a12"
      },
      "execution_count": 15,
      "outputs": [
        {
          "output_type": "stream",
          "name": "stdout",
          "text": [
            "           일시  평균기온  최대풍속  평균풍속\n",
            "0  2010-08-01  28.7   8.3   3.4\n",
            "1  2010-08-02  25.2   8.7   3.8\n",
            "2  2010-08-03  22.1   6.3   2.9\n",
            "3  2010-08-04  25.3   6.6   4.2\n",
            "4  2010-08-05  27.2   9.1   5.6\n",
            "-----------\n",
            "              일시  평균기온  최대풍속  평균풍속\n",
            "3648  2020-07-27  22.1   4.2   1.7\n",
            "3649  2020-07-28  21.9   4.5   1.6\n",
            "3650  2020-07-29  21.6   3.2   1.0\n",
            "3651  2020-07-30  22.9   9.7   2.4\n",
            "3652  2020-07-31  25.7   4.8   2.5\n",
            "-----------\n",
            "              평균기온         최대풍속         평균풍속\n",
            "count  3653.000000  3649.000000  3647.000000\n",
            "mean     12.942102     7.911099     3.936441\n",
            "std       8.538507     3.029862     1.888473\n",
            "min      -9.000000     2.000000     0.200000\n",
            "25%       5.400000     5.700000     2.500000\n",
            "50%      13.800000     7.600000     3.600000\n",
            "75%      20.100000     9.700000     5.000000\n",
            "max      31.300000    26.000000    14.900000\n"
          ]
        }
      ]
    },
    {
      "cell_type": "code",
      "source": [
        "import pandas as pd\n",
        "\n",
        "df = pd.read_csv('weather.csv', encoding='utf8',index_col=0)\n",
        "print(df.count())\n",
        "print('------------')\n",
        "print(df.mean())\n",
        "print('------------')\n",
        "print(df['평균기온'].mean())\n",
        "print('------------')\n",
        "print(df.loc[df['평균풍속'] >= 4, '평균기온'].mean())\n"
      ],
      "metadata": {
        "colab": {
          "base_uri": "https://localhost:8080/"
        },
        "id": "-8Jl1jVmQeNW",
        "outputId": "7c95796d-06fc-4162-b03f-4847d036746d"
      },
      "execution_count": 17,
      "outputs": [
        {
          "output_type": "stream",
          "name": "stdout",
          "text": [
            "평균기온    3653\n",
            "최대풍속    3649\n",
            "평균풍속    3647\n",
            "dtype: int64\n",
            "------------\n",
            "평균기온    12.942102\n",
            "최대풍속     7.911099\n",
            "평균풍속     3.936441\n",
            "dtype: float64\n",
            "------------\n",
            "12.942102381604162\n",
            "------------\n",
            "12.30135922330097\n"
          ]
        }
      ]
    },
    {
      "cell_type": "code",
      "source": [],
      "metadata": {
        "id": "x8CyfQ1xRj0F"
      },
      "execution_count": null,
      "outputs": []
    }
  ]
}